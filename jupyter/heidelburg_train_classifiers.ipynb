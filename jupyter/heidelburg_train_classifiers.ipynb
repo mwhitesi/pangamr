{
 "cells": [
  {
   "cell_type": "markdown",
   "metadata": {},
   "source": [
    "<div class=\"alert alert-block alert-info\">\n",
    "__Name__: heidelburg_train_classifiers<br/>\n",
    "__Description__: Build and evaluate classifiers for predicting AMR in S. Heidelburg <br/>\n",
    "__Author__: Matthew Whiteside matthew dot whiteside at canada dot ca<br/>\n",
    "__Date__: Nov 4, 2017<br/>\n",
    "__TODO__:<br/>\n",
    "</div>"
   ]
  },
  {
   "cell_type": "code",
   "execution_count": 1,
   "metadata": {
    "collapsed": true
   },
   "outputs": [],
   "source": [
    "%load_ext autoreload\n",
    "%autoreload 2"
   ]
  },
  {
   "cell_type": "code",
   "execution_count": 2,
   "metadata": {
    "collapsed": false
   },
   "outputs": [
    {
     "name": "stdout",
     "output_type": "stream",
     "text": [
      "WARN: OMP_NUM_THREADS=None =>\n",
      "... If you are using openblas if you are using openblas set OMP_NUM_THREADS=1 or risk subprocess calls hanging indefinitely\n"
     ]
    },
    {
     "name": "stderr",
     "output_type": "stream",
     "text": [
      "/home/matt/anaconda3/lib/python3.6/site-packages/sklearn/cross_validation.py:44: DeprecationWarning: This module was deprecated in version 0.18 in favor of the model_selection module into which all the refactored classes and functions are moved. Also note that the interface of the new CV iterators are different from that of this module. This module will be removed in 0.20.\n",
      "  \"This module will be removed in 0.20.\", DeprecationWarning)\n"
     ]
    }
   ],
   "source": [
    "import numpy as np\n",
    "import pandas as pd\n",
    "from sklearn.externals import joblib\n",
    "from hpsklearn import HyperoptEstimator, random_forest, gradient_boosting, xgboost_classification\n",
    "from hyperopt import tpe\n",
    "from sklearn.metrics import f1_score, classification_report\n",
    "import os\n",
    "os.chdir('../pangenome')\n",
    "import utils\n",
    "import classify\n",
    "import config"
   ]
  },
  {
   "cell_type": "code",
   "execution_count": 35,
   "metadata": {
    "collapsed": false
   },
   "outputs": [],
   "source": [
    "amr = joblib.load(config.SH['amr'])\n",
    "amr_list = joblib.load(config.SH['amr_list'])\n",
    "sample_index = joblib.load(config.SH['sample_index'])\n",
    "pg = joblib.load(config.SH['pg'])\n",
    "locus_list = joblib.load(config.SH['locus_list'])\n",
    "test_train_index = joblib.load(config.SH['test_train_index'])"
   ]
  },
  {
   "cell_type": "code",
   "execution_count": 36,
   "metadata": {
    "collapsed": false
   },
   "outputs": [],
   "source": [
    "X_train = pg[test_train_index == 'Training',:].toarray()\n",
    "X_test = pg[test_train_index == 'Validation',:].toarray()\n",
    "amr_train = amr[test_train_index == 'Training',:]\n",
    "amr_test = amr[test_train_index == 'Validation',:]\n",
    "# Define loss function\n",
    "def loss_fn(y_target, y_prediction):\n",
    "    return 1.0 - f1_score(y_target, y_prediction)"
   ]
  },
  {
   "cell_type": "code",
   "execution_count": 46,
   "metadata": {
    "collapsed": false
   },
   "outputs": [
    {
     "name": "stdout",
     "output_type": "stream",
     "text": [
      "0.880341880342\n",
      "RandomForestClassifier(bootstrap=False, class_weight=None, criterion='gini',\n",
      "            max_depth=None, max_features=None, max_leaf_nodes=None,\n",
      "            min_impurity_split=1e-07, min_samples_leaf=25,\n",
      "            min_samples_split=2, min_weight_fraction_leaf=0.0,\n",
      "            n_estimators=24, n_jobs=1, oob_score=False, random_state=1,\n",
      "            verbose=False, warm_start=False)\n",
      "0.888888888889\n",
      "GradientBoostingClassifier(criterion='friedman_mse', init=None,\n",
      "              learning_rate=0.0025039322018838646, loss='deviance',\n",
      "              max_depth=3, max_features=0.450875565909173,\n",
      "              max_leaf_nodes=None, min_impurity_split=1e-07,\n",
      "              min_samples_leaf=1, min_samples_split=2,\n",
      "              min_weight_fraction_leaf=0.0, n_estimators=25,\n",
      "              presort='auto', random_state=2, subsample=0.6253022997311121,\n",
      "              verbose=0, warm_start=False)\n"
     ]
    },
    {
     "name": "stderr",
     "output_type": "stream",
     "text": [
      "/home/matt/anaconda3/lib/python3.6/site-packages/sklearn/metrics/classification.py:1113: UndefinedMetricWarning: F-score is ill-defined and being set to 0.0 due to no predicted samples.\n",
      "  'precision', 'predicted', average, warn_for)\n",
      "/home/matt/anaconda3/lib/python3.6/site-packages/sklearn/metrics/classification.py:1113: UndefinedMetricWarning: F-score is ill-defined and being set to 0.0 due to no predicted samples.\n",
      "  'precision', 'predicted', average, warn_for)\n",
      "/home/matt/anaconda3/lib/python3.6/site-packages/sklearn/metrics/classification.py:1113: UndefinedMetricWarning: F-score is ill-defined and being set to 0.0 due to no predicted samples.\n",
      "  'precision', 'predicted', average, warn_for)\n",
      "/home/matt/anaconda3/lib/python3.6/site-packages/sklearn/metrics/classification.py:1113: UndefinedMetricWarning: F-score is ill-defined and being set to 0.0 due to no predicted samples.\n",
      "  'precision', 'predicted', average, warn_for)\n"
     ]
    },
    {
     "name": "stdout",
     "output_type": "stream",
     "text": [
      "0.897435897436\n",
      "XGBClassifier(base_score=0.5, colsample_bylevel=0.6194499022274127,\n",
      "       colsample_bytree=0.9308237529344665, gamma=0.006823479489194179,\n",
      "       learning_rate=0.019820954312667362, max_delta_step=0, max_depth=9,\n",
      "       min_child_weight=2, missing=nan, n_estimators=800, nthread=-1,\n",
      "       objective='binary:logistic', reg_alpha=0.29185218878955244,\n",
      "       reg_lambda=2.477682366207556, scale_pos_weight=1, seed=3,\n",
      "       silent=True, subsample=0.7458008940987453)\n"
     ]
    },
    {
     "data": {
      "text/plain": [
       "['/media/poolhouse/workspace/l_amr/data/NML/heidelburg_james/ml/amp_xbc.jpkl']"
      ]
     },
     "execution_count": 46,
     "metadata": {},
     "output_type": "execute_result"
    }
   ],
   "source": [
    "# AMP\n",
    "y_train = amr_train[:,amr_list == 'AMP'].flatten()\n",
    "y_test = amr_test[:,amr_list == 'AMP'].flatten()\n",
    "\n",
    "# Random forest\n",
    "rf = HyperoptEstimator( classifier=random_forest('rfc'), preprocessing=[], algo=tpe.suggest, loss_fn=loss_fn, trial_timeout=2000 )\n",
    "rf.fit( X_train, y_train )\n",
    "print(rf.score(X_test, y_test))\n",
    "\n",
    "rfc = rf._best_learner\n",
    "print(rfc)\n",
    "joblib.dump(rfc, config.SH['amp_rfc'])\n",
    "\n",
    "# Gradient Boosting\n",
    "gb = HyperoptEstimator( classifier=gradient_boosting('gbc'), preprocessing=[], algo=tpe.suggest, loss_fn=loss_fn, trial_timeout=2000 )\n",
    "gb.fit( X_train, y_train )\n",
    "print(gb.score(X_test, y_test))\n",
    "\n",
    "gbc = gb._best_learner\n",
    "print(gbc)\n",
    "joblib.dump(gbc, config.SH['amp_gbc'])\n",
    "\n",
    "# XGBoost\n",
    "xb = HyperoptEstimator( classifier=xgboost_classification('gbc'), preprocessing=[], algo=tpe.suggest, loss_fn=loss_fn, trial_timeout=2000 )\n",
    "xb.fit( X_train, y_train )\n",
    "print(xb.score(X_test, y_test))\n",
    "\n",
    "xbc = xb._best_learner\n",
    "print(xbc)\n",
    "joblib.dump(xbc, config.SH['amp_xbc'])\n"
   ]
  },
  {
   "cell_type": "code",
   "execution_count": 55,
   "metadata": {
    "collapsed": false
   },
   "outputs": [
    {
     "name": "stdout",
     "output_type": "stream",
     "text": [
      "0.965811965812\n",
      "RandomForestClassifier(bootstrap=True, class_weight=None, criterion='entropy',\n",
      "            max_depth=None, max_features=0.5204111913706242,\n",
      "            max_leaf_nodes=None, min_impurity_split=1e-07,\n",
      "            min_samples_leaf=1, min_samples_split=2,\n",
      "            min_weight_fraction_leaf=0.0, n_estimators=1234, n_jobs=1,\n",
      "            oob_score=False, random_state=3, verbose=False,\n",
      "            warm_start=False)\n",
      "0.957264957265\n",
      "GradientBoostingClassifier(criterion='friedman_mse', init=None,\n",
      "              learning_rate=0.030200196214378496, loss='deviance',\n",
      "              max_depth=3, max_features=0.8425335506135341,\n",
      "              max_leaf_nodes=None, min_impurity_split=1e-07,\n",
      "              min_samples_leaf=1, min_samples_split=2,\n",
      "              min_weight_fraction_leaf=0.0, n_estimators=11,\n",
      "              presort='auto', random_state=3, subsample=0.5487092692424331,\n",
      "              verbose=0, warm_start=False)\n",
      "0.974358974359\n",
      "XGBClassifier(base_score=0.5, colsample_bylevel=0.6235815489758578,\n",
      "       colsample_bytree=0.84054570493147, gamma=3.1054696305013096,\n",
      "       learning_rate=0.0016692810034719045, max_delta_step=0, max_depth=4,\n",
      "       min_child_weight=3, missing=nan, n_estimators=3400, nthread=-1,\n",
      "       objective='binary:logistic', reg_alpha=0.31150380462607036,\n",
      "       reg_lambda=1.3625360324731404, scale_pos_weight=1, seed=1,\n",
      "       silent=True, subsample=0.9037368921489277)\n"
     ]
    }
   ],
   "source": [
    "# FOX\n",
    "y_train = amr_train[:,amr_list == 'FOX'].flatten()\n",
    "y_test = amr_test[:,amr_list == 'FOX'].flatten()\n",
    "\n",
    "# Random forest\n",
    "rf = HyperoptEstimator( classifier=random_forest('rfc'), preprocessing=[], algo=tpe.suggest, trial_timeout=2000 )\n",
    "rf.fit( X_train, y_train )\n",
    "print(rf.score(X_test, y_test))\n",
    "\n",
    "rfc = rf._best_learner\n",
    "print(rfc)\n",
    "joblib.dump(rfc, config.SH['fox_rfc'])\n",
    "\n",
    "# Gradient Boosting\n",
    "gb = HyperoptEstimator( classifier=gradient_boosting('gbc'), preprocessing=[], algo=tpe.suggest, trial_timeout=2000 )\n",
    "gb.fit( X_train, y_train )\n",
    "print(gb.score(X_test, y_test))\n",
    "\n",
    "gbc = gb._best_learner\n",
    "print(gbc)\n",
    "joblib.dump(gbc, config.SH['fox_gbc'])\n",
    "\n",
    "# XGBoost\n",
    "xb = HyperoptEstimator( classifier=xgboost_classification('gbc'), preprocessing=[], algo=tpe.suggest, trial_timeout=2000 )\n",
    "xb.fit( X_train, y_train )\n",
    "print(xb.score(X_test, y_test))\n",
    "\n",
    "xbc = xb._best_learner\n",
    "print(xbc)\n",
    "#joblib.dump(xbc, config.SH['fox_xbc'])\n"
   ]
  },
  {
   "cell_type": "code",
   "execution_count": 48,
   "metadata": {
    "collapsed": false
   },
   "outputs": [
    {
     "data": {
      "text/plain": [
       "array(['AMP', 'FOX', 'STR', 'SOX', 'TCY'],\n",
       "      dtype='<U3')"
      ]
     },
     "execution_count": 48,
     "metadata": {},
     "output_type": "execute_result"
    }
   ],
   "source": [
    "amr_list"
   ]
  },
  {
   "cell_type": "code",
   "execution_count": 52,
   "metadata": {
    "collapsed": false
   },
   "outputs": [
    {
     "name": "stderr",
     "output_type": "stream",
     "text": [
      "/home/matt/anaconda3/lib/python3.6/site-packages/sklearn/metrics/classification.py:1113: UndefinedMetricWarning: F-score is ill-defined and being set to 0.0 due to no predicted samples.\n",
      "  'precision', 'predicted', average, warn_for)\n",
      "/home/matt/anaconda3/lib/python3.6/site-packages/sklearn/metrics/classification.py:1113: UndefinedMetricWarning: F-score is ill-defined and being set to 0.0 due to no predicted samples.\n",
      "  'precision', 'predicted', average, warn_for)\n"
     ]
    },
    {
     "name": "stdout",
     "output_type": "stream",
     "text": [
      "0.940170940171\n",
      "RandomForestClassifier(bootstrap=True, class_weight=None, criterion='entropy',\n",
      "            max_depth=4, max_features='sqrt', max_leaf_nodes=None,\n",
      "            min_impurity_split=1e-07, min_samples_leaf=1,\n",
      "            min_samples_split=2, min_weight_fraction_leaf=0.0,\n",
      "            n_estimators=16, n_jobs=1, oob_score=False, random_state=1,\n",
      "            verbose=False, warm_start=False)\n"
     ]
    },
    {
     "name": "stderr",
     "output_type": "stream",
     "text": [
      "/home/matt/anaconda3/lib/python3.6/site-packages/sklearn/metrics/classification.py:1113: UndefinedMetricWarning: F-score is ill-defined and being set to 0.0 due to no predicted samples.\n",
      "  'precision', 'predicted', average, warn_for)\n",
      "/home/matt/anaconda3/lib/python3.6/site-packages/sklearn/metrics/classification.py:1113: UndefinedMetricWarning: F-score is ill-defined and being set to 0.0 due to no predicted samples.\n",
      "  'precision', 'predicted', average, warn_for)\n",
      "/home/matt/anaconda3/lib/python3.6/site-packages/sklearn/metrics/classification.py:1113: UndefinedMetricWarning: F-score is ill-defined and being set to 0.0 due to no predicted samples.\n",
      "  'precision', 'predicted', average, warn_for)\n"
     ]
    },
    {
     "name": "stdout",
     "output_type": "stream",
     "text": [
      "0.974358974359\n",
      "GradientBoostingClassifier(criterion='friedman_mse', init=None,\n",
      "              learning_rate=0.03667888778055349, loss='exponential',\n",
      "              max_depth=2, max_features=0.334531506098776,\n",
      "              max_leaf_nodes=None, min_impurity_split=1e-07,\n",
      "              min_samples_leaf=1, min_samples_split=2,\n",
      "              min_weight_fraction_leaf=0.0, n_estimators=232,\n",
      "              presort='auto', random_state=0, subsample=0.5021421635040079,\n",
      "              verbose=0, warm_start=False)\n"
     ]
    },
    {
     "name": "stderr",
     "output_type": "stream",
     "text": [
      "/home/matt/anaconda3/lib/python3.6/site-packages/sklearn/metrics/classification.py:1113: UndefinedMetricWarning: F-score is ill-defined and being set to 0.0 due to no predicted samples.\n",
      "  'precision', 'predicted', average, warn_for)\n",
      "/home/matt/anaconda3/lib/python3.6/site-packages/sklearn/metrics/classification.py:1113: UndefinedMetricWarning: F-score is ill-defined and being set to 0.0 due to no predicted samples.\n",
      "  'precision', 'predicted', average, warn_for)\n",
      "/home/matt/anaconda3/lib/python3.6/site-packages/sklearn/metrics/classification.py:1113: UndefinedMetricWarning: F-score is ill-defined and being set to 0.0 due to no predicted samples.\n",
      "  'precision', 'predicted', average, warn_for)\n"
     ]
    },
    {
     "name": "stdout",
     "output_type": "stream",
     "text": [
      "0.940170940171\n",
      "XGBClassifier(base_score=0.5, colsample_bylevel=0.788813124016441,\n",
      "       colsample_bytree=0.6006540590698322, gamma=0.07580224147686597,\n",
      "       learning_rate=3.86479707267349e-05, max_delta_step=0, max_depth=2,\n",
      "       min_child_weight=2, missing=nan, n_estimators=3400, nthread=-1,\n",
      "       objective='binary:logistic', reg_alpha=0.1643066883467893,\n",
      "       reg_lambda=1.3120245038561862, scale_pos_weight=1, seed=2,\n",
      "       silent=True, subsample=0.6182551360088798)\n"
     ]
    },
    {
     "data": {
      "text/plain": [
       "['/media/poolhouse/workspace/l_amr/data/NML/heidelburg_james/ml/str_xbc.jpkl']"
      ]
     },
     "execution_count": 52,
     "metadata": {},
     "output_type": "execute_result"
    }
   ],
   "source": [
    "# STR\n",
    "y_train = amr_train[:,amr_list == 'STR'].flatten()\n",
    "y_test = amr_test[:,amr_list == 'STR'].flatten()\n",
    "\n",
    "# Random forest\n",
    "rf = HyperoptEstimator( classifier=random_forest('rfc'), preprocessing=[], algo=tpe.suggest, loss_fn=loss_fn, trial_timeout=2000 )\n",
    "rf.fit( X_train, y_train )\n",
    "print(rf.score(X_test, y_test))\n",
    "\n",
    "rfc = rf._best_learner\n",
    "print(rfc)\n",
    "joblib.dump(rfc, config.SH['str_rfc'])\n",
    "\n",
    "# Gradient Boosting\n",
    "gb = HyperoptEstimator( classifier=gradient_boosting('gbc'), preprocessing=[], algo=tpe.suggest, loss_fn=loss_fn, trial_timeout=2000 )\n",
    "gb.fit( X_train, y_train )\n",
    "print(gb.score(X_test, y_test))\n",
    "\n",
    "gbc = gb._best_learner\n",
    "print(gbc)\n",
    "joblib.dump(gbc, config.SH['str_gbc'])\n",
    "\n",
    "# XGBoost\n",
    "xb = HyperoptEstimator( classifier=xgboost_classification('gbc'), preprocessing=[], algo=tpe.suggest, loss_fn=loss_fn, trial_timeout=2000 )\n",
    "xb.fit( X_train, y_train )\n",
    "print(xb.score(X_test, y_test))\n",
    "\n",
    "xbc = xb._best_learner\n",
    "print(xbc)\n",
    "joblib.dump(xbc, config.SH['str_xbc'])"
   ]
  },
  {
   "cell_type": "code",
   "execution_count": 53,
   "metadata": {
    "collapsed": false
   },
   "outputs": [
    {
     "name": "stderr",
     "output_type": "stream",
     "text": [
      "/home/matt/anaconda3/lib/python3.6/site-packages/sklearn/metrics/classification.py:1113: UndefinedMetricWarning: F-score is ill-defined and being set to 0.0 due to no predicted samples.\n",
      "  'precision', 'predicted', average, warn_for)\n",
      "/home/matt/anaconda3/lib/python3.6/site-packages/sklearn/metrics/classification.py:1113: UndefinedMetricWarning: F-score is ill-defined and being set to 0.0 due to no predicted samples.\n",
      "  'precision', 'predicted', average, warn_for)\n"
     ]
    },
    {
     "name": "stdout",
     "output_type": "stream",
     "text": [
      "0.982905982906\n",
      "RandomForestClassifier(bootstrap=True, class_weight=None, criterion='entropy',\n",
      "            max_depth=None, max_features=0.937066001509703,\n",
      "            max_leaf_nodes=None, min_impurity_split=1e-07,\n",
      "            min_samples_leaf=1, min_samples_split=2,\n",
      "            min_weight_fraction_leaf=0.0, n_estimators=132, n_jobs=1,\n",
      "            oob_score=False, random_state=0, verbose=False,\n",
      "            warm_start=False)\n"
     ]
    },
    {
     "name": "stderr",
     "output_type": "stream",
     "text": [
      "/home/matt/anaconda3/lib/python3.6/site-packages/sklearn/metrics/classification.py:1113: UndefinedMetricWarning: F-score is ill-defined and being set to 0.0 due to no predicted samples.\n",
      "  'precision', 'predicted', average, warn_for)\n",
      "/home/matt/anaconda3/lib/python3.6/site-packages/sklearn/metrics/classification.py:1113: UndefinedMetricWarning: F-score is ill-defined and being set to 0.0 due to no predicted samples.\n",
      "  'precision', 'predicted', average, warn_for)\n",
      "/home/matt/anaconda3/lib/python3.6/site-packages/sklearn/metrics/classification.py:1113: UndefinedMetricWarning: F-score is ill-defined and being set to 0.0 due to no predicted samples.\n",
      "  'precision', 'predicted', average, warn_for)\n",
      "/home/matt/anaconda3/lib/python3.6/site-packages/sklearn/metrics/classification.py:1113: UndefinedMetricWarning: F-score is ill-defined and being set to 0.0 due to no predicted samples.\n",
      "  'precision', 'predicted', average, warn_for)\n",
      "/home/matt/anaconda3/lib/python3.6/site-packages/sklearn/metrics/classification.py:1113: UndefinedMetricWarning: F-score is ill-defined and being set to 0.0 due to no predicted samples.\n",
      "  'precision', 'predicted', average, warn_for)\n",
      "/home/matt/anaconda3/lib/python3.6/site-packages/sklearn/metrics/classification.py:1113: UndefinedMetricWarning: F-score is ill-defined and being set to 0.0 due to no predicted samples.\n",
      "  'precision', 'predicted', average, warn_for)\n",
      "/home/matt/anaconda3/lib/python3.6/site-packages/sklearn/metrics/classification.py:1113: UndefinedMetricWarning: F-score is ill-defined and being set to 0.0 due to no predicted samples.\n",
      "  'precision', 'predicted', average, warn_for)\n"
     ]
    },
    {
     "name": "stdout",
     "output_type": "stream",
     "text": [
      "0.982905982906\n",
      "GradientBoostingClassifier(criterion='friedman_mse', init=None,\n",
      "              learning_rate=0.545108316119107, loss='deviance',\n",
      "              max_depth=None, max_features=0.8867839114891446,\n",
      "              max_leaf_nodes=None, min_impurity_split=1e-07,\n",
      "              min_samples_leaf=4, min_samples_split=2,\n",
      "              min_weight_fraction_leaf=0.0, n_estimators=12,\n",
      "              presort='auto', random_state=4, subsample=0.9253978207816151,\n",
      "              verbose=0, warm_start=False)\n"
     ]
    },
    {
     "name": "stderr",
     "output_type": "stream",
     "text": [
      "/home/matt/anaconda3/lib/python3.6/site-packages/sklearn/metrics/classification.py:1113: UndefinedMetricWarning: F-score is ill-defined and being set to 0.0 due to no predicted samples.\n",
      "  'precision', 'predicted', average, warn_for)\n",
      "/home/matt/anaconda3/lib/python3.6/site-packages/sklearn/metrics/classification.py:1113: UndefinedMetricWarning: F-score is ill-defined and being set to 0.0 due to no predicted samples.\n",
      "  'precision', 'predicted', average, warn_for)\n",
      "/home/matt/anaconda3/lib/python3.6/site-packages/sklearn/metrics/classification.py:1113: UndefinedMetricWarning: F-score is ill-defined and being set to 0.0 due to no predicted samples.\n",
      "  'precision', 'predicted', average, warn_for)\n",
      "/home/matt/anaconda3/lib/python3.6/site-packages/sklearn/metrics/classification.py:1113: UndefinedMetricWarning: F-score is ill-defined and being set to 0.0 due to no predicted samples.\n",
      "  'precision', 'predicted', average, warn_for)\n",
      "/home/matt/anaconda3/lib/python3.6/site-packages/sklearn/metrics/classification.py:1113: UndefinedMetricWarning: F-score is ill-defined and being set to 0.0 due to no predicted samples.\n",
      "  'precision', 'predicted', average, warn_for)\n",
      "/home/matt/anaconda3/lib/python3.6/site-packages/sklearn/metrics/classification.py:1113: UndefinedMetricWarning: F-score is ill-defined and being set to 0.0 due to no predicted samples.\n",
      "  'precision', 'predicted', average, warn_for)\n"
     ]
    },
    {
     "name": "stdout",
     "output_type": "stream",
     "text": [
      "0.957264957265\n",
      "XGBClassifier(base_score=0.5, colsample_bylevel=0.9368967686733244,\n",
      "       colsample_bytree=0.9654881785039708, gamma=0.14931291590264104,\n",
      "       learning_rate=0.0002473003531724035, max_delta_step=0, max_depth=2,\n",
      "       min_child_weight=1, missing=nan, n_estimators=1200, nthread=-1,\n",
      "       objective='binary:logistic', reg_alpha=0.008975942107309435,\n",
      "       reg_lambda=1.2306486189020434, scale_pos_weight=1, seed=1,\n",
      "       silent=True, subsample=0.8121553901490658)\n"
     ]
    },
    {
     "data": {
      "text/plain": [
       "['/media/poolhouse/workspace/l_amr/data/NML/heidelburg_james/ml/sox_xbc.jpkl']"
      ]
     },
     "execution_count": 53,
     "metadata": {},
     "output_type": "execute_result"
    }
   ],
   "source": [
    "# SOX\n",
    "y_train = amr_train[:,amr_list == 'SOX'].flatten()\n",
    "y_test = amr_test[:,amr_list == 'SOX'].flatten()\n",
    "\n",
    "# Random forest\n",
    "rf = HyperoptEstimator( classifier=random_forest('rfc'), preprocessing=[], algo=tpe.suggest, loss_fn=loss_fn, trial_timeout=2000 )\n",
    "rf.fit( X_train, y_train )\n",
    "print(rf.score(X_test, y_test))\n",
    "\n",
    "rfc = rf._best_learner\n",
    "print(rfc)\n",
    "joblib.dump(rfc, config.SH['sox_rfc'])\n",
    "\n",
    "# Gradient Boosting\n",
    "gb = HyperoptEstimator( classifier=gradient_boosting('gbc'), preprocessing=[], algo=tpe.suggest, loss_fn=loss_fn, trial_timeout=2000 )\n",
    "gb.fit( X_train, y_train )\n",
    "print(gb.score(X_test, y_test))\n",
    "\n",
    "gbc = gb._best_learner\n",
    "print(gbc)\n",
    "joblib.dump(gbc, config.SH['sox_gbc'])\n",
    "\n",
    "# XGBoost\n",
    "xb = HyperoptEstimator( classifier=xgboost_classification('gbc'), preprocessing=[], algo=tpe.suggest, loss_fn=loss_fn, trial_timeout=2000 )\n",
    "xb.fit( X_train, y_train )\n",
    "print(xb.score(X_test, y_test))\n",
    "\n",
    "xbc = xb._best_learner\n",
    "print(xbc)\n",
    "joblib.dump(xbc, config.SH['sox_xbc'])"
   ]
  },
  {
   "cell_type": "code",
   "execution_count": 54,
   "metadata": {
    "collapsed": false
   },
   "outputs": [
    {
     "name": "stderr",
     "output_type": "stream",
     "text": [
      "/home/matt/anaconda3/lib/python3.6/site-packages/sklearn/metrics/classification.py:1113: UndefinedMetricWarning: F-score is ill-defined and being set to 0.0 due to no predicted samples.\n",
      "  'precision', 'predicted', average, warn_for)\n"
     ]
    },
    {
     "name": "stdout",
     "output_type": "stream",
     "text": [
      "0.794871794872\n",
      "RandomForestClassifier(bootstrap=True, class_weight=None, criterion='entropy',\n",
      "            max_depth=None, max_features=0.1615044840341744,\n",
      "            max_leaf_nodes=None, min_impurity_split=1e-07,\n",
      "            min_samples_leaf=21, min_samples_split=2,\n",
      "            min_weight_fraction_leaf=0.0, n_estimators=782, n_jobs=1,\n",
      "            oob_score=False, random_state=2, verbose=False,\n",
      "            warm_start=False)\n"
     ]
    },
    {
     "name": "stderr",
     "output_type": "stream",
     "text": [
      "/home/matt/anaconda3/lib/python3.6/site-packages/sklearn/metrics/classification.py:1113: UndefinedMetricWarning: F-score is ill-defined and being set to 0.0 due to no predicted samples.\n",
      "  'precision', 'predicted', average, warn_for)\n",
      "/home/matt/anaconda3/lib/python3.6/site-packages/sklearn/metrics/classification.py:1113: UndefinedMetricWarning: F-score is ill-defined and being set to 0.0 due to no predicted samples.\n",
      "  'precision', 'predicted', average, warn_for)\n"
     ]
    },
    {
     "name": "stdout",
     "output_type": "stream",
     "text": [
      "0.854700854701\n",
      "GradientBoostingClassifier(criterion='friedman_mse', init=None,\n",
      "              learning_rate=0.02206464000085056, loss='exponential',\n",
      "              max_depth=None, max_features=0.08772963579864812,\n",
      "              max_leaf_nodes=None, min_impurity_split=1e-07,\n",
      "              min_samples_leaf=27, min_samples_split=2,\n",
      "              min_weight_fraction_leaf=0.0, n_estimators=82,\n",
      "              presort='auto', random_state=2, subsample=0.7060654225719311,\n",
      "              verbose=0, warm_start=False)\n"
     ]
    },
    {
     "name": "stderr",
     "output_type": "stream",
     "text": [
      "/home/matt/anaconda3/lib/python3.6/site-packages/sklearn/metrics/classification.py:1113: UndefinedMetricWarning: F-score is ill-defined and being set to 0.0 due to no predicted samples.\n",
      "  'precision', 'predicted', average, warn_for)\n",
      "/home/matt/anaconda3/lib/python3.6/site-packages/sklearn/metrics/classification.py:1113: UndefinedMetricWarning: F-score is ill-defined and being set to 0.0 due to no predicted samples.\n",
      "  'precision', 'predicted', average, warn_for)\n",
      "/home/matt/anaconda3/lib/python3.6/site-packages/sklearn/metrics/classification.py:1113: UndefinedMetricWarning: F-score is ill-defined and being set to 0.0 due to no predicted samples.\n",
      "  'precision', 'predicted', average, warn_for)\n",
      "/home/matt/anaconda3/lib/python3.6/site-packages/sklearn/metrics/classification.py:1113: UndefinedMetricWarning: F-score is ill-defined and being set to 0.0 due to no predicted samples.\n",
      "  'precision', 'predicted', average, warn_for)\n"
     ]
    },
    {
     "name": "stdout",
     "output_type": "stream",
     "text": [
      "0.897435897436\n",
      "XGBClassifier(base_score=0.5, colsample_bylevel=0.5065795158895923,\n",
      "       colsample_bytree=0.5701108430765363, gamma=0.0012322856981295518,\n",
      "       learning_rate=0.04950706088782154, max_delta_step=0, max_depth=1,\n",
      "       min_child_weight=6, missing=nan, n_estimators=3200, nthread=-1,\n",
      "       objective='binary:logistic', reg_alpha=0.0026330252031758383,\n",
      "       reg_lambda=1.4031163066674648, scale_pos_weight=1, seed=3,\n",
      "       silent=True, subsample=0.7488192028231)\n"
     ]
    },
    {
     "data": {
      "text/plain": [
       "['/media/poolhouse/workspace/l_amr/data/NML/heidelburg_james/ml/tcy_xbc.jpkl']"
      ]
     },
     "execution_count": 54,
     "metadata": {},
     "output_type": "execute_result"
    }
   ],
   "source": [
    "# TCY\n",
    "y_train = amr_train[:,amr_list == 'TCY'].flatten()\n",
    "y_test = amr_test[:,amr_list == 'TCY'].flatten()\n",
    "\n",
    "# Random forest\n",
    "rf = HyperoptEstimator( classifier=random_forest('rfc'), preprocessing=[], algo=tpe.suggest, loss_fn=loss_fn, trial_timeout=2000 )\n",
    "rf.fit( X_train, y_train )\n",
    "print(rf.score(X_test, y_test))\n",
    "\n",
    "rfc = rf._best_learner\n",
    "print(rfc)\n",
    "joblib.dump(rfc, config.SH['tcy_rfc'])\n",
    "\n",
    "# Gradient Boosting\n",
    "gb = HyperoptEstimator( classifier=gradient_boosting('gbc'), preprocessing=[], algo=tpe.suggest, loss_fn=loss_fn, trial_timeout=2000 )\n",
    "gb.fit( X_train, y_train )\n",
    "print(gb.score(X_test, y_test))\n",
    "\n",
    "gbc = gb._best_learner\n",
    "print(gbc)\n",
    "joblib.dump(gbc, config.SH['tcy_gbc'])\n",
    "\n",
    "# XGBoost\n",
    "xb = HyperoptEstimator( classifier=xgboost_classification('gbc'), preprocessing=[], algo=tpe.suggest, loss_fn=loss_fn, trial_timeout=2000 )\n",
    "xb.fit( X_train, y_train )\n",
    "print(xb.score(X_test, y_test))\n",
    "\n",
    "xbc = xb._best_learner\n",
    "print(xbc)\n",
    "joblib.dump(xbc, config.SH['tcy_xbc'])"
   ]
  },
  {
   "cell_type": "code",
   "execution_count": null,
   "metadata": {
    "collapsed": true
   },
   "outputs": [],
   "source": []
  }
 ],
 "metadata": {
  "kernelspec": {
   "display_name": "Python 3",
   "language": "python",
   "name": "python3"
  },
  "language_info": {
   "codemirror_mode": {
    "name": "ipython",
    "version": 3
   },
   "file_extension": ".py",
   "mimetype": "text/x-python",
   "name": "python",
   "nbconvert_exporter": "python",
   "pygments_lexer": "ipython3",
   "version": "3.6.0"
  }
 },
 "nbformat": 4,
 "nbformat_minor": 2
}
