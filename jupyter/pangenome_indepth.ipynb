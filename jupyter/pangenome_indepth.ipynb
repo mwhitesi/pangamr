{
 "cells": [
  {
   "cell_type": "markdown",
   "metadata": {},
   "source": [
    "<div class=\"alert alert-block alert-info\">\n",
    "__Name__: pangenome_indepth<br/>\n",
    "__Description__: Identify top pangenome region (presence/absence) used in classification for PATRIC AMR data. Identify potential reasons for misclassification<br/>\n",
    "__Author__: Matthew Whiteside matthew dot whiteside at canada dot ca<br/>\n",
    "__Date__: Oct 10, 2017<br/>\n",
    "__TODO__:<br/>\n",
    "</div>"
   ]
  },
  {
   "cell_type": "code",
   "execution_count": 1,
   "metadata": {
    "collapsed": true
   },
   "outputs": [],
   "source": [
    "import pandas as pd\n",
    "import numpy as np\n",
    "import scipy as sp\n",
    "import sklearn\n",
    "import os"
   ]
  },
  {
   "cell_type": "code",
   "execution_count": 2,
   "metadata": {
    "collapsed": true
   },
   "outputs": [],
   "source": [
    "os.chdir('../pangenome')"
   ]
  },
  {
   "cell_type": "code",
   "execution_count": 3,
   "metadata": {
    "collapsed": true
   },
   "outputs": [],
   "source": [
    "import config\n",
    "import utils\n",
    "import classify"
   ]
  },
  {
   "cell_type": "code",
   "execution_count": 4,
   "metadata": {
    "collapsed": true
   },
   "outputs": [],
   "source": [
    "%load_ext autoreload\n",
    "%autoreload 2"
   ]
  },
  {
   "cell_type": "code",
   "execution_count": 5,
   "metadata": {
    "collapsed": true
   },
   "outputs": [],
   "source": [
    "# Load pangenome regions\n",
    "pg, genome_list, locus_list = utils.read_panseq(config.PANSEQ['pangenome_file'])"
   ]
  },
  {
   "cell_type": "code",
   "execution_count": 6,
   "metadata": {
    "collapsed": false
   },
   "outputs": [],
   "source": [
    "# Load amr resistance phenotypes\n",
    "amr,amr_list = utils.read_amr(config.PHENOTYPE['amr_file'], genome_list)"
   ]
  },
  {
   "cell_type": "code",
   "execution_count": 7,
   "metadata": {
    "collapsed": false
   },
   "outputs": [
    {
     "data": {
      "text/html": [
       "<div>\n",
       "<table border=\"1\" class=\"dataframe\">\n",
       "  <thead>\n",
       "    <tr style=\"text-align: right;\">\n",
       "      <th></th>\n",
       "      <th>LocusID</th>\n",
       "      <th>Accession</th>\n",
       "      <th>Description</th>\n",
       "    </tr>\n",
       "  </thead>\n",
       "  <tbody>\n",
       "    <tr>\n",
       "      <th>0</th>\n",
       "      <td>3013261977000</td>\n",
       "      <td>gi|378982922|ref|YP_005246077.1|</td>\n",
       "      <td>DNA transfer protein [Salmonella enterica subs...</td>\n",
       "    </tr>\n",
       "    <tr>\n",
       "      <th>1</th>\n",
       "      <td>3013261978000</td>\n",
       "      <td>gi|526222303|ref|YP_008266337.1|</td>\n",
       "      <td>hypothetical protein SE451236_16640 [Salmonell...</td>\n",
       "    </tr>\n",
       "    <tr>\n",
       "      <th>2</th>\n",
       "      <td>3013261979000</td>\n",
       "      <td>gi|16765561|ref|NP_461176.1|</td>\n",
       "      <td>hypothetical protein STM2233 [Salmonella enter...</td>\n",
       "    </tr>\n",
       "    <tr>\n",
       "      <th>3</th>\n",
       "      <td>3013261980000</td>\n",
       "      <td>gi|353563111|gb|EHC29555.1|</td>\n",
       "      <td>phosphotransferase of PTS system [Salmonella e...</td>\n",
       "    </tr>\n",
       "    <tr>\n",
       "      <th>4</th>\n",
       "      <td>3013261981000</td>\n",
       "      <td>gi|487649446|ref|WP_001746646.1|</td>\n",
       "      <td>galactonate dehydratase, partial [Salmonella e...</td>\n",
       "    </tr>\n",
       "    <tr>\n",
       "      <th>5</th>\n",
       "      <td>3013261982000</td>\n",
       "      <td>gi|447178632|ref|WP_001255888.1|</td>\n",
       "      <td>integrase [Gammaproteobacteria]</td>\n",
       "    </tr>\n",
       "    <tr>\n",
       "      <th>6</th>\n",
       "      <td>3013261983000</td>\n",
       "      <td>gi|194738380|ref|YP_002115115.1|</td>\n",
       "      <td>tail protein [Salmonella enterica subsp. enter...</td>\n",
       "    </tr>\n",
       "    <tr>\n",
       "      <th>7</th>\n",
       "      <td>3013261984000</td>\n",
       "      <td>gi|487580929|ref|WP_001722937.1|</td>\n",
       "      <td>mutagenesis protein, partial [Salmonella enter...</td>\n",
       "    </tr>\n",
       "    <tr>\n",
       "      <th>8</th>\n",
       "      <td>3013261985000</td>\n",
       "      <td>gi|487517437|ref|WP_001707741.1|</td>\n",
       "      <td>putative transposase, partial [Salmonella ente...</td>\n",
       "    </tr>\n",
       "    <tr>\n",
       "      <th>9</th>\n",
       "      <td>3013261986000</td>\n",
       "      <td>gi|261888791|ref|YP_003264480.1|</td>\n",
       "      <td>replication protein [Salmonella enterica subsp...</td>\n",
       "    </tr>\n",
       "    <tr>\n",
       "      <th>10</th>\n",
       "      <td>3013261987000</td>\n",
       "      <td>gi|487407119|ref|WP_001675186.1|</td>\n",
       "      <td>exonuclease VIII, partial [Salmonella enterica]</td>\n",
       "    </tr>\n",
       "    <tr>\n",
       "      <th>11</th>\n",
       "      <td>3013261988000</td>\n",
       "      <td>gi|553901412|ref|WP_023139348.1|</td>\n",
       "      <td>hypothetical protein [Salmonella enterica]</td>\n",
       "    </tr>\n",
       "    <tr>\n",
       "      <th>12</th>\n",
       "      <td>3013261989000</td>\n",
       "      <td>gi|445977986|ref|WP_000055841.1|</td>\n",
       "      <td>conjugal transfer protein TrbB [Salmonella ent...</td>\n",
       "    </tr>\n",
       "    <tr>\n",
       "      <th>13</th>\n",
       "      <td>3013261990000</td>\n",
       "      <td>gi|17233439|ref|NP_490558.1|</td>\n",
       "      <td>plasmid SOS inhibition protein A [Salmonella e...</td>\n",
       "    </tr>\n",
       "    <tr>\n",
       "      <th>14</th>\n",
       "      <td>3013261991000</td>\n",
       "      <td>gi|554667398|ref|WP_023171115.1|</td>\n",
       "      <td>phage terminase large subunit [Salmonella ente...</td>\n",
       "    </tr>\n",
       "    <tr>\n",
       "      <th>15</th>\n",
       "      <td>3013261991000</td>\n",
       "      <td>gi|554667398|ref|WP_023171115.1|</td>\n",
       "      <td>phage terminase large subunit [Salmonella ente...</td>\n",
       "    </tr>\n",
       "    <tr>\n",
       "      <th>16</th>\n",
       "      <td>3013261992000</td>\n",
       "      <td>gi|378449677|ref|YP_005237036.1|</td>\n",
       "      <td>hypothetical protein STM14_1454 [Salmonella en...</td>\n",
       "    </tr>\n",
       "    <tr>\n",
       "      <th>17</th>\n",
       "      <td>3013261996000</td>\n",
       "      <td>gi|564956577|gb|ETE43436.1|</td>\n",
       "      <td>CDP-diacylglycerol pyrophosphatase [Salmonella...</td>\n",
       "    </tr>\n",
       "    <tr>\n",
       "      <th>18</th>\n",
       "      <td>3013261997000</td>\n",
       "      <td>gi|446058959|ref|WP_000136814.1|</td>\n",
       "      <td>glycerol kinase [Salmonella enterica]</td>\n",
       "    </tr>\n",
       "    <tr>\n",
       "      <th>19</th>\n",
       "      <td>3013261998000</td>\n",
       "      <td>gi|555283726|ref|WP_023259252.1|</td>\n",
       "      <td>hypothetical protein, partial [Salmonella ente...</td>\n",
       "    </tr>\n",
       "    <tr>\n",
       "      <th>20</th>\n",
       "      <td>3013261999000</td>\n",
       "      <td>gi|446260321|ref|WP_000338176.1|</td>\n",
       "      <td>acetylglutamate kinase [Salmonella enterica]</td>\n",
       "    </tr>\n",
       "    <tr>\n",
       "      <th>21</th>\n",
       "      <td>3013262001000</td>\n",
       "      <td>gi|194449579|ref|YP_002048149.1|</td>\n",
       "      <td>thiamine biosynthesis protein ThiC [Salmonella...</td>\n",
       "    </tr>\n",
       "    <tr>\n",
       "      <th>22</th>\n",
       "      <td>3013262002000</td>\n",
       "      <td>gi|555245343|ref|WP_023229543.1|</td>\n",
       "      <td>homoserine O-succinyltransferase [Salmonella e...</td>\n",
       "    </tr>\n",
       "    <tr>\n",
       "      <th>23</th>\n",
       "      <td>3013262003000</td>\n",
       "      <td>gi|487399260|ref|WP_001668786.1|</td>\n",
       "      <td>tail protein [Salmonella enterica]</td>\n",
       "    </tr>\n",
       "    <tr>\n",
       "      <th>24</th>\n",
       "      <td>3013262004000</td>\n",
       "      <td>gi|487597398|ref|WP_001729774.1|</td>\n",
       "      <td>glucose-6-phosphate isomerase, partial [Salmon...</td>\n",
       "    </tr>\n",
       "    <tr>\n",
       "      <th>25</th>\n",
       "      <td>3013262005000</td>\n",
       "      <td>gi|555260742|ref|WP_023242905.1|</td>\n",
       "      <td>zinc uptake transcriptional repressor [Salmone...</td>\n",
       "    </tr>\n",
       "    <tr>\n",
       "      <th>26</th>\n",
       "      <td>3013262006000</td>\n",
       "      <td>gi|564956395|gb|ETE43265.1|</td>\n",
       "      <td>ABC transporter [Salmonella enterica subsp. en...</td>\n",
       "    </tr>\n",
       "    <tr>\n",
       "      <th>27</th>\n",
       "      <td>3013262007000</td>\n",
       "      <td>gi|555235641|ref|WP_023221611.1|</td>\n",
       "      <td>putative type-1 secretion protein [Salmonella ...</td>\n",
       "    </tr>\n",
       "    <tr>\n",
       "      <th>28</th>\n",
       "      <td>3013262008000</td>\n",
       "      <td>gi|564963595|gb|ETE50269.1|</td>\n",
       "      <td>heme lyase subunit NrfE [Salmonella enterica s...</td>\n",
       "    </tr>\n",
       "    <tr>\n",
       "      <th>29</th>\n",
       "      <td>3013262009000</td>\n",
       "      <td>gi|555250583|ref|WP_023234110.1|</td>\n",
       "      <td>arginine decarboxylase [Salmonella enterica]</td>\n",
       "    </tr>\n",
       "    <tr>\n",
       "      <th>...</th>\n",
       "      <td>...</td>\n",
       "      <td>...</td>\n",
       "      <td>...</td>\n",
       "    </tr>\n",
       "    <tr>\n",
       "      <th>7096</th>\n",
       "      <td>27119357462000</td>\n",
       "      <td>gi|519090109|ref|WP_020245984.1|</td>\n",
       "      <td>transposase [Escherichia coli]</td>\n",
       "    </tr>\n",
       "    <tr>\n",
       "      <th>7097</th>\n",
       "      <td>27119357462000</td>\n",
       "      <td>gi|519090109|ref|WP_020245984.1|</td>\n",
       "      <td>transposase [Escherichia coli]</td>\n",
       "    </tr>\n",
       "    <tr>\n",
       "      <th>7098</th>\n",
       "      <td>27119357462000</td>\n",
       "      <td>gi|519090109|ref|WP_020245984.1|</td>\n",
       "      <td>transposase [Escherichia coli]</td>\n",
       "    </tr>\n",
       "    <tr>\n",
       "      <th>7099</th>\n",
       "      <td>27119357463000</td>\n",
       "      <td>gi|564960681|gb|ETE47449.1|</td>\n",
       "      <td>hypothetical protein L287_23860 [Salmonella en...</td>\n",
       "    </tr>\n",
       "    <tr>\n",
       "      <th>7100</th>\n",
       "      <td>27119357464000</td>\n",
       "      <td>gi|564960650|gb|ETE47418.1|</td>\n",
       "      <td>K88 minor fimbrial protein FaeF [Salmonella en...</td>\n",
       "    </tr>\n",
       "    <tr>\n",
       "      <th>7101</th>\n",
       "      <td>27119357465000</td>\n",
       "      <td>gi|553935876|ref|WP_023144950.1|</td>\n",
       "      <td>hypothetical protein [Escherichia coli]</td>\n",
       "    </tr>\n",
       "    <tr>\n",
       "      <th>7102</th>\n",
       "      <td>27119357466000</td>\n",
       "      <td>gi|525832525|ref|YP_008258159.1|</td>\n",
       "      <td>hypothetical protein CFSAN001921_24510 [Salmon...</td>\n",
       "    </tr>\n",
       "    <tr>\n",
       "      <th>7103</th>\n",
       "      <td>27119357467000</td>\n",
       "      <td>gi|525832353|ref|YP_008258181.1|</td>\n",
       "      <td>enterobactin synthase subunit E [Salmonella en...</td>\n",
       "    </tr>\n",
       "    <tr>\n",
       "      <th>7104</th>\n",
       "      <td>27119357468000</td>\n",
       "      <td>gi|564960592|gb|ETE47361.1|</td>\n",
       "      <td>putative inner membrane ABC-transporter [Salmo...</td>\n",
       "    </tr>\n",
       "    <tr>\n",
       "      <th>7105</th>\n",
       "      <td>27119357469000</td>\n",
       "      <td>gi|564960688|gb|ETE47456.1|</td>\n",
       "      <td>putative transposase [Salmonella enterica subs...</td>\n",
       "    </tr>\n",
       "    <tr>\n",
       "      <th>7106</th>\n",
       "      <td>27119357470000</td>\n",
       "      <td>gi|9507561|ref|NP_052892.1|</td>\n",
       "      <td>possible transposase of IS1326 [Shigella flexn...</td>\n",
       "    </tr>\n",
       "    <tr>\n",
       "      <th>7107</th>\n",
       "      <td>27119357471000</td>\n",
       "      <td>gi|485944895|ref|WP_001492935.1|</td>\n",
       "      <td>toxin co-regulated pilus biosynthesis Q family...</td>\n",
       "    </tr>\n",
       "    <tr>\n",
       "      <th>7108</th>\n",
       "      <td>27119357472000</td>\n",
       "      <td>gi|447064277|ref|WP_001141533.1|</td>\n",
       "      <td>hypothetical protein, partial [Escherichia coli]</td>\n",
       "    </tr>\n",
       "    <tr>\n",
       "      <th>7109</th>\n",
       "      <td>27119357473000</td>\n",
       "      <td>gi|410592552|ref|YP_006952349.1|</td>\n",
       "      <td>hypothetical protein FinQ [Escherichia coli]</td>\n",
       "    </tr>\n",
       "    <tr>\n",
       "      <th>7110</th>\n",
       "      <td>27119357474000</td>\n",
       "      <td>gi|487639676|ref|WP_001742988.1|</td>\n",
       "      <td>hypothetical protein [Escherichia coli]</td>\n",
       "    </tr>\n",
       "    <tr>\n",
       "      <th>7111</th>\n",
       "      <td>27119357474000</td>\n",
       "      <td>gi|487639676|ref|WP_001742988.1|</td>\n",
       "      <td>hypothetical protein [Escherichia coli]</td>\n",
       "    </tr>\n",
       "    <tr>\n",
       "      <th>7112</th>\n",
       "      <td>27119357475000</td>\n",
       "      <td>gi|488363973|ref|WP_002433358.1|</td>\n",
       "      <td>hypothetical protein [Escherichia fergusonii]</td>\n",
       "    </tr>\n",
       "    <tr>\n",
       "      <th>7113</th>\n",
       "      <td>27119357476000</td>\n",
       "      <td>gi|544574301|ref|YP_008574688.1|</td>\n",
       "      <td>hypothetical protein [Salmonella enterica subs...</td>\n",
       "    </tr>\n",
       "    <tr>\n",
       "      <th>7114</th>\n",
       "      <td>27119357477000</td>\n",
       "      <td>gi|545165001|ref|WP_021519659.1|</td>\n",
       "      <td>hypothetical protein, partial [Escherichia coli]</td>\n",
       "    </tr>\n",
       "    <tr>\n",
       "      <th>7115</th>\n",
       "      <td>28625988089000</td>\n",
       "      <td>gi|386625224|ref|YP_006144952.1|</td>\n",
       "      <td>putative EA22-like protein [Escherichia coli O...</td>\n",
       "    </tr>\n",
       "    <tr>\n",
       "      <th>7116</th>\n",
       "      <td>28625988090000</td>\n",
       "      <td>gi|485723333|ref|WP_001354417.1|</td>\n",
       "      <td>conjugal transfer protein TraD [Escherichia coli]</td>\n",
       "    </tr>\n",
       "    <tr>\n",
       "      <th>7117</th>\n",
       "      <td>28625988091000</td>\n",
       "      <td>gi|487474223|ref|WP_001696704.1|</td>\n",
       "      <td>hypothetical protein [Escherichia coli]</td>\n",
       "    </tr>\n",
       "    <tr>\n",
       "      <th>7118</th>\n",
       "      <td>28625988092000</td>\n",
       "      <td>gi|446604210|ref|WP_000681556.1|</td>\n",
       "      <td>hypothetical protein [Salmonella enterica]</td>\n",
       "    </tr>\n",
       "    <tr>\n",
       "      <th>7119</th>\n",
       "      <td>28625988093000</td>\n",
       "      <td>gi|447194863|ref|WP_001272119.1|</td>\n",
       "      <td>hypothetical protein [Escherichia coli]</td>\n",
       "    </tr>\n",
       "    <tr>\n",
       "      <th>7120</th>\n",
       "      <td>28625988094000</td>\n",
       "      <td>gi|446876292|ref|WP_000953548.1|</td>\n",
       "      <td>type VI secretion protein [Escherichia coli]</td>\n",
       "    </tr>\n",
       "    <tr>\n",
       "      <th>7121</th>\n",
       "      <td>28625988095000</td>\n",
       "      <td>gi|157412055|ref|YP_001481395.1|</td>\n",
       "      <td>hypothetical protein APECO1_O1R42 [Escherichia...</td>\n",
       "    </tr>\n",
       "    <tr>\n",
       "      <th>7122</th>\n",
       "      <td>28625988096000</td>\n",
       "      <td>gi|410652645|ref|YP_006955936.1|</td>\n",
       "      <td>IncF plasmid conjugative transfer pilus assemb...</td>\n",
       "    </tr>\n",
       "    <tr>\n",
       "      <th>7123</th>\n",
       "      <td>28625988097000</td>\n",
       "      <td>gi|554960811|ref|WP_023205500.1|</td>\n",
       "      <td>TrhC [Salmonella enterica]</td>\n",
       "    </tr>\n",
       "    <tr>\n",
       "      <th>7124</th>\n",
       "      <td>28625988098000</td>\n",
       "      <td>gi|38347991|ref|NP_941240.1|</td>\n",
       "      <td>putative inner membrane protein [Serratia marc...</td>\n",
       "    </tr>\n",
       "    <tr>\n",
       "      <th>7125</th>\n",
       "      <td>28625988099000</td>\n",
       "      <td>gi|157412092|ref|YP_001481432.1|</td>\n",
       "      <td>putative capsule biosynthesis protein [Escheri...</td>\n",
       "    </tr>\n",
       "  </tbody>\n",
       "</table>\n",
       "<p>7126 rows × 3 columns</p>\n",
       "</div>"
      ],
      "text/plain": [
       "             LocusID                         Accession  \\\n",
       "0      3013261977000  gi|378982922|ref|YP_005246077.1|   \n",
       "1      3013261978000  gi|526222303|ref|YP_008266337.1|   \n",
       "2      3013261979000      gi|16765561|ref|NP_461176.1|   \n",
       "3      3013261980000       gi|353563111|gb|EHC29555.1|   \n",
       "4      3013261981000  gi|487649446|ref|WP_001746646.1|   \n",
       "5      3013261982000  gi|447178632|ref|WP_001255888.1|   \n",
       "6      3013261983000  gi|194738380|ref|YP_002115115.1|   \n",
       "7      3013261984000  gi|487580929|ref|WP_001722937.1|   \n",
       "8      3013261985000  gi|487517437|ref|WP_001707741.1|   \n",
       "9      3013261986000  gi|261888791|ref|YP_003264480.1|   \n",
       "10     3013261987000  gi|487407119|ref|WP_001675186.1|   \n",
       "11     3013261988000  gi|553901412|ref|WP_023139348.1|   \n",
       "12     3013261989000  gi|445977986|ref|WP_000055841.1|   \n",
       "13     3013261990000      gi|17233439|ref|NP_490558.1|   \n",
       "14     3013261991000  gi|554667398|ref|WP_023171115.1|   \n",
       "15     3013261991000  gi|554667398|ref|WP_023171115.1|   \n",
       "16     3013261992000  gi|378449677|ref|YP_005237036.1|   \n",
       "17     3013261996000       gi|564956577|gb|ETE43436.1|   \n",
       "18     3013261997000  gi|446058959|ref|WP_000136814.1|   \n",
       "19     3013261998000  gi|555283726|ref|WP_023259252.1|   \n",
       "20     3013261999000  gi|446260321|ref|WP_000338176.1|   \n",
       "21     3013262001000  gi|194449579|ref|YP_002048149.1|   \n",
       "22     3013262002000  gi|555245343|ref|WP_023229543.1|   \n",
       "23     3013262003000  gi|487399260|ref|WP_001668786.1|   \n",
       "24     3013262004000  gi|487597398|ref|WP_001729774.1|   \n",
       "25     3013262005000  gi|555260742|ref|WP_023242905.1|   \n",
       "26     3013262006000       gi|564956395|gb|ETE43265.1|   \n",
       "27     3013262007000  gi|555235641|ref|WP_023221611.1|   \n",
       "28     3013262008000       gi|564963595|gb|ETE50269.1|   \n",
       "29     3013262009000  gi|555250583|ref|WP_023234110.1|   \n",
       "...              ...                               ...   \n",
       "7096  27119357462000  gi|519090109|ref|WP_020245984.1|   \n",
       "7097  27119357462000  gi|519090109|ref|WP_020245984.1|   \n",
       "7098  27119357462000  gi|519090109|ref|WP_020245984.1|   \n",
       "7099  27119357463000       gi|564960681|gb|ETE47449.1|   \n",
       "7100  27119357464000       gi|564960650|gb|ETE47418.1|   \n",
       "7101  27119357465000  gi|553935876|ref|WP_023144950.1|   \n",
       "7102  27119357466000  gi|525832525|ref|YP_008258159.1|   \n",
       "7103  27119357467000  gi|525832353|ref|YP_008258181.1|   \n",
       "7104  27119357468000       gi|564960592|gb|ETE47361.1|   \n",
       "7105  27119357469000       gi|564960688|gb|ETE47456.1|   \n",
       "7106  27119357470000       gi|9507561|ref|NP_052892.1|   \n",
       "7107  27119357471000  gi|485944895|ref|WP_001492935.1|   \n",
       "7108  27119357472000  gi|447064277|ref|WP_001141533.1|   \n",
       "7109  27119357473000  gi|410592552|ref|YP_006952349.1|   \n",
       "7110  27119357474000  gi|487639676|ref|WP_001742988.1|   \n",
       "7111  27119357474000  gi|487639676|ref|WP_001742988.1|   \n",
       "7112  27119357475000  gi|488363973|ref|WP_002433358.1|   \n",
       "7113  27119357476000  gi|544574301|ref|YP_008574688.1|   \n",
       "7114  27119357477000  gi|545165001|ref|WP_021519659.1|   \n",
       "7115  28625988089000  gi|386625224|ref|YP_006144952.1|   \n",
       "7116  28625988090000  gi|485723333|ref|WP_001354417.1|   \n",
       "7117  28625988091000  gi|487474223|ref|WP_001696704.1|   \n",
       "7118  28625988092000  gi|446604210|ref|WP_000681556.1|   \n",
       "7119  28625988093000  gi|447194863|ref|WP_001272119.1|   \n",
       "7120  28625988094000  gi|446876292|ref|WP_000953548.1|   \n",
       "7121  28625988095000  gi|157412055|ref|YP_001481395.1|   \n",
       "7122  28625988096000  gi|410652645|ref|YP_006955936.1|   \n",
       "7123  28625988097000  gi|554960811|ref|WP_023205500.1|   \n",
       "7124  28625988098000      gi|38347991|ref|NP_941240.1|   \n",
       "7125  28625988099000  gi|157412092|ref|YP_001481432.1|   \n",
       "\n",
       "                                            Description  \n",
       "0     DNA transfer protein [Salmonella enterica subs...  \n",
       "1     hypothetical protein SE451236_16640 [Salmonell...  \n",
       "2     hypothetical protein STM2233 [Salmonella enter...  \n",
       "3     phosphotransferase of PTS system [Salmonella e...  \n",
       "4     galactonate dehydratase, partial [Salmonella e...  \n",
       "5                       integrase [Gammaproteobacteria]  \n",
       "6     tail protein [Salmonella enterica subsp. enter...  \n",
       "7     mutagenesis protein, partial [Salmonella enter...  \n",
       "8     putative transposase, partial [Salmonella ente...  \n",
       "9     replication protein [Salmonella enterica subsp...  \n",
       "10      exonuclease VIII, partial [Salmonella enterica]  \n",
       "11           hypothetical protein [Salmonella enterica]  \n",
       "12    conjugal transfer protein TrbB [Salmonella ent...  \n",
       "13    plasmid SOS inhibition protein A [Salmonella e...  \n",
       "14    phage terminase large subunit [Salmonella ente...  \n",
       "15    phage terminase large subunit [Salmonella ente...  \n",
       "16    hypothetical protein STM14_1454 [Salmonella en...  \n",
       "17    CDP-diacylglycerol pyrophosphatase [Salmonella...  \n",
       "18                glycerol kinase [Salmonella enterica]  \n",
       "19    hypothetical protein, partial [Salmonella ente...  \n",
       "20         acetylglutamate kinase [Salmonella enterica]  \n",
       "21    thiamine biosynthesis protein ThiC [Salmonella...  \n",
       "22    homoserine O-succinyltransferase [Salmonella e...  \n",
       "23                   tail protein [Salmonella enterica]  \n",
       "24    glucose-6-phosphate isomerase, partial [Salmon...  \n",
       "25    zinc uptake transcriptional repressor [Salmone...  \n",
       "26    ABC transporter [Salmonella enterica subsp. en...  \n",
       "27    putative type-1 secretion protein [Salmonella ...  \n",
       "28    heme lyase subunit NrfE [Salmonella enterica s...  \n",
       "29         arginine decarboxylase [Salmonella enterica]  \n",
       "...                                                 ...  \n",
       "7096                     transposase [Escherichia coli]  \n",
       "7097                     transposase [Escherichia coli]  \n",
       "7098                     transposase [Escherichia coli]  \n",
       "7099  hypothetical protein L287_23860 [Salmonella en...  \n",
       "7100  K88 minor fimbrial protein FaeF [Salmonella en...  \n",
       "7101            hypothetical protein [Escherichia coli]  \n",
       "7102  hypothetical protein CFSAN001921_24510 [Salmon...  \n",
       "7103  enterobactin synthase subunit E [Salmonella en...  \n",
       "7104  putative inner membrane ABC-transporter [Salmo...  \n",
       "7105  putative transposase [Salmonella enterica subs...  \n",
       "7106  possible transposase of IS1326 [Shigella flexn...  \n",
       "7107  toxin co-regulated pilus biosynthesis Q family...  \n",
       "7108   hypothetical protein, partial [Escherichia coli]  \n",
       "7109       hypothetical protein FinQ [Escherichia coli]  \n",
       "7110            hypothetical protein [Escherichia coli]  \n",
       "7111            hypothetical protein [Escherichia coli]  \n",
       "7112      hypothetical protein [Escherichia fergusonii]  \n",
       "7113  hypothetical protein [Salmonella enterica subs...  \n",
       "7114   hypothetical protein, partial [Escherichia coli]  \n",
       "7115  putative EA22-like protein [Escherichia coli O...  \n",
       "7116  conjugal transfer protein TraD [Escherichia coli]  \n",
       "7117            hypothetical protein [Escherichia coli]  \n",
       "7118         hypothetical protein [Salmonella enterica]  \n",
       "7119            hypothetical protein [Escherichia coli]  \n",
       "7120       type VI secretion protein [Escherichia coli]  \n",
       "7121  hypothetical protein APECO1_O1R42 [Escherichia...  \n",
       "7122  IncF plasmid conjugative transfer pilus assemb...  \n",
       "7123                         TrhC [Salmonella enterica]  \n",
       "7124  putative inner membrane protein [Serratia marc...  \n",
       "7125  putative capsule biosynthesis protein [Escheri...  \n",
       "\n",
       "[7126 rows x 3 columns]"
      ]
     },
     "execution_count": 7,
     "metadata": {},
     "output_type": "execute_result"
    }
   ],
   "source": [
    "# Load pangenome loci annotations\n",
    "annot = utils.read_annot(config.ANNOTATION['blast_file'])\n",
    "annot"
   ]
  },
  {
   "cell_type": "code",
   "execution_count": 8,
   "metadata": {
    "collapsed": false
   },
   "outputs": [],
   "source": [
    "from sklearn.model_selection import cross_val_predict, GridSearchCV\n",
    "from sklearn.linear_model import RidgeClassifierCV\n",
    "from sklearn.ensemble import RandomForestClassifier\n",
    "from sklearn.svm import LinearSVC\n",
    "from sklearn import metrics"
   ]
  },
  {
   "cell_type": "code",
   "execution_count": 9,
   "metadata": {
    "collapsed": false
   },
   "outputs": [],
   "source": [
    "# Examine ampicillin\n",
    "d = np.argwhere(amr_list == 'ampicillin').item(0)\n",
    "validrows = ~np.isnan(amr[:,d])\n",
    "validrows\n",
    "X = pg[validrows,:]\n",
    "y = amr[validrows,d]"
   ]
  },
  {
   "cell_type": "code",
   "execution_count": 182,
   "metadata": {
    "collapsed": false
   },
   "outputs": [
    {
     "data": {
      "text/plain": [
       "54"
      ]
     },
     "execution_count": 182,
     "metadata": {},
     "output_type": "execute_result"
    }
   ],
   "source": [
    "# Ridge Regression Classifier\n",
    "clf = RidgeClassifierCV(alphas=[54], cv=5)\n",
    "clf.fit(X,y)\n",
    "clf.alpha_"
   ]
  },
  {
   "cell_type": "code",
   "execution_count": 94,
   "metadata": {
    "collapsed": false
   },
   "outputs": [],
   "source": [
    "# Compute predicted values\n",
    "clf2 = RidgeClassifier(alpha=54,solver=\"sag\")\n",
    "predicted = cross_val_predict(clf2, X, y, cv=5, n_jobs=4)"
   ]
  },
  {
   "cell_type": "code",
   "execution_count": 95,
   "metadata": {
    "collapsed": false
   },
   "outputs": [
    {
     "name": "stdout",
     "output_type": "stream",
     "text": [
      "             precision    recall  f1-score   support\n",
      "\n",
      "        0.0       0.86      0.50      0.63        64\n",
      "        1.0       0.90      0.98      0.94       278\n",
      "\n",
      "avg / total       0.89      0.89      0.88       342\n",
      "\n"
     ]
    }
   ],
   "source": [
    "print(metrics.classification_report(y, predicted))"
   ]
  },
  {
   "cell_type": "code",
   "execution_count": 287,
   "metadata": {
    "collapsed": false
   },
   "outputs": [
    {
     "name": "stdout",
     "output_type": "stream",
     "text": [
      "[[ 32  32]\n",
      " [  5 273]]\n"
     ]
    }
   ],
   "source": [
    "fp = genome_list[(y != predicted) & (y == 0)]\n",
    "fn = genome_list[(y != predicted) & (y == 1)]\n",
    "print(metrics.confusion_matrix(y, predicted))"
   ]
  },
  {
   "cell_type": "code",
   "execution_count": 277,
   "metadata": {
    "collapsed": false
   },
   "outputs": [
    {
     "name": "stdout",
     "output_type": "stream",
     "text": [
      "18079571516000\t0.12090173845392979\tgi|553902307|ref|WP_023139374.1|\tLysR family transcriptional regulator [Salmonella enterica]\n",
      "21092833417000\t0.12090173845392979\tgi|169797577|ref|YP_001715370.1|\ttetracycline repressor protein class G [Acinetobacter baumannii AYE]\n",
      "19586202464000\t0.12090173845392979\tgi|487908194|ref|WP_001981660.1|\tMFS transporter [Vibrio cholerae]\n",
      "16572940561000\t0.12083437099506932\tgi|90265358|emb|CAJ77040.1|\tTransposase [Acinetobacter baumannii]\n",
      "28625988430000\t0.12056397798091725\tgi|550903217|ref|YP_008672309.1|\tchloramphenicol and florfenicol resistance protein [Salmonella enterica subsp. enterica serovar Typhimurium str. DT104]\n",
      "15066309608000\t0.10814703104933744\tgi|487909260|ref|WP_001982726.1|\thypothetical protein [Vibrio cholerae]\n",
      "19586202470000\t-0.08784118663281325\tgi|485701964|ref|WP_001335071.1|\thypothetical protein, partial [Escherichia coli]\n",
      "25612726264000\t0.08398364519228638\tgi|446675187|ref|WP_000752533.1|\thypothetical protein [Salmonella enterica]\n",
      "21092833621000\t-0.07854739497057656\tgi|486298149|ref|WP_001575065.1|\thypothetical protein [Salmonella enterica]\n",
      "6026523892000\t0.07565490786167174\tgi|379699185|ref|YP_005245655.1|\thypothetical protein STM474_p1086 [Salmonella enterica subsp. enterica serovar Typhimurium str. ST4/74]\n",
      "28625988279000\t0.06460281791657484\tgi|487465276|ref|WP_001694174.1|\thypothetical protein [Salmonella enterica]\n",
      "13559678635000\t0.06362332360915683\tgi|18466603|ref|NP_569411.1|\tbeta-lactamase [Salmonella enterica subsp. enterica serovar Typhi str. CT18]\n",
      "16572940550000\t0.06137188844806829\tgi|498543585|ref|YP_007969733.1|\tputative IntI1 integrase [Klebsiella pneumoniae subsp. pneumoniae KPX]\n",
      "1506631068000\t-0.06082607642986555\tgi|564958500|gb|ETE45307.1|\thypothetical protein M574_10255 [Salmonella enterica subsp. enterica serovar Infantis str. 335-3]\n",
      "12053047863000\t0.059089458469947155\tgi|490348163|ref|WP_004227936.1|\thypothetical protein [Klebsiella pneumoniae]\n",
      "25612726271000\t-0.05130059221907949\tgi|550902052|ref|YP_008671144.1|\tputative prophage protein [Salmonella enterica subsp. enterica serovar Typhimurium str. DT104]\n",
      "22599464378000\t0.051150028857313005\tgi|485778666|ref|WP_001401842.1|\thypothetical protein, partial [Escherichia coli]\n",
      "24106095307000\t0.050506053285455765\tgi|16765905|ref|NP_461520.1|\ttransposase-like protein [Salmonella enterica subsp. enterica serovar Typhimurium str. LT2]\n",
      "21092833517000\t-0.05046230448956688\tgi|554634009|ref|WP_023168971.1|\tphage integrase [Salmonella enterica]\n",
      "1506631089000\t-0.04919984586687434\tgi|379699542|ref|YP_005241270.1|\tIS3 transposase [Salmonella enterica subsp. enterica serovar Typhimurium str. ST4/74]\n",
      "28625988412000\t-0.048134059858553395\tgi|486190462|ref|WP_001543366.1|\thypothetical protein, partial [Escherichia coli]\n",
      "10546416915000\t0.04722863492083587\tgi|554915766|ref|WP_023193640.1|\thost colonisation factor (ShdA), partial [Salmonella enterica]\n",
      "4519892947000\t0.046066647332759045\tgi|62179535|ref|YP_215952.1|\tGifsy-2 prophage RecT [Salmonella enterica subsp. enterica serovar Choleraesuis str. SC-B67]\n",
      "6026523901000\t0.044608456351501034\tgi|537702019|ref|WP_020979084.1|\texodeoxyribonuclease, partial [Salmonella enterica]\n",
      "1506631017000\t0.044180880764007585\tgi|410654357|ref|YP_006957938.1|\treplication protein RepC [Salmonella enterica subsp. enterica serovar Derby]\n",
      "30132619115000\t0.044054938176145295\tgi|487837369|ref|WP_001910835.1|\thypothetical protein [Vibrio cholerae]\n",
      "7533154848000\t-0.04376745290311093\tgi|565626266|ref|WP_023893036.1|\texodeoxyribonuclease, partial [Salmonella enterica]\n",
      "9039785873000\t0.043240279915335356\tgi|555269026|ref|WP_023250160.1|\tanion transporter [Salmonella enterica]\n",
      "4519892924000\t0.042503029902087194\tgi|487474470|ref|WP_001696771.1|\tdihydropteroate synthase, partial [Escherichia coli]\n",
      "9039786031000\t0.0415449110062686\tgi|62126452|gb|AAX64155.1|\thypothetical protein SCH_0249 [Salmonella enterica subsp. enterica serovar Choleraesuis str. SC-B67]\n",
      "30132619271000\t0.04152156573838387\tgi|446237724|ref|WP_000315579.1|\thypothetical protein, partial [Salmonella enterica]\n",
      "24106095311000\t-0.0411655530812494\tgi|446969864|ref|WP_001047120.1|\tantitermination protein [Shigella flexneri]\n",
      "9039785778000\t0.04041501887714938\tgi|78047881|ref|YP_364056.1|\tstreptomycin 3''-kinase [Xanthomonas campestris pv. vesicatoria str. 85-10]\n",
      "12053047684000\t0.039990521263487684\tgi|446189841|ref|WP_000267696.1|\treplication protein [Enterobacteriaceae]\n",
      "24106095297000\t-0.03806706196662208\tgi|471180340|gb|AGI05105.1|\tMobA [Escherichia coli]\n",
      "22599464615000\t0.03741368373847396\tgi|187736860|ref|YP_001816598.1|\tdihydropteroate synthase [Escherichia coli 1520]\n",
      "15066309734000\t-0.03731912894905503\tgi|446303325|ref|WP_000381180.1|\thypothetical protein [Salmonella enterica]\n",
      "25612726261000\t-0.03715561711565008\tgi|410652586|ref|YP_006955867.1|\tDNA polymerase III theta subunit [Salmonella enterica subsp. enterica serovar Pullorum]\n",
      "19586202668000\t0.03694791953212054\tgi|560177059|emb|CDF55705.1|\telongation factor Tu, possible pseudogene [Salmonella enterica subsp. enterica serovar Bovismorbificans str. 3114]\n",
      "24106095321000\t0.03680578081675293\tgi|487417575|ref|WP_001684746.1|\tpeptidase [Salmonella enterica]\n"
     ]
    }
   ],
   "source": [
    "tops = np.argsort(np.absolute(clf.coef_[0]))[::-1]\n",
    "for i in tops[:40]:\n",
    "    hits = annot[annot.LocusID == locus_list[i]]\n",
    "    print('{}\\t{}\\t{}\\t{}'.format(locus_list[i],coeff[i],hits['Accession'].values[0],hits['Description'].values[0]))"
   ]
  },
  {
   "cell_type": "code",
   "execution_count": 294,
   "metadata": {
    "collapsed": false
   },
   "outputs": [
    {
     "data": {
      "text/plain": [
       "['85569_dot_102',\n",
       " '85569_dot_110',\n",
       " '85569_dot_125',\n",
       " '85569_dot_128',\n",
       " '85569_dot_132',\n",
       " '85569_dot_141',\n",
       " '85569_dot_144',\n",
       " '85569_dot_167',\n",
       " '85569_dot_210',\n",
       " '85569_dot_218',\n",
       " '85569_dot_223',\n",
       " '85569_dot_225',\n",
       " '85569_dot_233',\n",
       " '85569_dot_240',\n",
       " '85569_dot_258',\n",
       " '85569_dot_259',\n",
       " '85569_dot_273',\n",
       " '85569_dot_283',\n",
       " '85569_dot_285',\n",
       " '85569_dot_307',\n",
       " '85569_dot_314',\n",
       " '85569_dot_320',\n",
       " '85569_dot_323',\n",
       " '85569_dot_333',\n",
       " '85569_dot_343',\n",
       " '85569_dot_35',\n",
       " '85569_dot_354',\n",
       " '85569_dot_355',\n",
       " '85569_dot_38',\n",
       " '85569_dot_40',\n",
       " '85569_dot_66',\n",
       " '85569_dot_90']"
      ]
     },
     "execution_count": 294,
     "metadata": {},
     "output_type": "execute_result"
    }
   ],
   "source": [
    "fp.tolist()"
   ]
  },
  {
   "cell_type": "code",
   "execution_count": 293,
   "metadata": {
    "collapsed": false
   },
   "outputs": [
    {
     "data": {
      "text/plain": [
       "['85569_dot_105',\n",
       " '85569_dot_11',\n",
       " '85569_dot_345',\n",
       " '85569_dot_44',\n",
       " '85569_dot_86']"
      ]
     },
     "execution_count": 293,
     "metadata": {},
     "output_type": "execute_result"
    }
   ],
   "source": [
    "fn.tolist()"
   ]
  },
  {
   "cell_type": "code",
   "execution_count": 291,
   "metadata": {
    "collapsed": false
   },
   "outputs": [
    {
     "data": {
      "text/plain": [
       "(32,)"
      ]
     },
     "execution_count": 291,
     "metadata": {},
     "output_type": "execute_result"
    }
   ],
   "source": [
    "fp.shape"
   ]
  },
  {
   "cell_type": "code",
   "execution_count": 10,
   "metadata": {
    "collapsed": false
   },
   "outputs": [],
   "source": [
    "# Ensemble Classifiers\n",
    "# RandomForest\n",
    "rfc = RandomForestClassifier(n_jobs=-1, max_features= 'sqrt' , n_estimators=50, oob_score = True) \n",
    "param_grid = { \n",
    "    'n_estimators': [50, 200, 700, 1000],\n",
    "    'max_features': ['auto', 'sqrt', 'log2']\n",
    "}\n",
    "\n",
    "cv_rfc = GridSearchCV(estimator=rfc, param_grid=param_grid, cv=5)"
   ]
  },
  {
   "cell_type": "code",
   "execution_count": 309,
   "metadata": {
    "collapsed": false
   },
   "outputs": [
    {
     "ename": "AttributeError",
     "evalue": "module 'numpy.random' has no attribute 'mtrand'",
     "output_type": "error",
     "traceback": [
      "\u001b[0;31m---------------------------------------------------------------------------\u001b[0m",
      "\u001b[0;31mAttributeError\u001b[0m                            Traceback (most recent call last)",
      "\u001b[0;32m<ipython-input-309-7e8148ff7374>\u001b[0m in \u001b[0;36m<module>\u001b[0;34m()\u001b[0m\n\u001b[1;32m      1\u001b[0m \u001b[0;32mimport\u001b[0m \u001b[0mnumpy\u001b[0m \u001b[0;32mas\u001b[0m \u001b[0mnp\u001b[0m\u001b[0;34m\u001b[0m\u001b[0m\n\u001b[0;32m----> 2\u001b[0;31m \u001b[0mnp\u001b[0m\u001b[0;34m.\u001b[0m\u001b[0mrandom\u001b[0m\u001b[0;34m.\u001b[0m\u001b[0mmtrand\u001b[0m\u001b[0;34m\u001b[0m\u001b[0m\n\u001b[0m",
      "\u001b[0;31mAttributeError\u001b[0m: module 'numpy.random' has no attribute 'mtrand'"
     ]
    }
   ],
   "source": [
    "import numpy as np\n",
    "np.random.mtrand"
   ]
  },
  {
   "cell_type": "code",
   "execution_count": 11,
   "metadata": {
    "collapsed": false
   },
   "outputs": [
    {
     "data": {
      "text/plain": [
       "GridSearchCV(cv=5, error_score='raise',\n",
       "       estimator=RandomForestClassifier(bootstrap=True, class_weight=None, criterion='gini',\n",
       "            max_depth=None, max_features='sqrt', max_leaf_nodes=None,\n",
       "            min_impurity_split=1e-07, min_samples_leaf=1,\n",
       "            min_samples_split=2, min_weight_fraction_leaf=0.0,\n",
       "            n_estimators=50, n_jobs=-1, oob_score=True, random_state=None,\n",
       "            verbose=0, warm_start=False),\n",
       "       fit_params={}, iid=True, n_jobs=1,\n",
       "       param_grid={'n_estimators': [50, 200, 700, 1000], 'max_features': ['auto', 'sqrt', 'log2']},\n",
       "       pre_dispatch='2*n_jobs', refit=True, return_train_score=True,\n",
       "       scoring=None, verbose=0)"
      ]
     },
     "execution_count": 11,
     "metadata": {},
     "output_type": "execute_result"
    }
   ],
   "source": [
    "cv_rfc.fit(X,y)"
   ]
  },
  {
   "cell_type": "code",
   "execution_count": 12,
   "metadata": {
    "collapsed": false
   },
   "outputs": [
    {
     "data": {
      "text/plain": [
       "{'max_features': 'auto', 'n_estimators': 50}"
      ]
     },
     "execution_count": 12,
     "metadata": {},
     "output_type": "execute_result"
    }
   ],
   "source": [
    "cv_rfc.best_params_"
   ]
  },
  {
   "cell_type": "code",
   "execution_count": null,
   "metadata": {
    "collapsed": true
   },
   "outputs": [],
   "source": []
  }
 ],
 "metadata": {
  "kernelspec": {
   "display_name": "Python 3",
   "language": "python",
   "name": "python3"
  },
  "language_info": {
   "codemirror_mode": {
    "name": "ipython",
    "version": 3
   },
   "file_extension": ".py",
   "mimetype": "text/x-python",
   "name": "python",
   "nbconvert_exporter": "python",
   "pygments_lexer": "ipython3",
   "version": "3.6.0"
  }
 },
 "nbformat": 4,
 "nbformat_minor": 2
}
