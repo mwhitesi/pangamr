{
 "cells": [
  {
   "cell_type": "markdown",
   "metadata": {},
   "source": [
    "<div class=\"alert alert-block alert-info\">\n",
    "__Name__: salmonella_extract_features<br/>\n",
    "__Description__: Identify important features from classifiers<br/>\n",
    "__Author__: Matthew Whiteside matthew dot whiteside at canada dot ca<br/>\n",
    "__Date__: Dec 8, 2017<br/>\n",
    "__TODO__:<br/>\n",
    "</div>"
   ]
  },
  {
   "cell_type": "code",
   "execution_count": 2,
   "metadata": {
    "collapsed": true
   },
   "outputs": [],
   "source": [
    "%load_ext autoreload\n",
    "%autoreload 2"
   ]
  },
  {
   "cell_type": "code",
   "execution_count": 44,
   "metadata": {
    "collapsed": true
   },
   "outputs": [],
   "source": [
    "import numpy as np\n",
    "import pandas as pd\n",
    "import os\n",
    "import sys\n",
    "os.chdir('../pangenome')\n",
    "import utils\n",
    "import config\n",
    "from sklearn.externals import joblib"
   ]
  },
  {
   "cell_type": "code",
   "execution_count": 7,
   "metadata": {
    "collapsed": false
   },
   "outputs": [],
   "source": [
    "data = utils.load_salmonella_data()\n",
    "X_train = data.X_train.toarray()\n",
    "X_test = data.X_test.toarray()"
   ]
  },
  {
   "cell_type": "code",
   "execution_count": 33,
   "metadata": {
    "collapsed": false
   },
   "outputs": [
    {
     "name": "stdout",
     "output_type": "stream",
     "text": [
      "0.950904392765\n",
      "0.94315245478\n"
     ]
    },
    {
     "data": {
      "image/png": "[encoded data removed]",
      "text/plain": [
       "<matplotlib.figure.Figure at 0x7faf2d9e1f60>"
      ]
     },
     "metadata": {},
     "output_type": "display_data"
    }
   ],
   "source": [
    "# AMP\n",
    "y_train = data.y_train[\"AMP\"].tolist()\n",
    "y_test = data.y_test[\"AMP\"].tolist()\n",
    "rfc = joblib.load(config.S['amp_rfc'])\n",
    "xbc = joblib.load(config.S['amp_xbc'])\n",
    "\n",
    "rfc.fit( X_train, y_train )\n",
    "print(rfc.score(X_test, y_test))\n",
    "\n",
    "xbc.fit( X_train, y_train )\n",
    "print(xbc.score(X_test, y_test))\n",
    "\n",
    "import matplotlib\n",
    "matplotlib.rcParams['figure.figsize'] = [10,6]\n",
    "import matplotlib.pyplot as plt\n",
    "\n",
    "fig, axes = plt.subplots(nrows=1, ncols=2)\n",
    "ax0, ax1 = axes.flatten()\n",
    "\n",
    "imp1 = [rfc.feature_importances_[rfc.feature_importances_ != 0], \n",
    "       xbc.feature_importances_[xbc.feature_importances_ != 0]]\n",
    "imp2 = [rfc.feature_importances_[rfc.feature_importances_ > 0.01], \n",
    "       xbc.feature_importances_[xbc.feature_importances_ > 0.01]]\n",
    "n_bins = 10\n",
    "\n",
    "ax0.hist(imp1, n_bins, histtype='bar', color=['red', 'blue'], label=['rfc','xbc'])\n",
    "ax0.legend(prop={'size': 10})\n",
    "ax0.set_title(\">0\")\n",
    "\n",
    "ax1.hist(imp2, n_bins, histtype='bar', color=['red', 'blue'], label=['rfc','xbc'])\n",
    "ax1.legend(prop={'size': 10})\n",
    "ax1.set_title(\">0.01\")\n",
    "\n",
    "fig.tight_layout()\n",
    "\n",
    "plt.show()"
   ]
  },
  {
   "cell_type": "markdown",
   "metadata": {},
   "source": [
    "Random forest classifier uses significantly more low importance features to generate prediction. Also has a small number of higher importance features. XGboost uses a moderate number of features more equally weighted"
   ]
  },
  {
   "cell_type": "code",
   "execution_count": 34,
   "metadata": {
    "collapsed": false
   },
   "outputs": [
    {
     "name": "stdout",
     "output_type": "stream",
     "text": [
      "0.956072351421\n",
      "0.93023255814\n"
     ]
    },
    {
     "data": {
      "image/png": "[encoded data removed]",
      "text/plain": [
       "<matplotlib.figure.Figure at 0x7faf2030c7f0>"
      ]
     },
     "metadata": {},
     "output_type": "display_data"
    }
   ],
   "source": [
    "y_train = data.y_train[\"TCY\"].tolist()\n",
    "y_test = data.y_test[\"TCY\"].tolist()\n",
    "rfc = joblib.load(config.S['tcy_rfc'])\n",
    "xbc = joblib.load(config.S['tcy_xbc'])\n",
    "\n",
    "rfc.fit( X_train, y_train )\n",
    "print(rfc.score(X_test, y_test))\n",
    "\n",
    "xbc.fit( X_train, y_train )\n",
    "print(xbc.score(X_test, y_test))\n",
    "\n",
    "fig, axes = plt.subplots(nrows=1, ncols=2)\n",
    "ax0, ax1 = axes.flatten()\n",
    "\n",
    "imp1 = [rfc.feature_importances_[rfc.feature_importances_ != 0], \n",
    "       xbc.feature_importances_[xbc.feature_importances_ != 0]]\n",
    "imp2 = [rfc.feature_importances_[rfc.feature_importances_ > 0.01], \n",
    "       xbc.feature_importances_[xbc.feature_importances_ > 0.01]]\n",
    "n_bins = 10\n",
    "\n",
    "ax0.hist(imp1, n_bins, histtype='bar', color=['red', 'blue'], label=['rfc','xbc'])\n",
    "ax0.legend(prop={'size': 10})\n",
    "ax0.set_title(\">0\")\n",
    "\n",
    "ax1.hist(imp2, n_bins, histtype='bar', color=['red', 'blue'], label=['rfc','xbc'])\n",
    "ax1.legend(prop={'size': 10})\n",
    "ax1.set_title(\">0.01\")\n",
    "\n",
    "fig.tight_layout()\n",
    "\n",
    "plt.show()"
   ]
  },
  {
   "cell_type": "markdown",
   "metadata": {},
   "source": [
    "Tetracycline shows similar feature importance distribution"
   ]
  },
  {
   "cell_type": "code",
   "execution_count": 35,
   "metadata": {
    "collapsed": false
   },
   "outputs": [
    {
     "name": "stdout",
     "output_type": "stream",
     "text": [
      "0.945736434109\n",
      "0.953488372093\n"
     ]
    },
    {
     "data": {
      "image/png": "[encoded data removed]",
      "text/plain": [
       "<matplotlib.figure.Figure at 0x7faf18664fd0>"
      ]
     },
     "metadata": {},
     "output_type": "display_data"
    }
   ],
   "source": [
    "y_train = data.y_train[\"STR\"].tolist()\n",
    "y_test = data.y_test[\"STR\"].tolist()\n",
    "rfc = joblib.load(config.S['str_rfc'])\n",
    "xbc = joblib.load(config.S['str_xbc'])\n",
    "\n",
    "rfc.fit( X_train, y_train )\n",
    "print(rfc.score(X_test, y_test))\n",
    "\n",
    "xbc.fit( X_train, y_train )\n",
    "print(xbc.score(X_test, y_test))\n",
    "\n",
    "fig, axes = plt.subplots(nrows=1, ncols=2)\n",
    "ax0, ax1 = axes.flatten()\n",
    "\n",
    "imp1 = [rfc.feature_importances_[rfc.feature_importances_ != 0], \n",
    "       xbc.feature_importances_[xbc.feature_importances_ != 0]]\n",
    "imp2 = [rfc.feature_importances_[rfc.feature_importances_ > 0.01], \n",
    "       xbc.feature_importances_[xbc.feature_importances_ > 0.01]]\n",
    "n_bins = 10\n",
    "\n",
    "ax0.hist(imp1, n_bins, histtype='bar', color=['red', 'blue'], label=['rfc','xbc'])\n",
    "ax0.legend(prop={'size': 10})\n",
    "ax0.set_title(\">0\")\n",
    "\n",
    "ax1.hist(imp2, n_bins, histtype='bar', color=['red', 'blue'], label=['rfc','xbc'])\n",
    "ax1.legend(prop={'size': 10})\n",
    "ax1.set_title(\">0.01\")\n",
    "\n",
    "fig.tight_layout()\n",
    "\n",
    "plt.show()"
   ]
  },
  {
   "cell_type": "markdown",
   "metadata": {},
   "source": [
    "In streptomycin, XGBoost has many low weight features. Opposite of before, however, Random forest still relies on a small number of high importance features."
   ]
  },
  {
   "cell_type": "code",
   "execution_count": 36,
   "metadata": {
    "collapsed": false
   },
   "outputs": [
    {
     "name": "stdout",
     "output_type": "stream",
     "text": [
      "0.950904392765\n",
      "0.94315245478\n"
     ]
    }
   ],
   "source": [
    "# Check overlap with known AMR annotations\n",
    "# AMP\n",
    "y_train = data.y_train[\"AMP\"].tolist()\n",
    "y_test = data.y_test[\"AMP\"].tolist()\n",
    "rfc = joblib.load(config.S['amp_rfc'])\n",
    "xbc = joblib.load(config.S['amp_xbc'])\n",
    "\n",
    "rfc.fit( X_train, y_train )\n",
    "print(rfc.score(X_test, y_test))\n",
    "\n",
    "xbc.fit( X_train, y_train )\n",
    "print(xbc.score(X_test, y_test))\n",
    "\n"
   ]
  },
  {
   "cell_type": "code",
   "execution_count": 107,
   "metadata": {
    "collapsed": false
   },
   "outputs": [
    {
     "name": "stdout",
     "output_type": "stream",
     "text": [
      "\n",
      "RandomForest\n",
      "1511216226000 0.230017225318\n",
      "defaultdict(<class 'list'>, {'rgi': ['{\"ORF_ID\":\"lcl|595_dot_68|CP016411___Salmonella_enterica_subsp._enterica_serovar_Infantis_strain_N55391_plasmid_pN55391__complete_sequence.____Salmonella_enterica_subsp._enterica_serovar_Infantis_strain_N55391_|_595.68__280\",\"CONTIG\":\"ID=883_280;partial=00;start_type=ATG;rbs_motif=AGGA\\\\/GGAG\\\\/GAGG;rbs_spacer=11-12bp;gc_cont=0.584\",\"START\":282826,\"STOP\":284040,\"ORIENTATION\":\"+\",\"CUT_OFF\":\"Strict\",\"PASS_EVALUE\":null,\"Best_Hit_evalue\":0.0,\"Best_Hit_ARO\":\"floR\",\"Best_Identities\":99.26,\"ARO\":\"ARO:3002705\",\"ARO_name\":\"floR\",\"Model_type\":\"protein homolog model\",\"SNP\":null,\"Best_Hit_ARO_category\":\"efflux pump complex or subunit conferring antibiotic resistance\",\"ARO_category\":\"efflux pump complex or subunit conferring antibiotic resistance\",\"PASS_bitscore\":750,\"Best_Hit_bitscore\":780.015,\"bit_score\":\"780.015\",\"Predicted_DNA\":\"ATGACCACCACACGCCCCGCGTGGGCCTATACGCTGCCGGCAGCACTGCTGCTGATGGCTCCTTTCGACATCCTCGCTTCACTGGCGATGGATATTTATCTCCCTGTCGTTCCAGCGATGCCCGGCATCCTGAACACGACGCCCGCTATGATCCAACTCACGTTGAGCCTCTATATGGTGATGCTCGGCGTGGGCCAGGTGATTTTTGGTCCGCTCTCAGACAGAATCGGGCGACGGCCAATTCTACTTGCGGGCGCAACGGCTTTCGTCATTGCGTCTCTGGGAGCAGCTTGGTCTTCAACTGCACCGGCCTTTGTCGCTTTCCGTCTACTTCAAGCAGTGGGCGCGTCGGCCATGCTGGTGGCGACGTTCGCGACGGTTCGCGACGTTTATGCCAACCGTCCTGAGGGTGTCGTCATCTACGGCCTTTTCAGTTCGATGCTGGCGTTCGTGCCTGCGCTCGGCCCTATCGCCGGAGCATTGATCGGCGAGTTCTTGGGATGGCAGGCGATATTCATTACTTTGGCTATACTGGCGATGCTCGCACTCCTAAATGCGGGTTTCAGGTGGCACGAAACCCGCCCTCTGGATCAAGTCAAGACGCGCCGATCTGTCTTGCCGATCTTCGCGAGTCCGGCTTTTTGGGTTTACACTGTCGGCTTTAGCGCCGGTATGGGCACCTACTTCGTCTTCTTCTCGACGGCTCCCCGTGTGCTCATAGGCCAAGCGGAATATTCCGAGATCGGATTCAGCTTTGCCTTCGCCACTGTCGCGCTTGTAATGATCGTGACAACCCGTTTCGCGAAGTCCTTTGTCGCCAGATGGGGCATCGCAGGATGCGTGGCGCGTGGGATGGCGTTGCTTGTTTGCGGAGCGGTCCTGTTGGGGATCGGCGAACTTTACGGCTCGCCGTCATTCCTCACCTTCATCCTACCGATGTGGGTTGTCGCGGTCGGTATTGTCTTCACGGTGTCCGTTACCGCGAACGGCGCTTTGGCAGAGTTCGACGACATCGCGGGATCAGCGGTCGCGTTCTACTTCTGCGTTCAAAGCCTGATAGTCAGCATTGTCGGGACATTGGCGGTGGCACTTTTAAACGATGACACAGCGTGGCCCGTGATCTGTTACGCCACGGCGATGGCGGTACTGGTTTCGTTGGGGCTGGTGCTCCTTCGGCTCCGTGGGGCTGCCACCGAGAAGTCGCCAGTCGTCTAA\",\"Predicted_Protein\":\"MTTTRPAWAYTLPAALLLMAPFDILASLAMDIYLPVVPAMPGILNTTPAMIQLTLSLYMVMLGVGQVIFGPLSDRIGRRPILLAGATAFVIASLGAAWSSTAPAFVAFRLLQAVGASAMLVATFATVRDVYANRPEGVVIYGLFSSMLAFVPALGPIAGALIGEFLGWQAIFITLAILAMLALLNAGFRWHETRPLDQVKTRRSVLPIFASPAFWVYTVGFSAGMGTYFVFFSTAPRVLIGQAEYSEIGFSFAFATVALVMIVTTRFAKSFVARWGIAGCVARGMALLVCGAVLLGIGELYGSPSFLTFILPMWVVAVGIVFTVSVTANGALAEFDDIAGSAVAFYFCVQSLIVSIVGTLAVALLNDDTAWPVICYATAMAVLVSLGLVLLRLRGAATEKSPVV\",\"CARD_Protein_Sequence\":\"MTTTRPAWAYTLPAALLLMAPFDILASLAMDIYLPVVPAMPGILNTTPAMIQLTLSLYMVMLGVGQVIFGPLSDRIGRRPILLAGATAFVIASLGAAWSSTAPAFVAFRLLQAVGASAMLVATFATVRDVYANRPEGVVIYGLFSSVLAFVPALGPIAGALIGEFLGWQAIFITLAILAMLALLNAGFRWHETRPLDQVKTRRSVLPIFASPAFWVYTVGFSAGMGTFFVFFSTAPRVLIGQAEYSEIGFSFAFATVALVMIVTTRFAKSFVARWGIAGCVARGMALLVCGAVLLGIGELYGSPSFLTFILPMWVVAVGIVFTVSVTANGALAEFDDIAGSAVAFYFCVQSLIVSIVGTLAVALLNGDTAWPVICYATAMAVLVSLGLVLLRLRGAATEKSPVV\",\"LABEL\":\"lcl|595_dot_68|CP016411___Salmonella_enterica_subsp._enterica_serovar_Infantis_strain_N55391_plasmid_pN55391__complete_sequence.____Salmonella_enterica_subsp._enterica_serovar_Infantis_strain_N55391_|_595.68__280#282827#284041#1#ID=883_280;partial=00;start_type=ATG;rbs_motif=AGGA\\\\/GGAG\\\\/GAGG;rbs_spacer=11-12bp;gc_cont=0.584\",\"ID\":\"gnl|BL_ORD_ID|618|hsp_num:0\",\"Model_id\":522}'], 'resfams': ['{\"target\":\"lcl|595_dot_68|CP016411___Salmonella_enterica_subsp._enterica_serovar_Infantis_strain_N55391_plasmid_pN55391__complete_sequence.____Salmonella_enterica_subsp._enterica_serovar_Infantis_strain_N55391_|_595.68_|strand=1;frame=1;relstart=282820;relend=284040\",\"tacc\":\"-\",\"query\":\"Chlor_Efflux_Pump\",\"qacc\":\"RF0051\",\"evalue\":2.1e-166,\"score\":555.1,\"bias\":47.3,\"domain_evalue\":2.3e-166,\"domain_score\":555.0,\"domain_bias\":47.3,\"exp\":1.0,\"reg\":1,\"clu\":0,\"ov\":0,\"env\":1,\"dom\":1,\"rep\":1,\"inc\":1,\"description\":\"-\"}'], 'resfinder': ['{\"qseqid\":\"lcl|595_dot_68|CP016411___Salmonella_enterica_subsp._enterica_serovar_Infantis_strain_N55391_plasmid_pN55391__complete_sequence.____Salmonella_enterica_subsp._enterica_serovar_Infantis_strain_N55391_|_595.68_\",\"sseqid\":\"floR_2_AF118107\",\"pident\":98.19,\"length\":1214,\"qstart\":282827,\"qend\":284040,\"qlen\":316814,\"sstart\":1,\"send\":1214,\"slen\":1215,\"evalue\":0.0,\"bitscore\":2121.0}']})\n",
      "10578510760000 0.225678266532\n",
      "defaultdict(<class 'list'>, {})\n",
      "21157021366000 0.102614320282\n",
      "defaultdict(<class 'list'>, {'rgi': ['{\"ORF_ID\":\"lcl|85569_dot_11|CQHS01000014___Salmonella_enterica_subsp._enterica_serovar_Typhimurium_str._DT104_genome_assembly_8490_2_87__scaffold_ERS157244SCcontig000014__whole_genome_shotgun_sequence.____Salmonella_enterica_subsp._enterica_serovar_Typhimurium_str._DT104_strain_CH44_|_85569.11__(39576..40888)_1\",\"CONTIG\":\"ID=766_1;partial=00;start_type=ATG;rbs_motif=GGA\\\\/GAG\\\\/AGG;rbs_spacer=5-10bp;gc_cont=0.538\",\"START\":109,\"STOP\":1254,\"ORIENTATION\":\"+\",\"CUT_OFF\":\"Perfect\",\"PASS_EVALUE\":null,\"Best_Hit_evalue\":0.0,\"Best_Hit_ARO\":\"CMY-2\",\"Best_Identities\":100.0,\"ARO\":\"ARO:3002013\",\"ARO_name\":\"CMY-2\",\"Model_type\":\"protein homolog model\",\"SNP\":null,\"Best_Hit_ARO_category\":\"antibiotic inactivation enzyme; determinant of beta-lactam resistance\",\"ARO_category\":\"antibiotic inactivation enzyme; determinant of beta-lactam resistance\",\"PASS_bitscore\":700,\"Best_Hit_bitscore\":785.793,\"bit_score\":\"785.793\",\"Predicted_DNA\":\"ATGATGAAAAAATCGTTATGCTGCGCTCTGCTGCTGACAGCCTCTTTCTCCACATTTGCTGCCGCAAAAACAGAACAACAGATTGCCGATATCGTTAATCGCACCATCACCCCGTTGATGCAGGAGCAGGCTATTCCGGGTATGGCCGTTGCCGTTATCTACCAGGGAAAACCCTATTATTTCACCTGGGGTAAAGCCGATATCGCCAATAACCACCCAGTCACGCAGCAAACGCTGTTTGAGCTAGGATCGGTTAGTAAGACGTTTAACGGCGTGTTGGGCGGCGATGCTATCGCCCGCGGCGAAATTAAGCTCAGCGATCCGGTCACGAAATACTGGCCAGAACTGACAGGCAAACAGTGGCAGGGTATCCGCCTGCTGCACTTAGCCACCTATACGGCAGGCGGCCTACCGCTGCAGATCCCCGATGACGTTAGGGATAAAGCCGCATTACTGCATTTTTATCAAAACTGGCAGCCGCAATGGACTCCGGGCGCTAAGCGACTTTACGCTAACTCCAGCATTGGTCTGTTTGGCGCGCTGGCGGTGAAACCCTCAGGAATGAGTTACGAAGAGGCAATGACCAGACGCGTCCTGCAACCATTAAAACTGGCGCATACCTGGATTACGGTTCCGCAGAACGAACAAAAAGATTATGCCTGGGGCTATCGCGAAGGGAAGCCCGTACACGTTTCTCCGGGACAACTTGACGCCGAAGCCTATGGCGTGAAATCCAGCGTTATTGATATGGCCCGCTGGGTTCAGGCCAACATGGATGCCAGCCACGTTCAGGAGAAAACGCTCCAGCAGGGCATTGCGCTTGCGCAGTCTCGCTACTGGCGTATTGGCGATATGTACCAGGGATTAGGCTGGGAGATGCTGAACTGGCCGCTGAAAGCTGATTCGATCATCAACGGCAGCGACAGCAAAGTGGCATTGGCAGCGCTTCCCGCCGTTGAGGTAAACCCGCCCGCCCCCGCAGTGAAAGCCTCATGGGTGCATAAAACGGGCTCCACTGGTGGATTTGGCAGCTACGTAGCCTTCGTTCCAGAAAAAAACCTTGGCATCGTGATGCTGGCAAACAAAAGCTATCCTAACCCTGTCCGTGTCGAGGCGGCCTGGCGCATTCTTGAAAAGCTGCAATAA\",\"Predicted_Protein\":\"MMKKSLCCALLLTASFSTFAAAKTEQQIADIVNRTITPLMQEQAIPGMAVAVIYQGKPYYFTWGKADIANNHPVTQQTLFELGSVSKTFNGVLGGDAIARGEIKLSDPVTKYWPELTGKQWQGIRLLHLATYTAGGLPLQIPDDVRDKAALLHFYQNWQPQWTPGAKRLYANSSIGLFGALAVKPSGMSYEEAMTRRVLQPLKLAHTWITVPQNEQKDYAWGYREGKPVHVSPGQLDAEAYGVKSSVIDMARWVQANMDASHVQEKTLQQGIALAQSRYWRIGDMYQGLGWEMLNWPLKADSIINGSDSKVALAALPAVEVNPPAPAVKASWVHKTGSTGGFGSYVAFVPEKNLGIVMLANKSYPNPVRVEAAWRILEKLQ\",\"CARD_Protein_Sequence\":\"MMKKSLCCALLLTASFSTFAAAKTEQQIADIVNRTITPLMQEQAIPGMAVAVIYQGKPYYFTWGKADIANNHPVTQQTLFELGSVSKTFNGVLGGDAIARGEIKLSDPVTKYWPELTGKQWQGIRLLHLATYTAGGLPLQIPDDVRDKAALLHFYQNWQPQWTPGAKRLYANSSIGLFGALAVKPSGMSYEEAMTRRVLQPLKLAHTWITVPQNEQKDYAWGYREGKPVHVSPGQLDAEAYGVKSSVIDMARWVQANMDASHVQEKTLQQGIALAQSRYWRIGDMYQGLGWEMLNWPLKADSIINGSDSKVALAALPAVEVNPPAPAVKASWVHKTGSTGGFGSYVAFVPEKNLGIVMLANKSYPNPVRVEAAWRILEKLQ\",\"LABEL\":\"lcl|85569_dot_11|CQHS01000014___Salmonella_enterica_subsp._enterica_serovar_Typhimurium_str._DT104_genome_assembly_8490_2_87__scaffold_ERS157244SCcontig000014__whole_genome_shotgun_sequence.____Salmonella_enterica_subsp._enterica_serovar_Typhimurium_str._DT104_strain_CH44_|_85569.11__(39576..40888)_1#110#1255#1#ID=766_1;partial=00;start_type=ATG;rbs_motif=GGA\\\\/GAG\\\\/AGG;rbs_spacer=5-10bp;gc_cont=0.538\",\"ID\":\"gnl|BL_ORD_ID|1107|hsp_num:0\",\"Model_id\":600}'], 'resfams': ['{\"target\":\"lcl|85569_dot_11|CQHS01000014___Salmonella_enterica_subsp._enterica_serovar_Typhimurium_str._DT104_genome_assembly_8490_2_87__scaffold_ERS157244SCcontig000014__whole_genome_shotgun_sequence.____Salmonella_enterica_subsp._enterica_serovar_Typhimurium_str._DT104_strain_CH44_|_85569.11__(39576..40888)|strand=1;frame=1;relstart=1;relend=1254\",\"tacc\":\"-\",\"query\":\"CMY-LAT-MOX-ACT-MIR-FOX\",\"qacc\":\"RF0057\",\"evalue\":1.3e-235,\"score\":782.4,\"bias\":2.2,\"domain_evalue\":1.4e-235,\"domain_score\":782.2,\"domain_bias\":2.2,\"exp\":1.0,\"reg\":1,\"clu\":0,\"ov\":0,\"env\":1,\"dom\":1,\"rep\":1,\"inc\":1,\"description\":\"-\"}'], 'resfinder': ['{\"qseqid\":\"lcl|85569_dot_11|CQHS01000014___Salmonella_enterica_subsp._enterica_serovar_Typhimurium_str._DT104_genome_assembly_8490_2_87__scaffold_ERS157244SCcontig000014__whole_genome_shotgun_sequence.____Salmonella_enterica_subsp._enterica_serovar_Typhimurium_str._DT104_strain_CH44_|_85569.11__(39576..40888)\",\"sseqid\":\"blaCMY-2_1_X91840\",\"pident\":100.0,\"length\":1146,\"qstart\":110,\"qend\":1255,\"qlen\":1313,\"sstart\":1,\"send\":1146,\"slen\":1146,\"evalue\":0.0,\"bitscore\":2117.0}']})\n",
      "24179453003000 0.0261822332896\n",
      "defaultdict(<class 'list'>, {'resfams': ['{\"target\":\"lcl|85569_dot_10|CQGI01000034___Salmonella_enterica_subsp._enterica_serovar_Typhimurium_str._DT104_genome_assembly_8490_2_60__scaffold_ERS157217SCcontig000034__whole_genome_shotgun_sequence.____Salmonella_enterica_subsp._enterica_serovar_Typhimurium_str._DT104_strain_CH17_|_85569.10__(1..5104)|strand=-1;frame=1;relstart=4286;relend=3093\",\"tacc\":\"-\",\"query\":\"TetA-G\",\"qacc\":\"RF0129\",\"evalue\":1.4e-262,\"score\":871.6,\"bias\":33.7,\"domain_evalue\":1.5e-262,\"domain_score\":871.4,\"domain_bias\":33.7,\"exp\":1.0,\"reg\":1,\"clu\":0,\"ov\":0,\"env\":1,\"dom\":1,\"rep\":1,\"inc\":1,\"description\":\"-\"}'], 'resfinder': ['{\"qseqid\":\"lcl|85569_dot_10|CQGI01000034___Salmonella_enterica_subsp._enterica_serovar_Typhimurium_str._DT104_genome_assembly_8490_2_60__scaffold_ERS157217SCcontig000034__whole_genome_shotgun_sequence.____Salmonella_enterica_subsp._enterica_serovar_Typhimurium_str._DT104_strain_CH17_|_85569.10__(1..5104)\",\"sseqid\":\"tet(G)_3_S52437\",\"pident\":99.75,\"length\":1182,\"qstart\":3089,\"qend\":4269,\"qlen\":5104,\"sstart\":1182,\"send\":1,\"slen\":1182,\"evalue\":0.0,\"bitscore\":2165.0}']})\n",
      "9067294848000 0.0259856609632\n",
      "defaultdict(<class 'list'>, {})\n",
      "25690669055000 0.021830477173\n",
      "defaultdict(<class 'list'>, {})\n",
      "22668237200000 0.0215618622211\n",
      "defaultdict(<class 'list'>, {'resfams': ['{\"target\":\"lcl|85569_dot_10|CQGI01000034___Salmonella_enterica_subsp._enterica_serovar_Typhimurium_str._DT104_genome_assembly_8490_2_60__scaffold_ERS157217SCcontig000034__whole_genome_shotgun_sequence.____Salmonella_enterica_subsp._enterica_serovar_Typhimurium_str._DT104_strain_CH17_|_85569.10__(1..5104)|strand=-1;frame=1;relstart=4286;relend=3093\",\"tacc\":\"-\",\"query\":\"TetA-G\",\"qacc\":\"RF0129\",\"evalue\":1.4e-262,\"score\":871.6,\"bias\":33.7,\"domain_evalue\":1.5e-262,\"domain_score\":871.4,\"domain_bias\":33.7,\"exp\":1.0,\"reg\":1,\"clu\":0,\"ov\":0,\"env\":1,\"dom\":1,\"rep\":1,\"inc\":1,\"description\":\"-\"}'], 'resfinder': ['{\"qseqid\":\"lcl|85569_dot_10|CQGI01000034___Salmonella_enterica_subsp._enterica_serovar_Typhimurium_str._DT104_genome_assembly_8490_2_60__scaffold_ERS157217SCcontig000034__whole_genome_shotgun_sequence.____Salmonella_enterica_subsp._enterica_serovar_Typhimurium_str._DT104_strain_CH17_|_85569.10__(1..5104)\",\"sseqid\":\"tet(G)_3_S52437\",\"pident\":99.75,\"length\":1182,\"qstart\":3089,\"qend\":4269,\"qlen\":5104,\"sstart\":1182,\"send\":1,\"slen\":1182,\"evalue\":0.0,\"bitscore\":2165.0}']})\n",
      "21157021402000 0.0203933098941\n",
      "defaultdict(<class 'list'>, {})\n",
      "28713100402000 0.0191679689699\n",
      "defaultdict(<class 'list'>, {'rgi': ['{\"ORF_ID\":\"lcl|85569_dot_10|CQGI01000024___Salmonella_enterica_subsp._enterica_serovar_Typhimurium_str._DT104_genome_assembly_8490_2_60__scaffold_ERS157217SCcontig000024__whole_genome_shotgun_sequence.____Salmonella_enterica_subsp._enterica_serovar_Typhimurium_str._DT104_strain_CH17_|_85569.10__(54618..56061)_1\",\"CONTIG\":\"ID=862_1;partial=00;start_type=ATG;rbs_motif=GGA\\\\/GAG\\\\/AGG;rbs_spacer=5-10bp;gc_cont=0.401\",\"START\":429,\"STOP\":1343,\"ORIENTATION\":\"-\",\"CUT_OFF\":\"Strict\",\"PASS_EVALUE\":null,\"Best_Hit_evalue\":0.0,\"Best_Hit_ARO\":\"CARB-3\",\"Best_Identities\":99.67,\"ARO\":\"ARO:3002242, ARO:3002241, ARO:3002245, ARO:3002243, ARO:3002240, ARO:3002250, ARO:3002246, ARO:3002248\",\"ARO_name\":\"CARB-6, CARB-9, CARB-4, CARB-7, CARB-12, CARB-1, CARB-3, CARB-2\",\"Model_type\":\"protein homolog model\",\"SNP\":null,\"Best_Hit_ARO_category\":\"antibiotic inactivation enzyme; determinant of beta-lactam resistance\",\"ARO_category\":\"antibiotic inactivation enzyme; determinant of beta-lactam resistance\",\"PASS_bitscore\":500,\"Best_Hit_bitscore\":627.861,\"bit_score\":\"627.861, 587.03, 559.681, 520.776, 591.267, 581.252, 510.375, 511.916\",\"Predicted_DNA\":\"ATGCTTTTATATAAAATGTGTGACAATCAAAATTATGGGGTTACTTACATGAAGTTTTTATTGGCATTTTCGCTTTTAATACCATCCGTGGTTTTTGCAAGTAGTTCAAAGTTTCAGCAAGTTGAACAAGACGTTAAGGCAATTGAAGTTTCTCTTTCTGCTCGTATAGGTGTTTCCGTTCTTGATACTCAAAATGGAGAATATTGGGATTACAATGGCAATCAGCGCTTCCCGTTAACAAGTACTTTTAAAACAATAGCTTGCGCTAAATTACTATATGATGCTGAGCAAGGAAAAGTTAATCCCAATAGTACAGTCGAGATTAAGAAAGCAGATCTTGTGACCTATTCCCCTGTAATAGAAAAGCAAGTAGGGCAGGCAATCACACTCGATGATGCGTGCTTCGCAACTATGACTACAAGTGATAATACTGCGGCAAATATCATCCTAAGTGCTGTAGGTGGCCCCAAAGGCGTTACTGATTTTTTAAGACAAATTGGGGACAAAGAGACTCGTCTAGACCGTATTGAGCCTGATTTAAATGAAGGTAAGCTCGGTGATTTGAGGGATACGACAACTCCTAAGGCAATAGCCAGTACTTTGAATAAATTTTTATTTGGTTCCGCGCTATCTGAAATGAACCAGAAAAAATTAGAGTCTTGGATGGTGAACAATCAAGTCACTGGTAATTTACTACGTTCAGTATTGCCGGCGGGATGGAACATTGCGGATCGCTCAGGTGCTGGCGGATTTGGTGCTCGGAGTATTACAGCAGTTGTGTGGAGTGAGCATCAAGCCCCAATTATTGTGAGCATCTATCTAGCTCAAACACAGGCTTCAATGGCAGAGCGAAATGATGCGATTGTTAAAATTGGTCATTCAATTTTTGACGTTTATACATCACAGTCGCGCTGA\",\"Predicted_Protein\":\"MLLYKMCDNQNYGVTYMKFLLAFSLLIPSVVFASSSKFQQVEQDVKAIEVSLSARIGVSVLDTQNGEYWDYNGNQRFPLTSTFKTIACAKLLYDAEQGKVNPNSTVEIKKADLVTYSPVIEKQVGQAITLDDACFATMTTSDNTAANIILSAVGGPKGVTDFLRQIGDKETRLDRIEPDLNEGKLGDLRDTTTPKAIASTLNKFLFGSALSEMNQKKLESWMVNNQVTGNLLRSVLPAGWNIADRSGAGGFGARSITAVVWSEHQAPIIVSIYLAQTQASMAERNDAIVKIGHSIFDVYTSQSR\",\"CARD_Protein_Sequence\":\"MLLYKMCDNQNYGVTYMKFLLAFSLLIPSVVFASSSKFQQVEQDVKAIEVSLSARIGVSVLDTQNGEYWDYNGNQRFPLTSTFKTIACAKLLYDAEQGKVNPNSTVEIKKADLVTYSPVIEKQVGQAITLDDACFATMTTSDNTAANIILSAVGGPKGVTDFLRQIGDKETRLDRIEPDLNEGKLGDLRDTTTPKAIASTLNKLLFGSALSEMNQKKLESWMVNNQVTGNLLRSVLPAGWNIADRSGAGGFGARSITAVVWSEHQAPIIVSIYLAQTQASMAERNDAIVKIGHSIFDVYTSQSR\",\"LABEL\":\"lcl|85569_dot_10|CQGI01000024___Salmonella_enterica_subsp._enterica_serovar_Typhimurium_str._DT104_genome_assembly_8490_2_60__scaffold_ERS157217SCcontig000024__whole_genome_shotgun_sequence.____Salmonella_enterica_subsp._enterica_serovar_Typhimurium_str._DT104_strain_CH17_|_85569.10__(54618..56061)_1#430#1344#-1#ID=862_1;partial=00;start_type=ATG;rbs_motif=GGA\\\\/GAG\\\\/AGG;rbs_spacer=5-10bp;gc_cont=0.401\",\"ID\":\"gnl|BL_ORD_ID|1133|hsp_num:0\",\"Model_id\":467}'], 'resfams': ['{\"target\":\"lcl|85569_dot_10|CQGI01000024___Salmonella_enterica_subsp._enterica_serovar_Typhimurium_str._DT104_genome_assembly_8490_2_60__scaffold_ERS157217SCcontig000024__whole_genome_shotgun_sequence.____Salmonella_enterica_subsp._enterica_serovar_Typhimurium_str._DT104_strain_CH17_|_85569.10__(54618..56061)|strand=-1;frame=1;relstart=1442;relend=429\",\"tacc\":\"-\",\"query\":\"CARB-PSE\",\"qacc\":\"RF0044\",\"evalue\":1e-187,\"score\":623.7,\"bias\":0.5,\"domain_evalue\":1.2e-187,\"domain_score\":623.5,\"domain_bias\":0.5,\"exp\":1.0,\"reg\":1,\"clu\":0,\"ov\":0,\"env\":1,\"dom\":1,\"rep\":1,\"inc\":1,\"description\":\"-\"}'], 'resfinder': ['{\"qseqid\":\"lcl|85569_dot_10|CQGI01000024___Salmonella_enterica_subsp._enterica_serovar_Typhimurium_str._DT104_genome_assembly_8490_2_60__scaffold_ERS157217SCcontig000024__whole_genome_shotgun_sequence.____Salmonella_enterica_subsp._enterica_serovar_Typhimurium_str._DT104_strain_CH17_|_85569.10__(54618..56061)\",\"sseqid\":\"blaCARB-2_1_M69058\",\"pident\":100.0,\"length\":915,\"qstart\":430,\"qend\":1344,\"qlen\":1444,\"sstart\":915,\"send\":1,\"slen\":915,\"evalue\":0.0,\"bitscore\":1690.0}']})\n",
      "16623373970000 0.0153060544616\n",
      "defaultdict(<class 'list'>, {'rgi': ['{\"ORF_ID\":\"lcl|85569_dot_105|CTNA01000070___Salmonella_enterica_subsp._enterica_serovar_Typhimurium_str._DT104_genome_assembly_5275_1_12__scaffold_ERS011629SCcontig000070__whole_genome_shotgun_sequence.____Salmonella_enterica_subsp._enterica_serovar_Typhimurium_str._DT104_strain_V25_|_85569.105__(383..1973)_1\",\"CONTIG\":\"ID=799_1;partial=00;start_type=ATG;rbs_motif=AGGA;rbs_spacer=5-10bp;gc_cont=0.489\",\"START\":180,\"STOP\":1040,\"ORIENTATION\":\"-\",\"CUT_OFF\":\"Perfect\",\"PASS_EVALUE\":null,\"Best_Hit_evalue\":0.0,\"Best_Hit_ARO\":\"TEM-1\",\"Best_Identities\":100.0,\"ARO\":\"ARO:3000873\",\"ARO_name\":\"TEM-1\",\"Model_type\":\"protein homolog model\",\"SNP\":null,\"Best_Hit_ARO_category\":\"antibiotic inactivation enzyme; determinant of beta-lactam resistance\",\"ARO_category\":\"antibiotic inactivation enzyme; determinant of beta-lactam resistance\",\"PASS_bitscore\":500,\"Best_Hit_bitscore\":591.267,\"bit_score\":\"591.267\",\"Predicted_DNA\":\"ATGAGTATTCAACATTTTCGTGTCGCCCTTATTCCCTTTTTTGCGGCATTTTGCCTTCCTGTTTTTGCTCACCCAGAAACGCTGGTGAAAGTAAAAGATGCTGAAGATCAGTTGGGTGCACGAGTGGGTTACATCGAACTGGATCTCAACAGCGGTAAGATCCTTGAGAGTTTTCGCCCCGAAGAACGTTTTCCAATGATGAGCACTTTTAAAGTTCTGCTATGTGGTGCGGTATTATCCCGTGTTGACGCCGGGCAAGAGCAACTCGGTCGCCGCATACACTATTCTCAGAATGACTTGGTTGAGTACTCACCAGTCACAGAAAAGCATCTTACGGATGGCATGACAGTAAGAGAATTATGCAGTGCTGCCATAACCATGAGTGATAACACTGCTGCCAACTTACTTCTGACAACGATCGGAGGACCGAAGGAGCTAACCGCTTTTTTGCACAACATGGGGGATCATGTAACTCGCCTTGATCGTTGGGAACCGGAGCTGAATGAAGCCATACCAAACGACGAGCGTGACACCACGATGCCTGCAGCAATGGCAACAACGTTGCGCAAACTATTAACTGGCGAACTACTTACTCTAGCTTCCCGGCAACAATTAATAGACTGGATGGAGGCGGATAAAGTTGCAGGACCACTTCTGCGCTCGGCCCTTCCGGCTGGCTGGTTTATTGCTGATAAATCTGGAGCCGGTGAGCGTGGGTCTCGCGGTATCATTGCAGCACTGGGGCCAGATGGTAAGCCCTCCCGTATCGTAGTTATCTACACGACGGGGAGTCAGGCAACTATGGATGAACGAAATAGACAGATCGCTGAGATAGGTGCCTCACTGATTAAGCATTGGTAA\",\"Predicted_Protein\":\"MSIQHFRVALIPFFAAFCLPVFAHPETLVKVKDAEDQLGARVGYIELDLNSGKILESFRPEERFPMMSTFKVLLCGAVLSRVDAGQEQLGRRIHYSQNDLVEYSPVTEKHLTDGMTVRELCSAAITMSDNTAANLLLTTIGGPKELTAFLHNMGDHVTRLDRWEPELNEAIPNDERDTTMPAAMATTLRKLLTGELLTLASRQQLIDWMEADKVAGPLLRSALPAGWFIADKSGAGERGSRGIIAALGPDGKPSRIVVIYTTGSQATMDERNRQIAEIGASLIKHW\",\"CARD_Protein_Sequence\":\"MSIQHFRVALIPFFAAFCLPVFAHPETLVKVKDAEDQLGARVGYIELDLNSGKILESFRPEERFPMMSTFKVLLCGAVLSRVDAGQEQLGRRIHYSQNDLVEYSPVTEKHLTDGMTVRELCSAAITMSDNTAANLLLTTIGGPKELTAFLHNMGDHVTRLDRWEPELNEAIPNDERDTTMPAAMATTLRKLLTGELLTLASRQQLIDWMEADKVAGPLLRSALPAGWFIADKSGAGERGSRGIIAALGPDGKPSRIVVIYTTGSQATMDERNRQIAEIGASLIKHW\",\"LABEL\":\"lcl|85569_dot_105|CTNA01000070___Salmonella_enterica_subsp._enterica_serovar_Typhimurium_str._DT104_genome_assembly_5275_1_12__scaffold_ERS011629SCcontig000070__whole_genome_shotgun_sequence.____Salmonella_enterica_subsp._enterica_serovar_Typhimurium_str._DT104_strain_V25_|_85569.105__(383..1973)_1#181#1041#-1#ID=799_1;partial=00;start_type=ATG;rbs_motif=AGGA;rbs_spacer=5-10bp;gc_cont=0.489\",\"ID\":\"gnl|BL_ORD_ID|2089|hsp_num:0\",\"Model_id\":355}'], 'resfams': ['{\"target\":\"lcl|85569_dot_105|CTNA01000070___Salmonella_enterica_subsp._enterica_serovar_Typhimurium_str._DT104_genome_assembly_5275_1_12__scaffold_ERS011629SCcontig000070__whole_genome_shotgun_sequence.____Salmonella_enterica_subsp._enterica_serovar_Typhimurium_str._DT104_strain_V25_|_85569.105__(383..1973)|strand=-1;frame=1;relstart=1052;relend=180\",\"tacc\":\"-\",\"query\":\"TEM\",\"qacc\":\"RF0126\",\"evalue\":6.4e-203,\"score\":673.3,\"bias\":0.0,\"domain_evalue\":7.2e-203,\"domain_score\":673.1,\"domain_bias\":0.0,\"exp\":1.0,\"reg\":1,\"clu\":0,\"ov\":0,\"env\":1,\"dom\":1,\"rep\":1,\"inc\":1,\"description\":\"-\"}'], 'resfinder': ['{\"qseqid\":\"lcl|85569_dot_105|CTNA01000070___Salmonella_enterica_subsp._enterica_serovar_Typhimurium_str._DT104_genome_assembly_5275_1_12__scaffold_ERS011629SCcontig000070__whole_genome_shotgun_sequence.____Salmonella_enterica_subsp._enterica_serovar_Typhimurium_str._DT104_strain_V25_|_85569.105__(383..1973)\",\"sseqid\":\"blaTEM-1B_1_JF910132\",\"pident\":100.0,\"length\":861,\"qstart\":181,\"qend\":1041,\"qlen\":1591,\"sstart\":861,\"send\":1,\"slen\":861,\"evalue\":0.0,\"bitscore\":1591.0}']})\n",
      "13600942361000 0.0145431082275\n",
      "defaultdict(<class 'list'>, {})\n",
      "\n",
      "Proportion with AMR annotations\n",
      "0.5455\n",
      "\n",
      "XGBoost\n",
      "21157021366000 0.0892837\n",
      "defaultdict(<class 'list'>, {'rgi': ['{\"ORF_ID\":\"lcl|85569_dot_11|CQHS01000014___Salmonella_enterica_subsp._enterica_serovar_Typhimurium_str._DT104_genome_assembly_8490_2_87__scaffold_ERS157244SCcontig000014__whole_genome_shotgun_sequence.____Salmonella_enterica_subsp._enterica_serovar_Typhimurium_str._DT104_strain_CH44_|_85569.11__(39576..40888)_1\",\"CONTIG\":\"ID=766_1;partial=00;start_type=ATG;rbs_motif=GGA\\\\/GAG\\\\/AGG;rbs_spacer=5-10bp;gc_cont=0.538\",\"START\":109,\"STOP\":1254,\"ORIENTATION\":\"+\",\"CUT_OFF\":\"Perfect\",\"PASS_EVALUE\":null,\"Best_Hit_evalue\":0.0,\"Best_Hit_ARO\":\"CMY-2\",\"Best_Identities\":100.0,\"ARO\":\"ARO:3002013\",\"ARO_name\":\"CMY-2\",\"Model_type\":\"protein homolog model\",\"SNP\":null,\"Best_Hit_ARO_category\":\"antibiotic inactivation enzyme; determinant of beta-lactam resistance\",\"ARO_category\":\"antibiotic inactivation enzyme; determinant of beta-lactam resistance\",\"PASS_bitscore\":700,\"Best_Hit_bitscore\":785.793,\"bit_score\":\"785.793\",\"Predicted_DNA\":\"ATGATGAAAAAATCGTTATGCTGCGCTCTGCTGCTGACAGCCTCTTTCTCCACATTTGCTGCCGCAAAAACAGAACAACAGATTGCCGATATCGTTAATCGCACCATCACCCCGTTGATGCAGGAGCAGGCTATTCCGGGTATGGCCGTTGCCGTTATCTACCAGGGAAAACCCTATTATTTCACCTGGGGTAAAGCCGATATCGCCAATAACCACCCAGTCACGCAGCAAACGCTGTTTGAGCTAGGATCGGTTAGTAAGACGTTTAACGGCGTGTTGGGCGGCGATGCTATCGCCCGCGGCGAAATTAAGCTCAGCGATCCGGTCACGAAATACTGGCCAGAACTGACAGGCAAACAGTGGCAGGGTATCCGCCTGCTGCACTTAGCCACCTATACGGCAGGCGGCCTACCGCTGCAGATCCCCGATGACGTTAGGGATAAAGCCGCATTACTGCATTTTTATCAAAACTGGCAGCCGCAATGGACTCCGGGCGCTAAGCGACTTTACGCTAACTCCAGCATTGGTCTGTTTGGCGCGCTGGCGGTGAAACCCTCAGGAATGAGTTACGAAGAGGCAATGACCAGACGCGTCCTGCAACCATTAAAACTGGCGCATACCTGGATTACGGTTCCGCAGAACGAACAAAAAGATTATGCCTGGGGCTATCGCGAAGGGAAGCCCGTACACGTTTCTCCGGGACAACTTGACGCCGAAGCCTATGGCGTGAAATCCAGCGTTATTGATATGGCCCGCTGGGTTCAGGCCAACATGGATGCCAGCCACGTTCAGGAGAAAACGCTCCAGCAGGGCATTGCGCTTGCGCAGTCTCGCTACTGGCGTATTGGCGATATGTACCAGGGATTAGGCTGGGAGATGCTGAACTGGCCGCTGAAAGCTGATTCGATCATCAACGGCAGCGACAGCAAAGTGGCATTGGCAGCGCTTCCCGCCGTTGAGGTAAACCCGCCCGCCCCCGCAGTGAAAGCCTCATGGGTGCATAAAACGGGCTCCACTGGTGGATTTGGCAGCTACGTAGCCTTCGTTCCAGAAAAAAACCTTGGCATCGTGATGCTGGCAAACAAAAGCTATCCTAACCCTGTCCGTGTCGAGGCGGCCTGGCGCATTCTTGAAAAGCTGCAATAA\",\"Predicted_Protein\":\"MMKKSLCCALLLTASFSTFAAAKTEQQIADIVNRTITPLMQEQAIPGMAVAVIYQGKPYYFTWGKADIANNHPVTQQTLFELGSVSKTFNGVLGGDAIARGEIKLSDPVTKYWPELTGKQWQGIRLLHLATYTAGGLPLQIPDDVRDKAALLHFYQNWQPQWTPGAKRLYANSSIGLFGALAVKPSGMSYEEAMTRRVLQPLKLAHTWITVPQNEQKDYAWGYREGKPVHVSPGQLDAEAYGVKSSVIDMARWVQANMDASHVQEKTLQQGIALAQSRYWRIGDMYQGLGWEMLNWPLKADSIINGSDSKVALAALPAVEVNPPAPAVKASWVHKTGSTGGFGSYVAFVPEKNLGIVMLANKSYPNPVRVEAAWRILEKLQ\",\"CARD_Protein_Sequence\":\"MMKKSLCCALLLTASFSTFAAAKTEQQIADIVNRTITPLMQEQAIPGMAVAVIYQGKPYYFTWGKADIANNHPVTQQTLFELGSVSKTFNGVLGGDAIARGEIKLSDPVTKYWPELTGKQWQGIRLLHLATYTAGGLPLQIPDDVRDKAALLHFYQNWQPQWTPGAKRLYANSSIGLFGALAVKPSGMSYEEAMTRRVLQPLKLAHTWITVPQNEQKDYAWGYREGKPVHVSPGQLDAEAYGVKSSVIDMARWVQANMDASHVQEKTLQQGIALAQSRYWRIGDMYQGLGWEMLNWPLKADSIINGSDSKVALAALPAVEVNPPAPAVKASWVHKTGSTGGFGSYVAFVPEKNLGIVMLANKSYPNPVRVEAAWRILEKLQ\",\"LABEL\":\"lcl|85569_dot_11|CQHS01000014___Salmonella_enterica_subsp._enterica_serovar_Typhimurium_str._DT104_genome_assembly_8490_2_87__scaffold_ERS157244SCcontig000014__whole_genome_shotgun_sequence.____Salmonella_enterica_subsp._enterica_serovar_Typhimurium_str._DT104_strain_CH44_|_85569.11__(39576..40888)_1#110#1255#1#ID=766_1;partial=00;start_type=ATG;rbs_motif=GGA\\\\/GAG\\\\/AGG;rbs_spacer=5-10bp;gc_cont=0.538\",\"ID\":\"gnl|BL_ORD_ID|1107|hsp_num:0\",\"Model_id\":600}'], 'resfams': ['{\"target\":\"lcl|85569_dot_11|CQHS01000014___Salmonella_enterica_subsp._enterica_serovar_Typhimurium_str._DT104_genome_assembly_8490_2_87__scaffold_ERS157244SCcontig000014__whole_genome_shotgun_sequence.____Salmonella_enterica_subsp._enterica_serovar_Typhimurium_str._DT104_strain_CH44_|_85569.11__(39576..40888)|strand=1;frame=1;relstart=1;relend=1254\",\"tacc\":\"-\",\"query\":\"CMY-LAT-MOX-ACT-MIR-FOX\",\"qacc\":\"RF0057\",\"evalue\":1.3e-235,\"score\":782.4,\"bias\":2.2,\"domain_evalue\":1.4e-235,\"domain_score\":782.2,\"domain_bias\":2.2,\"exp\":1.0,\"reg\":1,\"clu\":0,\"ov\":0,\"env\":1,\"dom\":1,\"rep\":1,\"inc\":1,\"description\":\"-\"}'], 'resfinder': ['{\"qseqid\":\"lcl|85569_dot_11|CQHS01000014___Salmonella_enterica_subsp._enterica_serovar_Typhimurium_str._DT104_genome_assembly_8490_2_87__scaffold_ERS157244SCcontig000014__whole_genome_shotgun_sequence.____Salmonella_enterica_subsp._enterica_serovar_Typhimurium_str._DT104_strain_CH44_|_85569.11__(39576..40888)\",\"sseqid\":\"blaCMY-2_1_X91840\",\"pident\":100.0,\"length\":1146,\"qstart\":110,\"qend\":1255,\"qlen\":1313,\"sstart\":1,\"send\":1146,\"slen\":1146,\"evalue\":0.0,\"bitscore\":2117.0}']})\n",
      "22668237206000 0.0779975\n",
      "defaultdict(<class 'list'>, {})\n",
      "9067294848000 0.0776623\n",
      "defaultdict(<class 'list'>, {})\n",
      "1511216226000 0.0643647\n",
      "defaultdict(<class 'list'>, {'rgi': ['{\"ORF_ID\":\"lcl|595_dot_68|CP016411___Salmonella_enterica_subsp._enterica_serovar_Infantis_strain_N55391_plasmid_pN55391__complete_sequence.____Salmonella_enterica_subsp._enterica_serovar_Infantis_strain_N55391_|_595.68__280\",\"CONTIG\":\"ID=883_280;partial=00;start_type=ATG;rbs_motif=AGGA\\\\/GGAG\\\\/GAGG;rbs_spacer=11-12bp;gc_cont=0.584\",\"START\":282826,\"STOP\":284040,\"ORIENTATION\":\"+\",\"CUT_OFF\":\"Strict\",\"PASS_EVALUE\":null,\"Best_Hit_evalue\":0.0,\"Best_Hit_ARO\":\"floR\",\"Best_Identities\":99.26,\"ARO\":\"ARO:3002705\",\"ARO_name\":\"floR\",\"Model_type\":\"protein homolog model\",\"SNP\":null,\"Best_Hit_ARO_category\":\"efflux pump complex or subunit conferring antibiotic resistance\",\"ARO_category\":\"efflux pump complex or subunit conferring antibiotic resistance\",\"PASS_bitscore\":750,\"Best_Hit_bitscore\":780.015,\"bit_score\":\"780.015\",\"Predicted_DNA\":\"ATGACCACCACACGCCCCGCGTGGGCCTATACGCTGCCGGCAGCACTGCTGCTGATGGCTCCTTTCGACATCCTCGCTTCACTGGCGATGGATATTTATCTCCCTGTCGTTCCAGCGATGCCCGGCATCCTGAACACGACGCCCGCTATGATCCAACTCACGTTGAGCCTCTATATGGTGATGCTCGGCGTGGGCCAGGTGATTTTTGGTCCGCTCTCAGACAGAATCGGGCGACGGCCAATTCTACTTGCGGGCGCAACGGCTTTCGTCATTGCGTCTCTGGGAGCAGCTTGGTCTTCAACTGCACCGGCCTTTGTCGCTTTCCGTCTACTTCAAGCAGTGGGCGCGTCGGCCATGCTGGTGGCGACGTTCGCGACGGTTCGCGACGTTTATGCCAACCGTCCTGAGGGTGTCGTCATCTACGGCCTTTTCAGTTCGATGCTGGCGTTCGTGCCTGCGCTCGGCCCTATCGCCGGAGCATTGATCGGCGAGTTCTTGGGATGGCAGGCGATATTCATTACTTTGGCTATACTGGCGATGCTCGCACTCCTAAATGCGGGTTTCAGGTGGCACGAAACCCGCCCTCTGGATCAAGTCAAGACGCGCCGATCTGTCTTGCCGATCTTCGCGAGTCCGGCTTTTTGGGTTTACACTGTCGGCTTTAGCGCCGGTATGGGCACCTACTTCGTCTTCTTCTCGACGGCTCCCCGTGTGCTCATAGGCCAAGCGGAATATTCCGAGATCGGATTCAGCTTTGCCTTCGCCACTGTCGCGCTTGTAATGATCGTGACAACCCGTTTCGCGAAGTCCTTTGTCGCCAGATGGGGCATCGCAGGATGCGTGGCGCGTGGGATGGCGTTGCTTGTTTGCGGAGCGGTCCTGTTGGGGATCGGCGAACTTTACGGCTCGCCGTCATTCCTCACCTTCATCCTACCGATGTGGGTTGTCGCGGTCGGTATTGTCTTCACGGTGTCCGTTACCGCGAACGGCGCTTTGGCAGAGTTCGACGACATCGCGGGATCAGCGGTCGCGTTCTACTTCTGCGTTCAAAGCCTGATAGTCAGCATTGTCGGGACATTGGCGGTGGCACTTTTAAACGATGACACAGCGTGGCCCGTGATCTGTTACGCCACGGCGATGGCGGTACTGGTTTCGTTGGGGCTGGTGCTCCTTCGGCTCCGTGGGGCTGCCACCGAGAAGTCGCCAGTCGTCTAA\",\"Predicted_Protein\":\"MTTTRPAWAYTLPAALLLMAPFDILASLAMDIYLPVVPAMPGILNTTPAMIQLTLSLYMVMLGVGQVIFGPLSDRIGRRPILLAGATAFVIASLGAAWSSTAPAFVAFRLLQAVGASAMLVATFATVRDVYANRPEGVVIYGLFSSMLAFVPALGPIAGALIGEFLGWQAIFITLAILAMLALLNAGFRWHETRPLDQVKTRRSVLPIFASPAFWVYTVGFSAGMGTYFVFFSTAPRVLIGQAEYSEIGFSFAFATVALVMIVTTRFAKSFVARWGIAGCVARGMALLVCGAVLLGIGELYGSPSFLTFILPMWVVAVGIVFTVSVTANGALAEFDDIAGSAVAFYFCVQSLIVSIVGTLAVALLNDDTAWPVICYATAMAVLVSLGLVLLRLRGAATEKSPVV\",\"CARD_Protein_Sequence\":\"MTTTRPAWAYTLPAALLLMAPFDILASLAMDIYLPVVPAMPGILNTTPAMIQLTLSLYMVMLGVGQVIFGPLSDRIGRRPILLAGATAFVIASLGAAWSSTAPAFVAFRLLQAVGASAMLVATFATVRDVYANRPEGVVIYGLFSSVLAFVPALGPIAGALIGEFLGWQAIFITLAILAMLALLNAGFRWHETRPLDQVKTRRSVLPIFASPAFWVYTVGFSAGMGTFFVFFSTAPRVLIGQAEYSEIGFSFAFATVALVMIVTTRFAKSFVARWGIAGCVARGMALLVCGAVLLGIGELYGSPSFLTFILPMWVVAVGIVFTVSVTANGALAEFDDIAGSAVAFYFCVQSLIVSIVGTLAVALLNGDTAWPVICYATAMAVLVSLGLVLLRLRGAATEKSPVV\",\"LABEL\":\"lcl|595_dot_68|CP016411___Salmonella_enterica_subsp._enterica_serovar_Infantis_strain_N55391_plasmid_pN55391__complete_sequence.____Salmonella_enterica_subsp._enterica_serovar_Infantis_strain_N55391_|_595.68__280#282827#284041#1#ID=883_280;partial=00;start_type=ATG;rbs_motif=AGGA\\\\/GGAG\\\\/GAGG;rbs_spacer=11-12bp;gc_cont=0.584\",\"ID\":\"gnl|BL_ORD_ID|618|hsp_num:0\",\"Model_id\":522}'], 'resfams': ['{\"target\":\"lcl|595_dot_68|CP016411___Salmonella_enterica_subsp._enterica_serovar_Infantis_strain_N55391_plasmid_pN55391__complete_sequence.____Salmonella_enterica_subsp._enterica_serovar_Infantis_strain_N55391_|_595.68_|strand=1;frame=1;relstart=282820;relend=284040\",\"tacc\":\"-\",\"query\":\"Chlor_Efflux_Pump\",\"qacc\":\"RF0051\",\"evalue\":2.1e-166,\"score\":555.1,\"bias\":47.3,\"domain_evalue\":2.3e-166,\"domain_score\":555.0,\"domain_bias\":47.3,\"exp\":1.0,\"reg\":1,\"clu\":0,\"ov\":0,\"env\":1,\"dom\":1,\"rep\":1,\"inc\":1,\"description\":\"-\"}'], 'resfinder': ['{\"qseqid\":\"lcl|595_dot_68|CP016411___Salmonella_enterica_subsp._enterica_serovar_Infantis_strain_N55391_plasmid_pN55391__complete_sequence.____Salmonella_enterica_subsp._enterica_serovar_Infantis_strain_N55391_|_595.68_\",\"sseqid\":\"floR_2_AF118107\",\"pident\":98.19,\"length\":1214,\"qstart\":282827,\"qend\":284040,\"qlen\":316814,\"sstart\":1,\"send\":1214,\"slen\":1215,\"evalue\":0.0,\"bitscore\":2121.0}']})\n",
      "15112158349000 0.0302827\n",
      "defaultdict(<class 'list'>, {})\n",
      "10578510760000 0.0284948\n",
      "defaultdict(<class 'list'>, {})\n",
      "21157021402000 0.0260364\n",
      "defaultdict(<class 'list'>, {})\n",
      "1511216075000 0.024472\n",
      "defaultdict(<class 'list'>, {})\n",
      "15112158440000 0.0235781\n",
      "defaultdict(<class 'list'>, {'resfams': ['{\"target\":\"lcl|595_dot_68|CP016411___Salmonella_enterica_subsp._enterica_serovar_Infantis_strain_N55391_plasmid_pN55391__complete_sequence.____Salmonella_enterica_subsp._enterica_serovar_Infantis_strain_N55391_|_595.68_|strand=1;frame=2;relstart=172412;relend=173710\",\"tacc\":\"-\",\"query\":\"TetA\",\"qacc\":\"RF0127\",\"evalue\":7.4e-212,\"score\":704.5,\"bias\":23.6,\"domain_evalue\":8.5e-212,\"domain_score\":704.3,\"domain_bias\":23.6,\"exp\":1.0,\"reg\":1,\"clu\":0,\"ov\":0,\"env\":1,\"dom\":1,\"rep\":1,\"inc\":1,\"description\":\"-\"}'], 'resfinder': ['{\"qseqid\":\"lcl|595_dot_68|CP016411___Salmonella_enterica_subsp._enterica_serovar_Infantis_strain_N55391_plasmid_pN55391__complete_sequence.____Salmonella_enterica_subsp._enterica_serovar_Infantis_strain_N55391_|_595.68_\",\"sseqid\":\"tet(A)_4_AJ517790\",\"pident\":100.0,\"length\":1200,\"qstart\":172512,\"qend\":173711,\"qlen\":316814,\"sstart\":1,\"send\":1200,\"slen\":1200,\"evalue\":0.0,\"bitscore\":2217.0}']})\n",
      "4533647528000 0.0234663\n",
      "defaultdict(<class 'list'>, {})\n",
      "1511216057000 0.0232428\n",
      "defaultdict(<class 'list'>, {})\n",
      "19645805584000 0.0221254\n",
      "defaultdict(<class 'list'>, {})\n",
      "9067295188000 0.0175439\n",
      "defaultdict(<class 'list'>, {})\n",
      "4533647604000 0.0168734\n",
      "defaultdict(<class 'list'>, {})\n",
      "22668237200000 0.014862\n",
      "defaultdict(<class 'list'>, {'resfams': ['{\"target\":\"lcl|85569_dot_10|CQGI01000034___Salmonella_enterica_subsp._enterica_serovar_Typhimurium_str._DT104_genome_assembly_8490_2_60__scaffold_ERS157217SCcontig000034__whole_genome_shotgun_sequence.____Salmonella_enterica_subsp._enterica_serovar_Typhimurium_str._DT104_strain_CH17_|_85569.10__(1..5104)|strand=-1;frame=1;relstart=4286;relend=3093\",\"tacc\":\"-\",\"query\":\"TetA-G\",\"qacc\":\"RF0129\",\"evalue\":1.4e-262,\"score\":871.6,\"bias\":33.7,\"domain_evalue\":1.5e-262,\"domain_score\":871.4,\"domain_bias\":33.7,\"exp\":1.0,\"reg\":1,\"clu\":0,\"ov\":0,\"env\":1,\"dom\":1,\"rep\":1,\"inc\":1,\"description\":\"-\"}'], 'resfinder': ['{\"qseqid\":\"lcl|85569_dot_10|CQGI01000034___Salmonella_enterica_subsp._enterica_serovar_Typhimurium_str._DT104_genome_assembly_8490_2_60__scaffold_ERS157217SCcontig000034__whole_genome_shotgun_sequence.____Salmonella_enterica_subsp._enterica_serovar_Typhimurium_str._DT104_strain_CH17_|_85569.10__(1..5104)\",\"sseqid\":\"tet(G)_3_S52437\",\"pident\":99.75,\"length\":1182,\"qstart\":3089,\"qend\":4269,\"qlen\":5104,\"sstart\":1182,\"send\":1,\"slen\":1182,\"evalue\":0.0,\"bitscore\":2165.0}']})\n",
      "7556079432000 0.0140798\n",
      "defaultdict(<class 'list'>, {})\n",
      "3022431910000 0.013968\n",
      "defaultdict(<class 'list'>, {'resfams': ['{\"target\":\"lcl|595_dot_68|CP016410___Salmonella_enterica_subsp._enterica_serovar_Infantis_strain_N55391__complete_genome.____Salmonella_enterica_subsp._enterica_serovar_Infantis_strain_N55391_|_595.68_|strand=-1;frame=2;relstart=2731559;relend=2730579\",\"tacc\":\"-\",\"query\":\"vanH\",\"qacc\":\"RF0153\",\"evalue\":0.0,\"score\":53.5,\"bias\":0.0,\"domain_evalue\":0.0,\"domain_score\":51.0,\"domain_bias\":0.0,\"exp\":1.8,\"reg\":1,\"clu\":1,\"ov\":0,\"env\":1,\"dom\":1,\"rep\":1,\"inc\":1,\"description\":\"-\"}']})\n",
      "1511216208000 0.0137446\n",
      "defaultdict(<class 'list'>, {})\n",
      "28713100399000 0.0136328\n",
      "defaultdict(<class 'list'>, {})\n",
      "10578510772000 0.0115097\n",
      "defaultdict(<class 'list'>, {})\n",
      "15112158164000 0.0109509\n",
      "defaultdict(<class 'list'>, {})\n",
      "24179453003000 0.0106157\n",
      "defaultdict(<class 'list'>, {'resfams': ['{\"target\":\"lcl|85569_dot_10|CQGI01000034___Salmonella_enterica_subsp._enterica_serovar_Typhimurium_str._DT104_genome_assembly_8490_2_60__scaffold_ERS157217SCcontig000034__whole_genome_shotgun_sequence.____Salmonella_enterica_subsp._enterica_serovar_Typhimurium_str._DT104_strain_CH17_|_85569.10__(1..5104)|strand=-1;frame=1;relstart=4286;relend=3093\",\"tacc\":\"-\",\"query\":\"TetA-G\",\"qacc\":\"RF0129\",\"evalue\":1.4e-262,\"score\":871.6,\"bias\":33.7,\"domain_evalue\":1.5e-262,\"domain_score\":871.4,\"domain_bias\":33.7,\"exp\":1.0,\"reg\":1,\"clu\":0,\"ov\":0,\"env\":1,\"dom\":1,\"rep\":1,\"inc\":1,\"description\":\"-\"}'], 'resfinder': ['{\"qseqid\":\"lcl|85569_dot_10|CQGI01000034___Salmonella_enterica_subsp._enterica_serovar_Typhimurium_str._DT104_genome_assembly_8490_2_60__scaffold_ERS157217SCcontig000034__whole_genome_shotgun_sequence.____Salmonella_enterica_subsp._enterica_serovar_Typhimurium_str._DT104_strain_CH17_|_85569.10__(1..5104)\",\"sseqid\":\"tet(G)_3_S52437\",\"pident\":99.75,\"length\":1182,\"qstart\":3089,\"qend\":4269,\"qlen\":5104,\"sstart\":1182,\"send\":1,\"slen\":1182,\"evalue\":0.0,\"bitscore\":2165.0}']})\n",
      "\n",
      "Proportion with AMR annotations\n",
      "0.2727\n"
     ]
    }
   ],
   "source": [
    "# Import annotation module\n",
    "src_dir = os.path.join(os.getcwd(), os.pardir, 'annotate')\n",
    "sys.path.append(src_dir)\n",
    "from panseqannot import annot\n",
    "\n",
    "ann = annot.PanseqAnnot(config.S['panseqdir'])\n",
    "rfi = pd.DataFrame(data=rfc.feature_importances_[rfc.feature_importances_ > 0.01], \n",
    "                   index=data.locus_index[rfc.feature_importances_ > 0.01],\n",
    "                   columns=['importance'])\n",
    "rfi.sort_values('importance', ascending=False, inplace=True)\n",
    "xbi = pd.DataFrame(data=xbc.feature_importances_[xbc.feature_importances_ > 0.01], \n",
    "                   index=data.locus_index[xbc.feature_importances_ > 0.01],\n",
    "                   columns=['importance'])\n",
    "xbi.sort_values('importance', ascending=False, inplace=True)\n",
    "\n",
    "\n",
    "print(\"\\nRandomForest\")\n",
    "rfhit=0\n",
    "for i, r in rfi.iterrows():\n",
    "    print(i,r[0])\n",
    "    a = ann.get_annotations(i)\n",
    "    print(a)\n",
    "    if len(a) > 0:\n",
    "        rfhit=rfhit + 1\n",
    "        \n",
    "print(\"\\nProportion with AMR annotations\")\n",
    "print(np.round(rfhit/rfi.shape[0],4))\n",
    "        \n",
    "print(\"\\nXGBoost\")\n",
    "xbhit=0\n",
    "for i, r in xbi.iterrows():\n",
    "    print(i,r[0])\n",
    "    a = ann.get_annotations(i)\n",
    "    print(a)\n",
    "    if len(a) > 0:\n",
    "        xbhit=xbhit + 1\n",
    "        \n",
    "print(\"\\nProportion with AMR annotations\")\n",
    "print(np.round(xbhit/xbi.shape[0],4))\n",
    "    "
   ]
  },
  {
   "cell_type": "code",
   "execution_count": 88,
   "metadata": {
    "collapsed": false
   },
   "outputs": [
    {
     "name": "stdout",
     "output_type": "stream",
     "text": [
      "13600942361000\n",
      "defaultdict(<class 'list'>, {})\n",
      "16623373970000\n",
      "defaultdict(<class 'list'>, {'rgi': ['{\"ORF_ID\":\"lcl|85569_dot_105|CTNA01000070___Salmonella_enterica_subsp._enterica_serovar_Typhimurium_str._DT104_genome_assembly_5275_1_12__scaffold_ERS011629SCcontig000070__whole_genome_shotgun_sequence.____Salmonella_enterica_subsp._enterica_serovar_Typhimurium_str._DT104_strain_V25_|_85569.105__(383..1973)_1\",\"CONTIG\":\"ID=799_1;partial=00;start_type=ATG;rbs_motif=AGGA;rbs_spacer=5-10bp;gc_cont=0.489\",\"START\":180,\"STOP\":1040,\"ORIENTATION\":\"-\",\"CUT_OFF\":\"Perfect\",\"PASS_EVALUE\":null,\"Best_Hit_evalue\":0.0,\"Best_Hit_ARO\":\"TEM-1\",\"Best_Identities\":100.0,\"ARO\":\"ARO:3000873\",\"ARO_name\":\"TEM-1\",\"Model_type\":\"protein homolog model\",\"SNP\":null,\"Best_Hit_ARO_category\":\"antibiotic inactivation enzyme; determinant of beta-lactam resistance\",\"ARO_category\":\"antibiotic inactivation enzyme; determinant of beta-lactam resistance\",\"PASS_bitscore\":500,\"Best_Hit_bitscore\":591.267,\"bit_score\":\"591.267\",\"Predicted_DNA\":\"ATGAGTATTCAACATTTTCGTGTCGCCCTTATTCCCTTTTTTGCGGCATTTTGCCTTCCTGTTTTTGCTCACCCAGAAACGCTGGTGAAAGTAAAAGATGCTGAAGATCAGTTGGGTGCACGAGTGGGTTACATCGAACTGGATCTCAACAGCGGTAAGATCCTTGAGAGTTTTCGCCCCGAAGAACGTTTTCCAATGATGAGCACTTTTAAAGTTCTGCTATGTGGTGCGGTATTATCCCGTGTTGACGCCGGGCAAGAGCAACTCGGTCGCCGCATACACTATTCTCAGAATGACTTGGTTGAGTACTCACCAGTCACAGAAAAGCATCTTACGGATGGCATGACAGTAAGAGAATTATGCAGTGCTGCCATAACCATGAGTGATAACACTGCTGCCAACTTACTTCTGACAACGATCGGAGGACCGAAGGAGCTAACCGCTTTTTTGCACAACATGGGGGATCATGTAACTCGCCTTGATCGTTGGGAACCGGAGCTGAATGAAGCCATACCAAACGACGAGCGTGACACCACGATGCCTGCAGCAATGGCAACAACGTTGCGCAAACTATTAACTGGCGAACTACTTACTCTAGCTTCCCGGCAACAATTAATAGACTGGATGGAGGCGGATAAAGTTGCAGGACCACTTCTGCGCTCGGCCCTTCCGGCTGGCTGGTTTATTGCTGATAAATCTGGAGCCGGTGAGCGTGGGTCTCGCGGTATCATTGCAGCACTGGGGCCAGATGGTAAGCCCTCCCGTATCGTAGTTATCTACACGACGGGGAGTCAGGCAACTATGGATGAACGAAATAGACAGATCGCTGAGATAGGTGCCTCACTGATTAAGCATTGGTAA\",\"Predicted_Protein\":\"MSIQHFRVALIPFFAAFCLPVFAHPETLVKVKDAEDQLGARVGYIELDLNSGKILESFRPEERFPMMSTFKVLLCGAVLSRVDAGQEQLGRRIHYSQNDLVEYSPVTEKHLTDGMTVRELCSAAITMSDNTAANLLLTTIGGPKELTAFLHNMGDHVTRLDRWEPELNEAIPNDERDTTMPAAMATTLRKLLTGELLTLASRQQLIDWMEADKVAGPLLRSALPAGWFIADKSGAGERGSRGIIAALGPDGKPSRIVVIYTTGSQATMDERNRQIAEIGASLIKHW\",\"CARD_Protein_Sequence\":\"MSIQHFRVALIPFFAAFCLPVFAHPETLVKVKDAEDQLGARVGYIELDLNSGKILESFRPEERFPMMSTFKVLLCGAVLSRVDAGQEQLGRRIHYSQNDLVEYSPVTEKHLTDGMTVRELCSAAITMSDNTAANLLLTTIGGPKELTAFLHNMGDHVTRLDRWEPELNEAIPNDERDTTMPAAMATTLRKLLTGELLTLASRQQLIDWMEADKVAGPLLRSALPAGWFIADKSGAGERGSRGIIAALGPDGKPSRIVVIYTTGSQATMDERNRQIAEIGASLIKHW\",\"LABEL\":\"lcl|85569_dot_105|CTNA01000070___Salmonella_enterica_subsp._enterica_serovar_Typhimurium_str._DT104_genome_assembly_5275_1_12__scaffold_ERS011629SCcontig000070__whole_genome_shotgun_sequence.____Salmonella_enterica_subsp._enterica_serovar_Typhimurium_str._DT104_strain_V25_|_85569.105__(383..1973)_1#181#1041#-1#ID=799_1;partial=00;start_type=ATG;rbs_motif=AGGA;rbs_spacer=5-10bp;gc_cont=0.489\",\"ID\":\"gnl|BL_ORD_ID|2089|hsp_num:0\",\"Model_id\":355}'], 'resfams': ['{\"target\":\"lcl|85569_dot_105|CTNA01000070___Salmonella_enterica_subsp._enterica_serovar_Typhimurium_str._DT104_genome_assembly_5275_1_12__scaffold_ERS011629SCcontig000070__whole_genome_shotgun_sequence.____Salmonella_enterica_subsp._enterica_serovar_Typhimurium_str._DT104_strain_V25_|_85569.105__(383..1973)|strand=-1;frame=1;relstart=1052;relend=180\",\"tacc\":\"-\",\"query\":\"TEM\",\"qacc\":\"RF0126\",\"evalue\":6.4e-203,\"score\":673.3,\"bias\":0.0,\"domain_evalue\":7.2e-203,\"domain_score\":673.1,\"domain_bias\":0.0,\"exp\":1.0,\"reg\":1,\"clu\":0,\"ov\":0,\"env\":1,\"dom\":1,\"rep\":1,\"inc\":1,\"description\":\"-\"}'], 'resfinder': ['{\"qseqid\":\"lcl|85569_dot_105|CTNA01000070___Salmonella_enterica_subsp._enterica_serovar_Typhimurium_str._DT104_genome_assembly_5275_1_12__scaffold_ERS011629SCcontig000070__whole_genome_shotgun_sequence.____Salmonella_enterica_subsp._enterica_serovar_Typhimurium_str._DT104_strain_V25_|_85569.105__(383..1973)\",\"sseqid\":\"blaTEM-1B_1_JF910132\",\"pident\":100.0,\"length\":861,\"qstart\":181,\"qend\":1041,\"qlen\":1591,\"sstart\":861,\"send\":1,\"slen\":861,\"evalue\":0.0,\"bitscore\":1591.0}']})\n",
      "25690669055000\n",
      "defaultdict(<class 'list'>, {})\n",
      "28713100402000\n",
      "defaultdict(<class 'list'>, {'rgi': ['{\"ORF_ID\":\"lcl|85569_dot_10|CQGI01000024___Salmonella_enterica_subsp._enterica_serovar_Typhimurium_str._DT104_genome_assembly_8490_2_60__scaffold_ERS157217SCcontig000024__whole_genome_shotgun_sequence.____Salmonella_enterica_subsp._enterica_serovar_Typhimurium_str._DT104_strain_CH17_|_85569.10__(54618..56061)_1\",\"CONTIG\":\"ID=862_1;partial=00;start_type=ATG;rbs_motif=GGA\\\\/GAG\\\\/AGG;rbs_spacer=5-10bp;gc_cont=0.401\",\"START\":429,\"STOP\":1343,\"ORIENTATION\":\"-\",\"CUT_OFF\":\"Strict\",\"PASS_EVALUE\":null,\"Best_Hit_evalue\":0.0,\"Best_Hit_ARO\":\"CARB-3\",\"Best_Identities\":99.67,\"ARO\":\"ARO:3002242, ARO:3002241, ARO:3002245, ARO:3002243, ARO:3002240, ARO:3002250, ARO:3002246, ARO:3002248\",\"ARO_name\":\"CARB-6, CARB-9, CARB-4, CARB-7, CARB-12, CARB-1, CARB-3, CARB-2\",\"Model_type\":\"protein homolog model\",\"SNP\":null,\"Best_Hit_ARO_category\":\"antibiotic inactivation enzyme; determinant of beta-lactam resistance\",\"ARO_category\":\"antibiotic inactivation enzyme; determinant of beta-lactam resistance\",\"PASS_bitscore\":500,\"Best_Hit_bitscore\":627.861,\"bit_score\":\"627.861, 587.03, 559.681, 520.776, 591.267, 581.252, 510.375, 511.916\",\"Predicted_DNA\":\"ATGCTTTTATATAAAATGTGTGACAATCAAAATTATGGGGTTACTTACATGAAGTTTTTATTGGCATTTTCGCTTTTAATACCATCCGTGGTTTTTGCAAGTAGTTCAAAGTTTCAGCAAGTTGAACAAGACGTTAAGGCAATTGAAGTTTCTCTTTCTGCTCGTATAGGTGTTTCCGTTCTTGATACTCAAAATGGAGAATATTGGGATTACAATGGCAATCAGCGCTTCCCGTTAACAAGTACTTTTAAAACAATAGCTTGCGCTAAATTACTATATGATGCTGAGCAAGGAAAAGTTAATCCCAATAGTACAGTCGAGATTAAGAAAGCAGATCTTGTGACCTATTCCCCTGTAATAGAAAAGCAAGTAGGGCAGGCAATCACACTCGATGATGCGTGCTTCGCAACTATGACTACAAGTGATAATACTGCGGCAAATATCATCCTAAGTGCTGTAGGTGGCCCCAAAGGCGTTACTGATTTTTTAAGACAAATTGGGGACAAAGAGACTCGTCTAGACCGTATTGAGCCTGATTTAAATGAAGGTAAGCTCGGTGATTTGAGGGATACGACAACTCCTAAGGCAATAGCCAGTACTTTGAATAAATTTTTATTTGGTTCCGCGCTATCTGAAATGAACCAGAAAAAATTAGAGTCTTGGATGGTGAACAATCAAGTCACTGGTAATTTACTACGTTCAGTATTGCCGGCGGGATGGAACATTGCGGATCGCTCAGGTGCTGGCGGATTTGGTGCTCGGAGTATTACAGCAGTTGTGTGGAGTGAGCATCAAGCCCCAATTATTGTGAGCATCTATCTAGCTCAAACACAGGCTTCAATGGCAGAGCGAAATGATGCGATTGTTAAAATTGGTCATTCAATTTTTGACGTTTATACATCACAGTCGCGCTGA\",\"Predicted_Protein\":\"MLLYKMCDNQNYGVTYMKFLLAFSLLIPSVVFASSSKFQQVEQDVKAIEVSLSARIGVSVLDTQNGEYWDYNGNQRFPLTSTFKTIACAKLLYDAEQGKVNPNSTVEIKKADLVTYSPVIEKQVGQAITLDDACFATMTTSDNTAANIILSAVGGPKGVTDFLRQIGDKETRLDRIEPDLNEGKLGDLRDTTTPKAIASTLNKFLFGSALSEMNQKKLESWMVNNQVTGNLLRSVLPAGWNIADRSGAGGFGARSITAVVWSEHQAPIIVSIYLAQTQASMAERNDAIVKIGHSIFDVYTSQSR\",\"CARD_Protein_Sequence\":\"MLLYKMCDNQNYGVTYMKFLLAFSLLIPSVVFASSSKFQQVEQDVKAIEVSLSARIGVSVLDTQNGEYWDYNGNQRFPLTSTFKTIACAKLLYDAEQGKVNPNSTVEIKKADLVTYSPVIEKQVGQAITLDDACFATMTTSDNTAANIILSAVGGPKGVTDFLRQIGDKETRLDRIEPDLNEGKLGDLRDTTTPKAIASTLNKLLFGSALSEMNQKKLESWMVNNQVTGNLLRSVLPAGWNIADRSGAGGFGARSITAVVWSEHQAPIIVSIYLAQTQASMAERNDAIVKIGHSIFDVYTSQSR\",\"LABEL\":\"lcl|85569_dot_10|CQGI01000024___Salmonella_enterica_subsp._enterica_serovar_Typhimurium_str._DT104_genome_assembly_8490_2_60__scaffold_ERS157217SCcontig000024__whole_genome_shotgun_sequence.____Salmonella_enterica_subsp._enterica_serovar_Typhimurium_str._DT104_strain_CH17_|_85569.10__(54618..56061)_1#430#1344#-1#ID=862_1;partial=00;start_type=ATG;rbs_motif=GGA\\\\/GAG\\\\/AGG;rbs_spacer=5-10bp;gc_cont=0.401\",\"ID\":\"gnl|BL_ORD_ID|1133|hsp_num:0\",\"Model_id\":467}'], 'resfams': ['{\"target\":\"lcl|85569_dot_10|CQGI01000024___Salmonella_enterica_subsp._enterica_serovar_Typhimurium_str._DT104_genome_assembly_8490_2_60__scaffold_ERS157217SCcontig000024__whole_genome_shotgun_sequence.____Salmonella_enterica_subsp._enterica_serovar_Typhimurium_str._DT104_strain_CH17_|_85569.10__(54618..56061)|strand=-1;frame=1;relstart=1442;relend=429\",\"tacc\":\"-\",\"query\":\"CARB-PSE\",\"qacc\":\"RF0044\",\"evalue\":1e-187,\"score\":623.7,\"bias\":0.5,\"domain_evalue\":1.2e-187,\"domain_score\":623.5,\"domain_bias\":0.5,\"exp\":1.0,\"reg\":1,\"clu\":0,\"ov\":0,\"env\":1,\"dom\":1,\"rep\":1,\"inc\":1,\"description\":\"-\"}'], 'resfinder': ['{\"qseqid\":\"lcl|85569_dot_10|CQGI01000024___Salmonella_enterica_subsp._enterica_serovar_Typhimurium_str._DT104_genome_assembly_8490_2_60__scaffold_ERS157217SCcontig000024__whole_genome_shotgun_sequence.____Salmonella_enterica_subsp._enterica_serovar_Typhimurium_str._DT104_strain_CH17_|_85569.10__(54618..56061)\",\"sseqid\":\"blaCARB-2_1_M69058\",\"pident\":100.0,\"length\":915,\"qstart\":430,\"qend\":1344,\"qlen\":1444,\"sstart\":915,\"send\":1,\"slen\":915,\"evalue\":0.0,\"bitscore\":1690.0}']})\n"
     ]
    }
   ],
   "source": [
    "for l in np.setdiff1d(rfloci,xbloci):\n",
    "    print(l)\n",
    "    print(ann.get_annotations(l))"
   ]
  },
  {
   "cell_type": "code",
   "execution_count": 89,
   "metadata": {
    "collapsed": false
   },
   "outputs": [
    {
     "name": "stdout",
     "output_type": "stream",
     "text": [
      "10578510772000\n",
      "defaultdict(<class 'list'>, {})\n",
      "15112158164000\n",
      "defaultdict(<class 'list'>, {})\n",
      "15112158349000\n",
      "defaultdict(<class 'list'>, {})\n",
      "15112158440000\n",
      "defaultdict(<class 'list'>, {'resfams': ['{\"target\":\"lcl|595_dot_68|CP016411___Salmonella_enterica_subsp._enterica_serovar_Infantis_strain_N55391_plasmid_pN55391__complete_sequence.____Salmonella_enterica_subsp._enterica_serovar_Infantis_strain_N55391_|_595.68_|strand=1;frame=2;relstart=172412;relend=173710\",\"tacc\":\"-\",\"query\":\"TetA\",\"qacc\":\"RF0127\",\"evalue\":7.4e-212,\"score\":704.5,\"bias\":23.6,\"domain_evalue\":8.5e-212,\"domain_score\":704.3,\"domain_bias\":23.6,\"exp\":1.0,\"reg\":1,\"clu\":0,\"ov\":0,\"env\":1,\"dom\":1,\"rep\":1,\"inc\":1,\"description\":\"-\"}'], 'resfinder': ['{\"qseqid\":\"lcl|595_dot_68|CP016411___Salmonella_enterica_subsp._enterica_serovar_Infantis_strain_N55391_plasmid_pN55391__complete_sequence.____Salmonella_enterica_subsp._enterica_serovar_Infantis_strain_N55391_|_595.68_\",\"sseqid\":\"tet(A)_4_AJ517790\",\"pident\":100.0,\"length\":1200,\"qstart\":172512,\"qend\":173711,\"qlen\":316814,\"sstart\":1,\"send\":1200,\"slen\":1200,\"evalue\":0.0,\"bitscore\":2217.0}']})\n",
      "1511216057000\n",
      "defaultdict(<class 'list'>, {})\n",
      "1511216075000\n",
      "defaultdict(<class 'list'>, {})\n",
      "1511216208000\n",
      "defaultdict(<class 'list'>, {})\n",
      "19645805584000\n",
      "defaultdict(<class 'list'>, {})\n",
      "22668237206000\n",
      "defaultdict(<class 'list'>, {})\n",
      "28713100399000\n",
      "defaultdict(<class 'list'>, {})\n",
      "3022431910000\n",
      "defaultdict(<class 'list'>, {'resfams': ['{\"target\":\"lcl|595_dot_68|CP016410___Salmonella_enterica_subsp._enterica_serovar_Infantis_strain_N55391__complete_genome.____Salmonella_enterica_subsp._enterica_serovar_Infantis_strain_N55391_|_595.68_|strand=-1;frame=2;relstart=2731559;relend=2730579\",\"tacc\":\"-\",\"query\":\"vanH\",\"qacc\":\"RF0153\",\"evalue\":0.0,\"score\":53.5,\"bias\":0.0,\"domain_evalue\":0.0,\"domain_score\":51.0,\"domain_bias\":0.0,\"exp\":1.8,\"reg\":1,\"clu\":1,\"ov\":0,\"env\":1,\"dom\":1,\"rep\":1,\"inc\":1,\"description\":\"-\"}']})\n",
      "4533647528000\n",
      "defaultdict(<class 'list'>, {})\n",
      "4533647604000\n",
      "defaultdict(<class 'list'>, {})\n",
      "7556079432000\n",
      "defaultdict(<class 'list'>, {})\n",
      "9067295188000\n",
      "defaultdict(<class 'list'>, {})\n"
     ]
    }
   ],
   "source": [
    "for l in np.setdiff1d(xbloci,rfloci):\n",
    "    print(l)\n",
    "    print(ann.get_annotations(l))"
   ]
  },
  {
   "cell_type": "code",
   "execution_count": 90,
   "metadata": {
    "collapsed": true
   },
   "outputs": [],
   "source": [
    "rfi = pd.DataFrame(data=rffi, index=rfloci, columns=['importance'])"
   ]
  },
  {
   "cell_type": "code",
   "execution_count": 91,
   "metadata": {
    "collapsed": false
   },
   "outputs": [
    {
     "data": {
      "text/html": [
       "<div>\n",
       "<table border=\"1\" class=\"dataframe\">\n",
       "  <thead>\n",
       "    <tr style=\"text-align: right;\">\n",
       "      <th></th>\n",
       "      <th>importance</th>\n",
       "    </tr>\n",
       "  </thead>\n",
       "  <tbody>\n",
       "    <tr>\n",
       "      <th>10578510760000</th>\n",
       "      <td>0.225678</td>\n",
       "    </tr>\n",
       "    <tr>\n",
       "      <th>13600942361000</th>\n",
       "      <td>0.014543</td>\n",
       "    </tr>\n",
       "    <tr>\n",
       "      <th>1511216226000</th>\n",
       "      <td>0.230017</td>\n",
       "    </tr>\n",
       "    <tr>\n",
       "      <th>16623373970000</th>\n",
       "      <td>0.015306</td>\n",
       "    </tr>\n",
       "    <tr>\n",
       "      <th>21157021366000</th>\n",
       "      <td>0.102614</td>\n",
       "    </tr>\n",
       "    <tr>\n",
       "      <th>21157021402000</th>\n",
       "      <td>0.020393</td>\n",
       "    </tr>\n",
       "    <tr>\n",
       "      <th>22668237200000</th>\n",
       "      <td>0.021562</td>\n",
       "    </tr>\n",
       "    <tr>\n",
       "      <th>24179453003000</th>\n",
       "      <td>0.026182</td>\n",
       "    </tr>\n",
       "    <tr>\n",
       "      <th>25690669055000</th>\n",
       "      <td>0.021830</td>\n",
       "    </tr>\n",
       "    <tr>\n",
       "      <th>28713100402000</th>\n",
       "      <td>0.019168</td>\n",
       "    </tr>\n",
       "    <tr>\n",
       "      <th>9067294848000</th>\n",
       "      <td>0.025986</td>\n",
       "    </tr>\n",
       "  </tbody>\n",
       "</table>\n",
       "</div>"
      ],
      "text/plain": [
       "                importance\n",
       "10578510760000    0.225678\n",
       "13600942361000    0.014543\n",
       "1511216226000     0.230017\n",
       "16623373970000    0.015306\n",
       "21157021366000    0.102614\n",
       "21157021402000    0.020393\n",
       "22668237200000    0.021562\n",
       "24179453003000    0.026182\n",
       "25690669055000    0.021830\n",
       "28713100402000    0.019168\n",
       "9067294848000     0.025986"
      ]
     },
     "execution_count": 91,
     "metadata": {},
     "output_type": "execute_result"
    }
   ],
   "source": [
    "rfi"
   ]
  },
  {
   "cell_type": "code",
   "execution_count": 105,
   "metadata": {
    "collapsed": false
   },
   "outputs": [
    {
     "data": {
      "text/plain": [
       "(22, 1)"
      ]
     },
     "execution_count": 105,
     "metadata": {},
     "output_type": "execute_result"
    }
   ],
   "source": [
    "xbi.shape"
   ]
  },
  {
   "cell_type": "code",
   "execution_count": null,
   "metadata": {
    "collapsed": true
   },
   "outputs": [],
   "source": []
  }
 ],
 "metadata": {
  "kernelspec": {
   "display_name": "Python 3",
   "language": "python",
   "name": "python3"
  },
  "language_info": {
   "codemirror_mode": {
    "name": "ipython",
    "version": 3
   },
   "file_extension": ".py",
   "mimetype": "text/x-python",
   "name": "python",
   "nbconvert_exporter": "python",
   "pygments_lexer": "ipython3",
   "version": "3.6.0"
  }
 },
 "nbformat": 4,
 "nbformat_minor": 2
}
