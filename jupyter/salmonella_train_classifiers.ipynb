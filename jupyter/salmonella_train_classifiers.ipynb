{
 "cells": [
  {
   "cell_type": "markdown",
   "metadata": {},
   "source": [
    "<div class=\"alert alert-block alert-info\">\n",
    "__Name__: salmonella_train_classifiers<br/>\n",
    "__Description__: Train and save classifiers for different AMs and serovars<br/>\n",
    "__Author__: Matthew Whiteside matthew dot whiteside at canada dot ca<br/>\n",
    "__Date__: Nov 24, 2017<br/>\n",
    "__TODO__:<br/>\n",
    "</div>"
   ]
  },
  {
   "cell_type": "code",
   "execution_count": 1,
   "metadata": {
    "collapsed": true
   },
   "outputs": [],
   "source": [
    "%load_ext autoreload\n",
    "%autoreload 2"
   ]
  },
  {
   "cell_type": "code",
   "execution_count": 2,
   "metadata": {
    "collapsed": true
   },
   "outputs": [],
   "source": [
    "import numpy as np\n",
    "import pandas as pd\n",
    "import os\n",
    "os.chdir('../pangenome')\n",
    "import utils\n",
    "import config\n",
    "from sklearn.externals import joblib"
   ]
  },
  {
   "cell_type": "code",
   "execution_count": 3,
   "metadata": {
    "collapsed": false
   },
   "outputs": [
    {
     "name": "stdout",
     "output_type": "stream",
     "text": [
      "WARN: OMP_NUM_THREADS=None =>\n",
      "... If you are using openblas if you are using openblas set OMP_NUM_THREADS=1 or risk subprocess calls hanging indefinitely\n"
     ]
    },
    {
     "name": "stderr",
     "output_type": "stream",
     "text": [
      "/home/matt/anaconda3/lib/python3.6/site-packages/sklearn/cross_validation.py:44: DeprecationWarning: This module was deprecated in version 0.18 in favor of the model_selection module into which all the refactored classes and functions are moved. Also note that the interface of the new CV iterators are different from that of this module. This module will be removed in 0.20.\n",
      "  \"This module will be removed in 0.20.\", DeprecationWarning)\n"
     ]
    }
   ],
   "source": [
    "# Load data\n",
    "k = utils.load_salmonella_data(['kentucky'])\n",
    "h = utils.load_salmonella_data(['heidelburg'])\n",
    "s = utils.load_salmonella_data()\n",
    "\n",
    "from hpsklearn import HyperoptEstimator, random_forest, gradient_boosting, xgboost_classification\n",
    "from hyperopt import tpe\n",
    "\n",
    "X_train = s.X_train.toarray()\n",
    "X_test = s.X_test.toarray()"
   ]
  },
  {
   "cell_type": "code",
   "execution_count": 4,
   "metadata": {
    "collapsed": false
   },
   "outputs": [
    {
     "name": "stdout",
     "output_type": "stream",
     "text": [
      "0.950904392765\n",
      "RandomForestClassifier(bootstrap=True, class_weight=None, criterion='gini',\n",
      "            max_depth=None, max_features=None, max_leaf_nodes=None,\n",
      "            min_impurity_split=1e-07, min_samples_leaf=1,\n",
      "            min_samples_split=2, min_weight_fraction_leaf=0.0,\n",
      "            n_estimators=1689, n_jobs=1, oob_score=False, random_state=1,\n",
      "            verbose=False, warm_start=False)\n",
      "0.94315245478\n",
      "XGBClassifier(base_score=0.5, colsample_bylevel=0.5514519580409274,\n",
      "       colsample_bytree=0.7065519766460637, gamma=0.0010150328692782686,\n",
      "       learning_rate=0.0024646084401612625, max_delta_step=0, max_depth=2,\n",
      "       min_child_weight=4, missing=nan, n_estimators=3800, nthread=-1,\n",
      "       objective='binary:logistic', reg_alpha=0.003929129740532806,\n",
      "       reg_lambda=3.1177011951568425, scale_pos_weight=1, seed=3,\n",
      "       silent=True, subsample=0.8749819765404352)\n"
     ]
    },
    {
     "data": {
      "text/plain": [
       "['/media/poolhouse/workspace/l_amr/data/NML/salmonella_superset/ml/amp_xbc.jpkl']"
      ]
     },
     "execution_count": 4,
     "metadata": {},
     "output_type": "execute_result"
    }
   ],
   "source": [
    "# Build classifiers for AMP\n",
    "y_train = s.y_train[\"AMP\"].tolist()\n",
    "y_test = s.y_test[\"AMP\"].tolist()\n",
    "\n",
    "# Random forest\n",
    "rf = HyperoptEstimator( classifier=random_forest('rfc'), preprocessing=[], algo=tpe.suggest, trial_timeout=2000 )\n",
    "rf.fit( X_train, y_train )\n",
    "print(rf.score(X_test, y_test))\n",
    "\n",
    "rfc = rf._best_learner\n",
    "print(rfc)\n",
    "joblib.dump(rfc, config.S['amp_rfc'])\n",
    "\n",
    "# XGBoost\n",
    "xb = HyperoptEstimator( classifier=xgboost_classification('xbc'), preprocessing=[], algo=tpe.suggest, trial_timeout=2000 )\n",
    "xb.fit( X_train, y_train )\n",
    "print(xb.score(X_test, y_test))\n",
    "\n",
    "xbc = xb._best_learner\n",
    "print(xbc)\n",
    "joblib.dump(xbc, config.S['amp_xbc'])\n"
   ]
  },
  {
   "cell_type": "code",
   "execution_count": 5,
   "metadata": {
    "collapsed": false
   },
   "outputs": [
    {
     "name": "stdout",
     "output_type": "stream",
     "text": [
      "0.945736434109\n",
      "RandomForestClassifier(bootstrap=True, class_weight=None, criterion='gini',\n",
      "            max_depth=None, max_features=0.9259071153623142,\n",
      "            max_leaf_nodes=None, min_impurity_split=1e-07,\n",
      "            min_samples_leaf=10, min_samples_split=2,\n",
      "            min_weight_fraction_leaf=0.0, n_estimators=43, n_jobs=1,\n",
      "            oob_score=False, random_state=1, verbose=False,\n",
      "            warm_start=False)\n",
      "0.953488372093\n",
      "XGBClassifier(base_score=0.5, colsample_bylevel=0.6780361274855857,\n",
      "       colsample_bytree=0.6657124787474457, gamma=0.003368089864684531,\n",
      "       learning_rate=0.0003987678655486113, max_delta_step=0, max_depth=8,\n",
      "       min_child_weight=3, missing=nan, n_estimators=5200, nthread=-1,\n",
      "       objective='binary:logistic', reg_alpha=0.21293928632367867,\n",
      "       reg_lambda=1.9530805910194995, scale_pos_weight=1, seed=1,\n",
      "       silent=True, subsample=0.9544818529323787)\n"
     ]
    },
    {
     "data": {
      "text/plain": [
       "['/media/poolhouse/workspace/l_amr/data/NML/salmonella_superset/ml/str_xbc.jpkl']"
      ]
     },
     "execution_count": 5,
     "metadata": {},
     "output_type": "execute_result"
    }
   ],
   "source": [
    "# Build classifiers for STR\n",
    "y_train = s.y_train[\"STR\"].tolist()\n",
    "y_test = s.y_test[\"STR\"].tolist()\n",
    "\n",
    "# Random forest\n",
    "rf = HyperoptEstimator( classifier=random_forest('rfc'), preprocessing=[], algo=tpe.suggest, trial_timeout=2000 )\n",
    "rf.fit( X_train, y_train )\n",
    "print(rf.score(X_test, y_test))\n",
    "\n",
    "rfc = rf._best_learner\n",
    "print(rfc)\n",
    "joblib.dump(rfc, config.S['str_rfc'])\n",
    "\n",
    "# XGBoost\n",
    "xb = HyperoptEstimator( classifier=xgboost_classification('xbc'), preprocessing=[], algo=tpe.suggest, trial_timeout=2000 )\n",
    "xb.fit( X_train, y_train )\n",
    "print(xb.score(X_test, y_test))\n",
    "\n",
    "xbc = xb._best_learner\n",
    "print(xbc)\n",
    "joblib.dump(xbc, config.S['str_xbc'])\n"
   ]
  },
  {
   "cell_type": "code",
   "execution_count": 6,
   "metadata": {
    "collapsed": false
   },
   "outputs": [
    {
     "name": "stdout",
     "output_type": "stream",
     "text": [
      "0.956072351421\n",
      "RandomForestClassifier(bootstrap=True, class_weight=None, criterion='gini',\n",
      "            max_depth=None, max_features=0.4006560541356672,\n",
      "            max_leaf_nodes=None, min_impurity_split=1e-07,\n",
      "            min_samples_leaf=8, min_samples_split=2,\n",
      "            min_weight_fraction_leaf=0.0, n_estimators=2744, n_jobs=1,\n",
      "            oob_score=False, random_state=3, verbose=False,\n",
      "            warm_start=False)\n",
      "0.93023255814\n",
      "XGBClassifier(base_score=0.5, colsample_bylevel=0.578044238227424,\n",
      "       colsample_bytree=0.8644711986233627, gamma=0.0006648632004024493,\n",
      "       learning_rate=0.2562923904560524, max_delta_step=0, max_depth=10,\n",
      "       min_child_weight=3, missing=nan, n_estimators=2400, nthread=-1,\n",
      "       objective='binary:logistic', reg_alpha=0.3694682629682169,\n",
      "       reg_lambda=1.069583798184462, scale_pos_weight=1, seed=4,\n",
      "       silent=True, subsample=0.7018569797217646)\n"
     ]
    },
    {
     "data": {
      "text/plain": [
       "['/media/poolhouse/workspace/l_amr/data/NML/salmonella_superset/ml/tcy_xbc.jpkl']"
      ]
     },
     "execution_count": 6,
     "metadata": {},
     "output_type": "execute_result"
    }
   ],
   "source": [
    "# Build classifiers for TCY\n",
    "y_train = s.y_train[\"TCY\"].tolist()\n",
    "y_test = s.y_test[\"TCY\"].tolist()\n",
    "\n",
    "# Random forest\n",
    "rf = HyperoptEstimator( classifier=random_forest('rfc'), preprocessing=[], algo=tpe.suggest, trial_timeout=2000 )\n",
    "rf.fit( X_train, y_train )\n",
    "print(rf.score(X_test, y_test))\n",
    "\n",
    "rfc = rf._best_learner\n",
    "print(rfc)\n",
    "joblib.dump(rfc, config.S['tcy_rfc'])\n",
    "\n",
    "# XGBoost\n",
    "xb = HyperoptEstimator( classifier=xgboost_classification('xbc'), preprocessing=[], algo=tpe.suggest, trial_timeout=2000 )\n",
    "xb.fit( X_train, y_train )\n",
    "print(xb.score(X_test, y_test))\n",
    "\n",
    "xbc = xb._best_learner\n",
    "print(xbc)\n",
    "joblib.dump(xbc, config.S['tcy_xbc'])"
   ]
  },
  {
   "cell_type": "code",
   "execution_count": null,
   "metadata": {
    "collapsed": true
   },
   "outputs": [],
   "source": []
  }
 ],
 "metadata": {
  "kernelspec": {
   "display_name": "Python 3",
   "language": "python",
   "name": "python3"
  },
  "language_info": {
   "codemirror_mode": {
    "name": "ipython",
    "version": 3
   },
   "file_extension": ".py",
   "mimetype": "text/x-python",
   "name": "python",
   "nbconvert_exporter": "python",
   "pygments_lexer": "ipython3",
   "version": "3.6.0"
  }
 },
 "nbformat": 4,
 "nbformat_minor": 2
}
