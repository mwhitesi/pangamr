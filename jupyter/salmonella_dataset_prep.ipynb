{
 "cells": [
  {
   "cell_type": "markdown",
   "metadata": {},
   "source": [
    "<div class=\"alert alert-block alert-info\">\n",
    "__Name__: salmonella_dataset_prep<br/>\n",
    "__Description__: Parse and save dataset objects<br/>\n",
    "__Author__: Matthew Whiteside matthew dot whiteside at canada dot ca<br/>\n",
    "__Date__: Nov 21, 2017<br/>\n",
    "__TODO__:<br/>\n",
    "</div>"
   ]
  },
  {
   "cell_type": "code",
   "execution_count": 1,
   "metadata": {
    "collapsed": false
   },
   "outputs": [],
   "source": [
    "%load_ext autoreload\n",
    "%autoreload 2"
   ]
  },
  {
   "cell_type": "code",
   "execution_count": 2,
   "metadata": {
    "collapsed": true
   },
   "outputs": [],
   "source": [
    "import numpy as np\n",
    "import pandas as pd\n",
    "from sklearn.externals import joblib\n",
    "import os\n",
    "os.chdir('../pangenome')\n",
    "import re\n",
    "import utils\n",
    "import config"
   ]
  },
  {
   "cell_type": "code",
   "execution_count": 3,
   "metadata": {
    "collapsed": false
   },
   "outputs": [],
   "source": [
    "# Load Metadata\n",
    "\n",
    "amr_list1 = [\"AMC\",\"AMP\",\"AZM\",\"FOX\",\"CRO\",\"TIO\",\"NAL\",\"STR\",\"SOX\",\"TCY\",\"SXT\"]\n",
    "\n",
    "# Heidelburg\n",
    "metadatafile = '/media/poolhouse/workspace/l_amr/data/NML/heidelburg_james/SVM_Heidelberg_AMR_Data.csv'\n",
    "heidelburg_df = pd.read_table(metadatafile)\n",
    "heidelburg_amr_df = heidelburg_df[amr_list1]\n",
    "heidelburg_sample_index = heidelburg_df[\"SRA_Accession\"]\n",
    "\n",
    "# Kentucky\n",
    "metadatafile = '/media/poolhouse/workspace/l_amr/data/NML/kentucky_james/SK_SVM_Dataset.csv'\n",
    "kentucky_df = pd.read_table(metadatafile)\n",
    "kentucky_amr_df = kentucky_df[amr_list1]\n",
    "kentucky_sample_index = kentucky_df[\"SRA_Accession\"]\n",
    "\n",
    "# Typhimurium str. DT104\n",
    "metadatafile = '/home/matt/workspace/l_amr/patric_tools/data/salmonella/amr.csv'\n",
    "dt104_df = pd.read_table(metadatafile, dtype={'genome_id': str})\n",
    "dt104_df = dt104_df[['genome_id','antibiotic','resistant_phenotype']]\n",
    "\n",
    "dt104_df['genome_id'] = dt104_df['genome_id'].apply(lambda x: re.sub(r'(\\d+)\\.(\\d+)',r'\\1_dot_\\2',str(x)))\n",
    "dt104_df['resistant_phenotype'] = dt104_df['resistant_phenotype'].apply(lambda x: 1 if x == 'Resistant' else 0)\n",
    "amr_name_replacements = {\n",
    "    'antibiotic': {\n",
    "        'ampicillin': 'AMP',\n",
    "        'chloramphenicol': 'CHL',\n",
    "        'gentamicin': 'GEN',\n",
    "        'kanamycin': 'KAN',\n",
    "        'nalidixic acid': 'NAL',\n",
    "        'spectinomycin': 'SPC',\n",
    "        'streptomycin': 'STR',\n",
    "        'tetracycline': 'TCY',\n",
    "        'trimethoprim': 'SXT'\n",
    "    }\n",
    "}\n",
    "# Sulphonamides is ambiguous\n",
    "dt104_df = dt104_df.replace(amr_name_replacements)\n",
    "dt104_df = dt104_df.pivot_table(index='genome_id', columns='antibiotic', values='resistant_phenotype', aggfunc='first')\n",
    "\n",
    "# Some of these drugs have missing results\n",
    "# The drugs with missing values also happen to not overlap with other salmonella serovar\n",
    "# datasets, so goodbye\n",
    "removecols = np.where(dt104_df.isnull().apply(sum) >= 1)[0].tolist()\n",
    "keepcols = np.setdiff1d(np.arange(dt104_df.shape[1]),removecols)\n",
    "dt104_df = dt104_df.ix[:,keepcols]\n",
    "\n",
    "# Full amr set\n",
    "amr_df = pd.concat([heidelburg_amr_df,kentucky_amr_df,dt104_df], axis=0, ignore_index=True)\n",
    "\n",
    "# Add sample names strain\n",
    "amr_df.loc[:,'id'] = pd.Series(np.concatenate((heidelburg_sample_index, kentucky_sample_index, dt104_df.index.values)), index=amr_df.index)\n",
    "amr_df = amr_df.set_index('id')\n",
    "\n",
    "# Serovar\n",
    "serovar_index = pd.Series(\n",
    "    np.concatenate(\n",
    "        (['heidelburg'] * len(heidelburg_sample_index), \n",
    "         ['kentucky'] * len(kentucky_sample_index),\n",
    "         ['typhimurium str. DT104'] * len(dt104_df.index.values))), index=amr_df.index)"
   ]
  },
  {
   "cell_type": "code",
   "execution_count": 4,
   "metadata": {
    "collapsed": false
   },
   "outputs": [
    {
     "name": "stdout",
     "output_type": "stream",
     "text": [
      "CPU times: user 256 ms, sys: 1.54 s, total: 1.8 s\n",
      "Wall time: 89.2 ms\n"
     ]
    },
    {
     "data": {
      "image/png": "[encoded data removed]",
      "text/plain": [
       "<matplotlib.figure.Figure at 0x7f6824821be0>"
      ]
     },
     "metadata": {},
     "output_type": "display_data"
    },
    {
     "name": "stdout",
     "output_type": "stream",
     "text": [
      "0    215\n",
      "1     39\n",
      "3     34\n",
      "2     28\n",
      "4     26\n",
      "dtype: int64\n"
     ]
    }
   ],
   "source": [
    "# Test/Train status\n",
    "\n",
    "# Need to compute DT104 split that has roughly the same amr resistant/susceptible proportions\n",
    "\n",
    "# Separate into groups of broadly, moderately and not susceptible to all AM durgs.\n",
    "from sklearn.manifold import MDS\n",
    "from sklearn.metrics.pairwise import pairwise_distances\n",
    "from sklearn.cluster import KMeans\n",
    "import matplotlib.pyplot as plt\n",
    "\n",
    "%matplotlib inline\n",
    "\n",
    "X = dt104_df.as_matrix()\n",
    "\n",
    "# MDS decomposition for visualization\n",
    "D = pairwise_distances(X, metric='hamming')\n",
    "mds =  MDS(n_components=2, random_state=3489, dissimilarity='precomputed', n_jobs=4)\n",
    "D_mds2 = mds.fit_transform(D)\n",
    "N = D_mds2.shape[0]\n",
    "\n",
    "# Assign genomes to clonal groups/clusters based on pangenome distritribution\n",
    "km = KMeans(n_clusters=5)\n",
    "%time km.fit(D)\n",
    "drug_clusters = km.labels_.tolist()\n",
    "\n",
    "#fig = plt.figure(figsize=(14, 14), dpi= 80, facecolor='w', edgecolor='k')\n",
    "#ax = Axes3D(fig)\n",
    "colours = drug_clusters\n",
    "plt.scatter(D_mds2[:, 0], D_mds2[:, 1], c=colours)\n",
    "\n",
    "plt.show()\n",
    "\n",
    "print(pd.Series(drug_clusters).value_counts())\n",
    "\n",
    "from sklearn.model_selection import StratifiedShuffleSplit\n",
    "spliter = StratifiedShuffleSplit(n_splits=1, test_size=0.5, random_state=3288)\n",
    "train_index, test_index = next(spliter.split(X, drug_clusters))\n",
    "tt_index = ['Training'] * X.shape[0]\n",
    "tt_index = pd.Series(tt_index, index=dt104_df.index)\n",
    "tt_index.ix[test_index] = 'Validation'\n",
    "\n",
    "dataset_index = pd.Series(\n",
    "    np.concatenate(\n",
    "        (heidelburg_df['Dataset'], \n",
    "         kentucky_df['Dataset'],\n",
    "         tt_index)), index=amr_df.index)"
   ]
  },
  {
   "cell_type": "code",
   "execution_count": 5,
   "metadata": {
    "collapsed": false
   },
   "outputs": [
    {
     "name": "stdout",
     "output_type": "stream",
     "text": [
      "Correlated Pair: 0:AMC, 3:CRO r: 0.988718414192881\n",
      "Correlated Pair: 0:AMC, 9:TIO r: 0.9943570690186807\n",
      "Correlated Pair: 3:CRO, 9:TIO r: 0.9943293460654471\n"
     ]
    }
   ],
   "source": [
    "# Filter amr set\n",
    "amr_list = list(amr_df.columns.values)\n",
    "\n",
    "# Insufficient data\n",
    "valid = ~np.apply_along_axis(lambda c: sum(c == 0) < 30 or sum(c == 1) < 30, 0, amr_df)\n",
    "valid = valid.tolist()\n",
    "amr_df = amr_df.loc[:,valid]\n",
    "amr_list = np.array(amr_list)[valid]\n",
    "\n",
    "# Correlated drugs\n",
    "r = amr_df.corr()\n",
    "x, y = np.where(r > .98)\n",
    "nondiag = x != y\n",
    "x = x[nondiag].tolist()\n",
    "y = y[nondiag].tolist()\n",
    "\n",
    "uppertri = dict()\n",
    "for hc in zip(x,y):\n",
    "    ind = '_'.join([str(i) for i in sorted(hc)])\n",
    "    if not ind in  uppertri:\n",
    "        print(\"Correlated Pair: {}:{}, {}:{} r: {}\".format(hc[0], amr_list[hc[0]], hc[1], amr_list[hc[1]], r.ix[hc[0],hc[1]]))\n",
    "    uppertri[ind] = True\n",
    "\n",
    "\n",
    "# Keep only one correlated drug\n",
    "removecols = [0,11]\n",
    "keepcols = np.setdiff1d(np.arange(amr_df.shape[1]),removecols)\n",
    "amr_df = amr_df.ix[:,keepcols]\n"
   ]
  },
  {
   "cell_type": "code",
   "execution_count": 6,
   "metadata": {
    "collapsed": false
   },
   "outputs": [],
   "source": [
    "# Load pangenome\n",
    "panseq_file = '/media/poolhouse/workspace/l_amr/data/NML/salmonella_superset/panseq/percentIdentityCutoff90__fragmentationSize1000/pan_genome.txt'\n",
    "pg, genome_index, locus_index = utils.read_panseq(panseq_file)"
   ]
  },
  {
   "cell_type": "code",
   "execution_count": 14,
   "metadata": {
    "collapsed": false
   },
   "outputs": [],
   "source": [
    "# Sync genome order between amr and pg matrices\n",
    "if not len(np.setdiff1d(genome_index, amr_df.index)) == 0:\n",
    "    raise Exception(\"Genome index mismatch\")\n",
    "    \n",
    "genord = np.argsort(amr_df.index)\n",
    "amr_df = amr_df.ix[genord,:]\n",
    "dataset_index = dataset_index.loc[amr_df.index]\n",
    "serovar_index = serovar_index.loc[amr_df.index]\n",
    "pgord = np.argsort(genome_index)\n",
    "pg = pg[pgord,:]\n",
    "genome_index = genome_index[pgord]"
   ]
  },
  {
   "cell_type": "code",
   "execution_count": 18,
   "metadata": {
    "collapsed": false
   },
   "outputs": [
    {
     "data": {
      "text/plain": [
       "['/media/poolhouse/workspace/l_amr/data/NML/salmonella_superset/ml/locus_index.jpkl']"
      ]
     },
     "execution_count": 18,
     "metadata": {},
     "output_type": "execute_result"
    }
   ],
   "source": [
    "# Save to file\n",
    "from sklearn.externals import joblib\n",
    "joblib.dump(amr_df, config.S['amr'])\n",
    "joblib.dump(dataset_index, config.S['test_train_index'])\n",
    "joblib.dump(serovar_index, config.S['serovar_index'])\n",
    "joblib.dump(pg, config.S['pg'])\n",
    "joblib.dump(locus_index, config.S['locus_index'])"
   ]
  },
  {
   "cell_type": "code",
   "execution_count": null,
   "metadata": {
    "collapsed": true
   },
   "outputs": [],
   "source": []
  }
 ],
 "metadata": {
  "kernelspec": {
   "display_name": "Python 3",
   "language": "python",
   "name": "python3"
  },
  "language_info": {
   "codemirror_mode": {
    "name": "ipython",
    "version": 3
   },
   "file_extension": ".py",
   "mimetype": "text/x-python",
   "name": "python",
   "nbconvert_exporter": "python",
   "pygments_lexer": "ipython3",
   "version": "3.6.0"
  }
 },
 "nbformat": 4,
 "nbformat_minor": 2
}
