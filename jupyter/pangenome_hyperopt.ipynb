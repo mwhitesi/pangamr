{
 "cells": [
  {
   "cell_type": "markdown",
   "metadata": {},
   "source": [
    "<div class=\"alert alert-block alert-info\">\n",
    "__Name__: pangenome_hyperopt<br/>\n",
    "__Description__: Try automated search for classifier and optimum hyper-parameters<br/>\n",
    "__Author__: Matthew Whiteside matthew dot whiteside at canada dot ca<br/>\n",
    "__Date__: Oct 11, 2017<br/>\n",
    "__TODO__:<br/>\n",
    "</div>"
   ]
  },
  {
   "cell_type": "code",
   "execution_count": 1,
   "metadata": {
    "collapsed": false
   },
   "outputs": [],
   "source": [
    "%load_ext autoreload\n",
    "%autoreload 2"
   ]
  },
  {
   "cell_type": "code",
   "execution_count": 13,
   "metadata": {
    "collapsed": false
   },
   "outputs": [],
   "source": [
    "# Load external libs\n",
    "from hpsklearn import HyperoptEstimator, any_classifier, xgboost_classification, random_forest, gradient_boosting, extra_trees\n",
    "from hyperopt import tpe\n",
    "import numpy as np\n",
    "from sklearn.metrics import f1_score, classification_report"
   ]
  },
  {
   "cell_type": "code",
   "execution_count": 6,
   "metadata": {
    "collapsed": false
   },
   "outputs": [],
   "source": [
    "# Load data\n",
    "import os\n",
    "os.chdir('../pangenome')\n",
    "import config\n",
    "import utils\n",
    "import classify\n",
    "pg, genome_list, locus_list = utils.read_panseq(config.PANSEQ['pangenome_file'])\n",
    "amr,amr_list = utils.read_amr(config.PHENOTYPE['amr_file'], genome_list)\n",
    "annot = utils.read_annot(config.ANNOTATION['blast_file'])"
   ]
  },
  {
   "cell_type": "code",
   "execution_count": 7,
   "metadata": {
    "collapsed": false
   },
   "outputs": [],
   "source": [
    "# Split into train & test for ampicillin\n",
    "d = np.argwhere(amr_list == 'ampicillin').item(0)\n",
    "validrows = ~np.isnan(amr[:,d])\n",
    "validrows\n",
    "X = pg[validrows,:]\n",
    "y = amr[validrows,d]\n",
    "\n",
    "test_size = int( 0.2 * len( y ) )\n",
    "np.random.seed( 21 )\n",
    "indices = np.random.permutation(X.shape[0])\n",
    "X_train = X[ indices[:-test_size]]\n",
    "y_train = y[ indices[:-test_size]]\n",
    "X_test = X[ indices[-test_size:]]\n",
    "y_test = y[ indices[-test_size:]]"
   ]
  },
  {
   "cell_type": "code",
   "execution_count": 8,
   "metadata": {
    "collapsed": false
   },
   "outputs": [],
   "source": [
    "# Define loss function\n",
    "def loss_fn(y_target, y_prediction):\n",
    "    return 1.0 - f1_score(y_target, y_prediction)"
   ]
  },
  {
   "cell_type": "code",
   "execution_count": 12,
   "metadata": {
    "collapsed": false
   },
   "outputs": [
    {
     "name": "stdout",
     "output_type": "stream",
     "text": [
      "0.941176470588\n",
      "{'learner': RandomForestClassifier(bootstrap=False, class_weight=None,\n",
      "            criterion='entropy', max_depth=None,\n",
      "            max_features=0.344782910872078, max_leaf_nodes=None,\n",
      "            min_impurity_split=1e-07, min_samples_leaf=1,\n",
      "            min_samples_split=2, min_weight_fraction_leaf=0.0,\n",
      "            n_estimators=67, n_jobs=1, oob_score=False, random_state=0,\n",
      "            verbose=False, warm_start=False), 'preprocs': (), 'ex_preprocs': ()}\n"
     ]
    },
    {
     "ename": "NameError",
     "evalue": "name 'classification_report' is not defined",
     "output_type": "error",
     "traceback": [
      "\u001b[0;31m---------------------------------------------------------------------------\u001b[0m",
      "\u001b[0;31mNameError\u001b[0m                                 Traceback (most recent call last)",
      "\u001b[0;32m<ipython-input-12-56e64bec07e1>\u001b[0m in \u001b[0;36m<module>\u001b[0;34m()\u001b[0m\n\u001b[1;32m      6\u001b[0m \u001b[0mpredictions\u001b[0m \u001b[0;34m=\u001b[0m \u001b[0mrfc\u001b[0m\u001b[0;34m.\u001b[0m\u001b[0mpredict\u001b[0m\u001b[0;34m(\u001b[0m \u001b[0mX_test\u001b[0m\u001b[0;34m.\u001b[0m\u001b[0mtoarray\u001b[0m\u001b[0;34m(\u001b[0m\u001b[0;34m)\u001b[0m \u001b[0;34m)\u001b[0m\u001b[0;34m\u001b[0m\u001b[0m\n\u001b[1;32m      7\u001b[0m \u001b[0;34m\u001b[0m\u001b[0m\n\u001b[0;32m----> 8\u001b[0;31m \u001b[0mprint\u001b[0m\u001b[0;34m(\u001b[0m\u001b[0mclassification_report\u001b[0m\u001b[0;34m(\u001b[0m\u001b[0my_test\u001b[0m\u001b[0;34m,\u001b[0m \u001b[0mpredictions\u001b[0m\u001b[0;34m)\u001b[0m\u001b[0;34m)\u001b[0m\u001b[0;34m\u001b[0m\u001b[0m\n\u001b[0m",
      "\u001b[0;31mNameError\u001b[0m: name 'classification_report' is not defined"
     ]
    }
   ],
   "source": [
    "# HP search for Random Forest\n",
    "rfc = HyperoptEstimator( classifier=random_forest('rfc'), preprocessing=[], algo=tpe.suggest, loss_fn=loss_fn, trial_timeout=2000)\n",
    "rfc.fit( X_train.toarray(), y_train )\n",
    "print( rfc.score( X_test.toarray(), y_test ) )\n",
    "print( rfc.best_model() )\n",
    "predictions = rfc.predict( X_test.toarray() )\n",
    "print(classification_report(y_test, predictions))"
   ]
  },
  {
   "cell_type": "code",
   "execution_count": 18,
   "metadata": {
    "collapsed": false
   },
   "outputs": [
    {
     "name": "stdout",
     "output_type": "stream",
     "text": [
      "             precision    recall  f1-score   support\n",
      "\n",
      "        0.0       0.82      0.93      0.87        15\n",
      "        1.0       0.98      0.94      0.96        53\n",
      "\n",
      "avg / total       0.95      0.94      0.94        68\n",
      "\n"
     ]
    }
   ],
   "source": [
    "predictions = rfc.predict( X_test.toarray() )\n",
    "print(classification_report(y_test, predictions))"
   ]
  },
  {
   "cell_type": "code",
   "execution_count": 15,
   "metadata": {
    "collapsed": false
   },
   "outputs": [
    {
     "name": "stdout",
     "output_type": "stream",
     "text": [
      "0.955882352941\n",
      "{'learner': ExtraTreesClassifier(bootstrap=False, class_weight=None, criterion='entropy',\n",
      "           max_depth=None, max_features=0.9043349350446708,\n",
      "           max_leaf_nodes=None, min_impurity_split=1e-07,\n",
      "           min_samples_leaf=1, min_samples_split=2,\n",
      "           min_weight_fraction_leaf=0.0, n_estimators=347, n_jobs=1,\n",
      "           oob_score=False, random_state=1, verbose=False,\n",
      "           warm_start=False), 'preprocs': (), 'ex_preprocs': ()}\n",
      "             precision    recall  f1-score   support\n",
      "\n",
      "        0.0       0.88      0.93      0.90        15\n",
      "        1.0       0.98      0.96      0.97        53\n",
      "\n",
      "avg / total       0.96      0.96      0.96        68\n",
      "\n"
     ]
    }
   ],
   "source": [
    "etc = HyperoptEstimator( classifier=extra_trees('etc'), preprocessing=[], algo=tpe.suggest, loss_fn=loss_fn, trial_timeout=2000)\n",
    "etc.fit( X_train.toarray(), y_train )\n",
    "print( etc.score( X_test.toarray(), y_test ) )\n",
    "print( etc.best_model() )\n",
    "predictions = etc.predict( X_test.toarray() )\n",
    "print(classification_report(y_test, predictions))"
   ]
  },
  {
   "cell_type": "code",
   "execution_count": 16,
   "metadata": {
    "collapsed": false
   },
   "outputs": [
    {
     "name": "stdout",
     "output_type": "stream",
     "text": [
      "0.955882352941\n",
      "{'learner': GradientBoostingClassifier(criterion='friedman_mse', init=None,\n",
      "              learning_rate=0.0765306839796841, loss='deviance',\n",
      "              max_depth=None, max_features=0.8356287036892351,\n",
      "              max_leaf_nodes=None, min_impurity_split=1e-07,\n",
      "              min_samples_leaf=5, min_samples_split=2,\n",
      "              min_weight_fraction_leaf=0.0, n_estimators=292,\n",
      "              presort='auto', random_state=2, subsample=1.0, verbose=0,\n",
      "              warm_start=False), 'preprocs': (), 'ex_preprocs': ()}\n",
      "             precision    recall  f1-score   support\n",
      "\n",
      "        0.0       0.88      0.93      0.90        15\n",
      "        1.0       0.98      0.96      0.97        53\n",
      "\n",
      "avg / total       0.96      0.96      0.96        68\n",
      "\n"
     ]
    }
   ],
   "source": [
    "gbc = HyperoptEstimator( classifier=gradient_boosting('gbc'), preprocessing=[], algo=tpe.suggest, loss_fn=loss_fn, trial_timeout=2000)\n",
    "gbc.fit( X_train.toarray(), y_train )\n",
    "print( gbc.score( X_test.toarray(), y_test ) )\n",
    "print( gbc.best_model() )\n",
    "predictions = gbc.predict( X_test.toarray() )\n",
    "print(classification_report(y_test, predictions))"
   ]
  },
  {
   "cell_type": "code",
   "execution_count": 17,
   "metadata": {
    "collapsed": false
   },
   "outputs": [
    {
     "name": "stderr",
     "output_type": "stream",
     "text": [
      "/home/matt/anaconda3/lib/python3.6/site-packages/sklearn/metrics/classification.py:1113: UndefinedMetricWarning: F-score is ill-defined and being set to 0.0 due to no predicted samples.\n",
      "  'precision', 'predicted', average, warn_for)\n"
     ]
    },
    {
     "name": "stdout",
     "output_type": "stream",
     "text": [
      "0.941176470588\n",
      "{'learner': XGBClassifier(base_score=0.5, colsample_bylevel=0.7028641308580167,\n",
      "       colsample_bytree=0.7980603649782954, gamma=0.003328636988102734,\n",
      "       learning_rate=0.00990360535843554, max_delta_step=0, max_depth=10,\n",
      "       min_child_weight=2, missing=nan, n_estimators=4400, nthread=-1,\n",
      "       objective='binary:logistic', reg_alpha=0.0007025873903998169,\n",
      "       reg_lambda=1.0246535683564084, scale_pos_weight=1, seed=1,\n",
      "       silent=True, subsample=0.9738872114011073), 'preprocs': (), 'ex_preprocs': ()}\n",
      "             precision    recall  f1-score   support\n",
      "\n",
      "        0.0       0.82      0.93      0.87        15\n",
      "        1.0       0.98      0.94      0.96        53\n",
      "\n",
      "avg / total       0.95      0.94      0.94        68\n",
      "\n"
     ]
    }
   ],
   "source": [
    "xbc = HyperoptEstimator( classifier=xgboost_classification('xbc'), preprocessing=[], algo=tpe.suggest, loss_fn=loss_fn, trial_timeout=2000)\n",
    "xbc.fit( X_train.toarray(), y_train )\n",
    "print( xbc.score( X_test.toarray(), y_test ) )\n",
    "print( xbc.best_model() )\n",
    "predictions = xbc.predict( X_test.toarray() )\n",
    "print(classification_report(y_test, predictions))"
   ]
  },
  {
   "cell_type": "code",
   "execution_count": null,
   "metadata": {
    "collapsed": true
   },
   "outputs": [],
   "source": []
  }
 ],
 "metadata": {
  "kernelspec": {
   "display_name": "Python 3",
   "language": "python",
   "name": "python3"
  },
  "language_info": {
   "codemirror_mode": {
    "name": "ipython",
    "version": 3
   },
   "file_extension": ".py",
   "mimetype": "text/x-python",
   "name": "python",
   "nbconvert_exporter": "python",
   "pygments_lexer": "ipython3",
   "version": "3.6.0"
  }
 },
 "nbformat": 4,
 "nbformat_minor": 2
}
